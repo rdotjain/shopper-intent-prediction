{
 "cells": [
  {
   "cell_type": "code",
   "execution_count": 45,
   "metadata": {},
   "outputs": [],
   "source": [
    "import pandas as pd\n",
    "import numpy as np\n",
    "\n",
    "from sklearn.model_selection import *\n",
    "from sklearn.metrics import *\n",
    "\n",
    "from sklearn.neighbors import *\n",
    "from sklearn.ensemble import *\n",
    "from sklearn.tree import *\n",
    "from sklearn.linear_model import *\n",
    "from sklearn.svm import *\n",
    "\n",
    "import xgboost as xgb\n",
    "\n",
    "import tensorflow as tf\n",
    "\n",
    "import os\n",
    "import re\n",
    "import ast"
   ]
  },
  {
   "cell_type": "code",
   "execution_count": 46,
   "metadata": {},
   "outputs": [],
   "source": [
    "directory_dataframes = '/Users/nitanshjain/Documents/Projects/Shopper_Intent_Prediction/shopper-intent-prediction/long_trajectory/subsamples/'\n",
    "directory_features = '/Users/nitanshjain/Documents/Projects/Shopper_Intent_Prediction/shopper-intent-prediction/long_trajectory/features/'\n",
    "\n",
    "def get_sample_df(directory=directory_dataframes):\n",
    "    list_dataframes = []\n",
    "    for filename in os.listdir(directory):\n",
    "        f = os.path.join(directory, filename)\n",
    "        if os.path.isfile(f):\n",
    "            list_dataframes.append(pd.read_csv(f))\n",
    "            \n",
    "    return list_dataframes\n",
    "\n",
    "def get_features(regex_str, directory=directory_features):\n",
    "    regex = re.compile('/Users/nitanshjain/Documents/Projects/Shopper_Intent_Prediction/shopper-intent-prediction/long_trajectory/features/{}'.format(regex_str))\n",
    "    \n",
    "    for filename in os.listdir(directory):\n",
    "        f = os.path.join(directory, filename)\n",
    "        if regex.match(f):\n",
    "            file1 = open(f,\"r+\")\n",
    "            feat_list = file1.read().splitlines()\n",
    "            \n",
    "            #txt file converts everything to string, so we need to convert it back to list\n",
    "            for i in range(len(feat_list)):\n",
    "                #adding ; to be used a separator for list\n",
    "                if i<len(feat_list):\n",
    "                    new_val = feat_list[i].replace('y','y;').replace(') ','); ').replace('4 ', '4; ').replace('5 ', '5; ')\n",
    "                    feat_list[i] = new_val\n",
    "                \n",
    "    for val in feat_list:\n",
    "        #separating the string into a list of features\n",
    "        new_val = val.split('; ')\n",
    "        feat_list[feat_list.index(val)] = new_val\n",
    "        \n",
    "    return feat_list\n",
    "\n",
    "list_sample_dataframes = get_sample_df(directory_dataframes)"
   ]
  },
  {
   "cell_type": "code",
   "execution_count": 47,
   "metadata": {},
   "outputs": [],
   "source": [
    "def model_train_predict(model, regex_str, dataframes=list_sample_dataframes):\n",
    "    \n",
    "    feat_list = get_features(regex_str)\n",
    "    \n",
    "    accuracy_list = []\n",
    "    f1_score_list = []\n",
    "    auc_list = []\n",
    "    \n",
    "    for sample, feat in zip(dataframes, feat_list):\n",
    "        feat[len(feat)-1] = feat[len(feat)-1].replace('y;', 'y')\n",
    "        x = sample[feat]\n",
    "        y = sample['conversion_class']\n",
    "        x_train, x_test, y_train, y_test = train_test_split(x, y, test_size=0.2, random_state=42, stratify=y)\n",
    "        # print(x_train.shape, y_train.shape, x_test.shape, y_test.shape)\n",
    "        model.fit(x_train, y_train)\n",
    "        y_pred = model.predict(x_test)\n",
    "        accuracy_list.append(accuracy_score(y_test, y_pred))\n",
    "        f1_score_list.append(f1_score(y_test, y_pred))\n",
    "        auc_list.append(roc_auc_score(y_test, y_pred))\n",
    "\n",
    "    print('Average Accuracy', np.mean(accuracy_list))\n",
    "    print('Average F1 Score', np.mean(f1_score_list))\n",
    "    print('Average AUC', np.mean(auc_list)) \n",
    "    \n",
    "    print('Max Accuracy', max(accuracy_list))\n",
    "    print('Max F1 Score', max(f1_score_list))\n",
    "    print('Max AUC', max(auc_list))  \n",
    "    \n",
    "    best_accuracy_index = accuracy_list.index(max(accuracy_list))\n",
    "    best_f1_score_index = f1_score_list.index(max(f1_score_list))\n",
    "    best_auc_index = auc_list.index(max(auc_list))\n",
    "    \n",
    "    print('Best Sample Index based on Max Accuracy', best_accuracy_index)\n",
    "    print('Best Sample Index based on Max F1 Score', best_f1_score_index)\n",
    "    print('Best Sample Index based on Max AUC', best_auc_index)\n",
    "    \n",
    "    print('Best Features based on Max Accuracy', feat_list[best_accuracy_index])\n",
    "    print('Best Features based on Max F1 Score', feat_list[best_f1_score_index])\n",
    "    print('Best Features based on Max AUC', feat_list[best_auc_index]) \n",
    "    \n",
    "     \n",
    "    \n",
    "    return accuracy_list, f1_score_list, auc_list  \n"
   ]
  },
  {
   "attachments": {},
   "cell_type": "markdown",
   "metadata": {},
   "source": [
    "# Mutual Information"
   ]
  },
  {
   "attachments": {},
   "cell_type": "markdown",
   "metadata": {},
   "source": [
    "## 10 Percentile"
   ]
  },
  {
   "cell_type": "code",
   "execution_count": 48,
   "metadata": {},
   "outputs": [
    {
     "name": "stdout",
     "output_type": "stream",
     "text": [
      "Average Accuracy 0.8086538461538462\n",
      "Average F1 Score 0.8034728121749242\n",
      "Average AUC 0.8086538461538462\n",
      "Max Accuracy 0.8269230769230769\n",
      "Max F1 Score 0.8181818181818181\n",
      "Max AUC 0.8269230769230769\n",
      "Best Sample Index based on Max Accuracy 2\n",
      "Best Sample Index based on Max F1 Score 2\n",
      "Best Sample Index based on Max AUC 2\n",
      "Best Features based on Max Accuracy ['unigram_entropy', 'bigram_entropy', 'trigram_entropy', '(2,)', '(3,)', '(1, 2)', '(2, 1)', '(2, 3)', '(3, 1)', '(1, 4)', '(1, 2, 1)', '(2, 1, 2)', '(2, 3, 1)', '(3, 1, 1)']\n",
      "Best Features based on Max F1 Score ['unigram_entropy', 'bigram_entropy', 'trigram_entropy', '(2,)', '(3,)', '(1, 2)', '(2, 1)', '(2, 3)', '(3, 1)', '(1, 4)', '(1, 2, 1)', '(2, 1, 2)', '(2, 3, 1)', '(3, 1, 1)']\n",
      "Best Features based on Max AUC ['unigram_entropy', 'bigram_entropy', 'trigram_entropy', '(2,)', '(3,)', '(1, 2)', '(2, 1)', '(2, 3)', '(3, 1)', '(1, 4)', '(1, 2, 1)', '(2, 1, 2)', '(2, 3, 1)', '(3, 1, 1)']\n"
     ]
    }
   ],
   "source": [
    "lr = LogisticRegression()\n",
    "accuracy_list_lr_10_mi, f1_score_list_lr_10_mi, auc_list_lr_10_mi = model_train_predict(lr, 'mi_feat_list_10*')"
   ]
  },
  {
   "cell_type": "code",
   "execution_count": 49,
   "metadata": {},
   "outputs": [
    {
     "name": "stdout",
     "output_type": "stream",
     "text": [
      "Average Accuracy 0.8634615384615383\n",
      "Average F1 Score 0.8680182852509262\n",
      "Average AUC 0.8634615384615383\n",
      "Max Accuracy 0.8942307692307693\n",
      "Max F1 Score 0.8942307692307693\n",
      "Max AUC 0.8942307692307693\n",
      "Best Sample Index based on Max Accuracy 3\n",
      "Best Sample Index based on Max F1 Score 3\n",
      "Best Sample Index based on Max AUC 3\n",
      "Best Features based on Max Accuracy ['unigram_entropy', 'bigram_entropy', 'trigram_entropy', '(2,)', '(3,)', '(4,)', '(1, 2)', '(2, 1)', '(2, 3)', '(3, 1)', '(1, 2, 1)', '(2, 3, 1)', '(3, 1, 1)', '(1, 4, 1)']\n",
      "Best Features based on Max F1 Score ['unigram_entropy', 'bigram_entropy', 'trigram_entropy', '(2,)', '(3,)', '(4,)', '(1, 2)', '(2, 1)', '(2, 3)', '(3, 1)', '(1, 2, 1)', '(2, 3, 1)', '(3, 1, 1)', '(1, 4, 1)']\n",
      "Best Features based on Max AUC ['unigram_entropy', 'bigram_entropy', 'trigram_entropy', '(2,)', '(3,)', '(4,)', '(1, 2)', '(2, 1)', '(2, 3)', '(3, 1)', '(1, 2, 1)', '(2, 3, 1)', '(3, 1, 1)', '(1, 4, 1)']\n"
     ]
    }
   ],
   "source": [
    "rfc = RandomForestClassifier()\n",
    "accuracy_list_rfc_10_mi, f1_score_list_rfc_10_mi, auc_list_rfc_10_mi = model_train_predict(rfc, 'mi_feat_list_10')"
   ]
  },
  {
   "cell_type": "code",
   "execution_count": 50,
   "metadata": {},
   "outputs": [
    {
     "name": "stdout",
     "output_type": "stream",
     "text": [
      "Average Accuracy 0.8197115384615385\n",
      "Average F1 Score 0.8240373202310808\n",
      "Average AUC 0.8197115384615385\n",
      "Max Accuracy 0.8413461538461539\n",
      "Max F1 Score 0.8411214953271028\n",
      "Max AUC 0.8413461538461539\n",
      "Best Sample Index based on Max Accuracy 3\n",
      "Best Sample Index based on Max F1 Score 8\n",
      "Best Sample Index based on Max AUC 3\n",
      "Best Features based on Max Accuracy ['unigram_entropy', 'bigram_entropy', 'trigram_entropy', '(2,)', '(3,)', '(4,)', '(1, 2)', '(2, 1)', '(2, 3)', '(3, 1)', '(1, 2, 1)', '(2, 3, 1)', '(3, 1, 1)', '(1, 4, 1)']\n",
      "Best Features based on Max F1 Score ['unigram_entropy', 'bigram_entropy', 'trigram_entropy', '(2,)', '(3,)', '(4,)', '(1, 2)', '(2, 1)', '(2, 3)', '(3, 1)', '(1, 2, 1)', '(2, 3, 1)', '(3, 1, 1)', '(4, 1, 1)']\n",
      "Best Features based on Max AUC ['unigram_entropy', 'bigram_entropy', 'trigram_entropy', '(2,)', '(3,)', '(4,)', '(1, 2)', '(2, 1)', '(2, 3)', '(3, 1)', '(1, 2, 1)', '(2, 3, 1)', '(3, 1, 1)', '(1, 4, 1)']\n"
     ]
    }
   ],
   "source": [
    "svc = SVC()\n",
    "accuracy_list_svm_10_mi, f1_score_list_svm_10_mi, auc_list_svm_10_mi = model_train_predict(svc, 'mi_feat_list_10')"
   ]
  },
  {
   "cell_type": "code",
   "execution_count": 51,
   "metadata": {},
   "outputs": [
    {
     "name": "stdout",
     "output_type": "stream",
     "text": [
      "Average Accuracy 0.8528846153846154\n",
      "Average F1 Score 0.8551270069315375\n",
      "Average AUC 0.8528846153846155\n",
      "Max Accuracy 0.8894230769230769\n",
      "Max F1 Score 0.8878048780487806\n",
      "Max AUC 0.889423076923077\n",
      "Best Sample Index based on Max Accuracy 3\n",
      "Best Sample Index based on Max F1 Score 3\n",
      "Best Sample Index based on Max AUC 3\n",
      "Best Features based on Max Accuracy ['unigram_entropy', 'bigram_entropy', 'trigram_entropy', '(2,)', '(3,)', '(4,)', '(1, 2)', '(2, 1)', '(2, 3)', '(3, 1)', '(1, 2, 1)', '(2, 3, 1)', '(3, 1, 1)', '(1, 4, 1)']\n",
      "Best Features based on Max F1 Score ['unigram_entropy', 'bigram_entropy', 'trigram_entropy', '(2,)', '(3,)', '(4,)', '(1, 2)', '(2, 1)', '(2, 3)', '(3, 1)', '(1, 2, 1)', '(2, 3, 1)', '(3, 1, 1)', '(1, 4, 1)']\n",
      "Best Features based on Max AUC ['unigram_entropy', 'bigram_entropy', 'trigram_entropy', '(2,)', '(3,)', '(4,)', '(1, 2)', '(2, 1)', '(2, 3)', '(3, 1)', '(1, 2, 1)', '(2, 3, 1)', '(3, 1, 1)', '(1, 4, 1)']\n"
     ]
    }
   ],
   "source": [
    "xgbc = xgb.XGBClassifier()\n",
    "accuracy_list_xgb_10_mi, f1_score_list_xgb_10_mi, auc_list_xgb_10_mi = model_train_predict(xgbc, 'mi_feat_list_10')"
   ]
  },
  {
   "attachments": {},
   "cell_type": "markdown",
   "metadata": {},
   "source": [
    "## 20 Percentile"
   ]
  },
  {
   "cell_type": "code",
   "execution_count": 52,
   "metadata": {},
   "outputs": [
    {
     "name": "stdout",
     "output_type": "stream",
     "text": [
      "Average Accuracy 0.8192307692307692\n",
      "Average F1 Score 0.815936348894392\n",
      "Average AUC 0.8192307692307693\n",
      "Max Accuracy 0.8365384615384616\n",
      "Max F1 Score 0.8316831683168318\n",
      "Max AUC 0.8365384615384616\n",
      "Best Sample Index based on Max Accuracy 5\n",
      "Best Sample Index based on Max F1 Score 5\n",
      "Best Sample Index based on Max AUC 5\n",
      "Best Features based on Max Accuracy ['unigram_entropy', 'bigram_entropy', 'trigram_entropy', 'pattern_hvg_4_nodes_entropy', 'pattern_hvg_5_node_entropy', '(2,)', '(3,)', '(4,)', '(1, 1)', '(1, 2)', '(2, 1)', '(2, 3)', '(3, 1)', '(1, 4)', '(4, 1)', '(1, 3)', '(1, 2, 1)', '(2, 1, 2)', '(1, 2, 3)', '(2, 3, 1)', '(3, 1, 2)', '(3, 1, 1)', '(1, 1, 4)', '(1, 4, 1)', '(4, 1, 1)', '(3, 3, 1)', 'E5', 'A5']\n",
      "Best Features based on Max F1 Score ['unigram_entropy', 'bigram_entropy', 'trigram_entropy', 'pattern_hvg_4_nodes_entropy', 'pattern_hvg_5_node_entropy', '(2,)', '(3,)', '(4,)', '(1, 1)', '(1, 2)', '(2, 1)', '(2, 3)', '(3, 1)', '(1, 4)', '(4, 1)', '(1, 3)', '(1, 2, 1)', '(2, 1, 2)', '(1, 2, 3)', '(2, 3, 1)', '(3, 1, 2)', '(3, 1, 1)', '(1, 1, 4)', '(1, 4, 1)', '(4, 1, 1)', '(3, 3, 1)', 'E5', 'A5']\n",
      "Best Features based on Max AUC ['unigram_entropy', 'bigram_entropy', 'trigram_entropy', 'pattern_hvg_4_nodes_entropy', 'pattern_hvg_5_node_entropy', '(2,)', '(3,)', '(4,)', '(1, 1)', '(1, 2)', '(2, 1)', '(2, 3)', '(3, 1)', '(1, 4)', '(4, 1)', '(1, 3)', '(1, 2, 1)', '(2, 1, 2)', '(1, 2, 3)', '(2, 3, 1)', '(3, 1, 2)', '(3, 1, 1)', '(1, 1, 4)', '(1, 4, 1)', '(4, 1, 1)', '(3, 3, 1)', 'E5', 'A5']\n"
     ]
    }
   ],
   "source": [
    "lr = LogisticRegression()\n",
    "accuracy_list_lr_20_mi, f1_score_list_lr_20_mi, auc_list_lr_20_mi = model_train_predict(lr, 'mi_feat_list_20')"
   ]
  },
  {
   "cell_type": "code",
   "execution_count": 53,
   "metadata": {},
   "outputs": [
    {
     "name": "stdout",
     "output_type": "stream",
     "text": [
      "Average Accuracy 0.8692307692307694\n",
      "Average F1 Score 0.8737568302170541\n",
      "Average AUC 0.8692307692307691\n",
      "Max Accuracy 0.9086538461538461\n",
      "Max F1 Score 0.9107981220657276\n",
      "Max AUC 0.9086538461538461\n",
      "Best Sample Index based on Max Accuracy 3\n",
      "Best Sample Index based on Max F1 Score 3\n",
      "Best Sample Index based on Max AUC 3\n",
      "Best Features based on Max Accuracy ['unigram_entropy', 'bigram_entropy', 'trigram_entropy', 'pattern_hvg_4_nodes_entropy', 'pattern_hvg_5_node_entropy', '(2,)', '(3,)', '(4,)', '(1, 1)', '(1, 2)', '(2, 1)', '(2, 3)', '(3, 1)', '(1, 4)', '(4, 1)', '(1, 1, 2)', '(1, 2, 1)', '(2, 1, 2)', '(1, 2, 3)', '(2, 3, 1)', '(3, 1, 1)', '(1, 4, 1)', '(4, 1, 1)', 'C4', 'E5', 'B5', 'G5', 'A5']\n",
      "Best Features based on Max F1 Score ['unigram_entropy', 'bigram_entropy', 'trigram_entropy', 'pattern_hvg_4_nodes_entropy', 'pattern_hvg_5_node_entropy', '(2,)', '(3,)', '(4,)', '(1, 1)', '(1, 2)', '(2, 1)', '(2, 3)', '(3, 1)', '(1, 4)', '(4, 1)', '(1, 1, 2)', '(1, 2, 1)', '(2, 1, 2)', '(1, 2, 3)', '(2, 3, 1)', '(3, 1, 1)', '(1, 4, 1)', '(4, 1, 1)', 'C4', 'E5', 'B5', 'G5', 'A5']\n",
      "Best Features based on Max AUC ['unigram_entropy', 'bigram_entropy', 'trigram_entropy', 'pattern_hvg_4_nodes_entropy', 'pattern_hvg_5_node_entropy', '(2,)', '(3,)', '(4,)', '(1, 1)', '(1, 2)', '(2, 1)', '(2, 3)', '(3, 1)', '(1, 4)', '(4, 1)', '(1, 1, 2)', '(1, 2, 1)', '(2, 1, 2)', '(1, 2, 3)', '(2, 3, 1)', '(3, 1, 1)', '(1, 4, 1)', '(4, 1, 1)', 'C4', 'E5', 'B5', 'G5', 'A5']\n"
     ]
    }
   ],
   "source": [
    "rfc = RandomForestClassifier()\n",
    "accuracy_list_rfc_20_mi, f1_score_list_rfc_20_mi, auc_list_rfc_20_mi = model_train_predict(rfc, 'mi_feat_list_20')"
   ]
  },
  {
   "cell_type": "code",
   "execution_count": 54,
   "metadata": {},
   "outputs": [
    {
     "name": "stdout",
     "output_type": "stream",
     "text": [
      "Average Accuracy 0.8211538461538461\n",
      "Average F1 Score 0.8252295644895268\n",
      "Average AUC 0.8211538461538461\n",
      "Max Accuracy 0.8509615384615384\n",
      "Max F1 Score 0.8502415458937198\n",
      "Max AUC 0.8509615384615385\n",
      "Best Sample Index based on Max Accuracy 7\n",
      "Best Sample Index based on Max F1 Score 7\n",
      "Best Sample Index based on Max AUC 7\n",
      "Best Features based on Max Accuracy ['unigram_entropy', 'bigram_entropy', 'trigram_entropy', 'pattern_hvg_5_node_entropy', '(2,)', '(3,)', '(4,)', '(1, 1)', '(1, 2)', '(2, 1)', '(2, 3)', '(3, 1)', '(1, 4)', '(4, 1)', '(4, 4)', '(1, 1, 2)', '(1, 2, 1)', '(2, 1, 1)', '(2, 1, 2)', '(1, 2, 3)', '(2, 3, 1)', '(3, 1, 1)', '(1, 4, 1)', '(4, 1, 1)', 'E4', 'C4', 'B5', 'L5']\n",
      "Best Features based on Max F1 Score ['unigram_entropy', 'bigram_entropy', 'trigram_entropy', 'pattern_hvg_5_node_entropy', '(2,)', '(3,)', '(4,)', '(1, 1)', '(1, 2)', '(2, 1)', '(2, 3)', '(3, 1)', '(1, 4)', '(4, 1)', '(4, 4)', '(1, 1, 2)', '(1, 2, 1)', '(2, 1, 1)', '(2, 1, 2)', '(1, 2, 3)', '(2, 3, 1)', '(3, 1, 1)', '(1, 4, 1)', '(4, 1, 1)', 'E4', 'C4', 'B5', 'L5']\n",
      "Best Features based on Max AUC ['unigram_entropy', 'bigram_entropy', 'trigram_entropy', 'pattern_hvg_5_node_entropy', '(2,)', '(3,)', '(4,)', '(1, 1)', '(1, 2)', '(2, 1)', '(2, 3)', '(3, 1)', '(1, 4)', '(4, 1)', '(4, 4)', '(1, 1, 2)', '(1, 2, 1)', '(2, 1, 1)', '(2, 1, 2)', '(1, 2, 3)', '(2, 3, 1)', '(3, 1, 1)', '(1, 4, 1)', '(4, 1, 1)', 'E4', 'C4', 'B5', 'L5']\n"
     ]
    }
   ],
   "source": [
    "svc = SVC()\n",
    "accuracy_list_svm_20_mi, f1_score_list_svm_20_mi, auc_list_svm_20_mi = model_train_predict(svc, 'mi_feat_list_20')"
   ]
  },
  {
   "cell_type": "code",
   "execution_count": 55,
   "metadata": {},
   "outputs": [
    {
     "name": "stdout",
     "output_type": "stream",
     "text": [
      "Average Accuracy 0.860096153846154\n",
      "Average F1 Score 0.8615263218649828\n",
      "Average AUC 0.860096153846154\n",
      "Max Accuracy 0.8990384615384616\n",
      "Max F1 Score 0.8985507246376813\n",
      "Max AUC 0.8990384615384615\n",
      "Best Sample Index based on Max Accuracy 3\n",
      "Best Sample Index based on Max F1 Score 3\n",
      "Best Sample Index based on Max AUC 3\n",
      "Best Features based on Max Accuracy ['unigram_entropy', 'bigram_entropy', 'trigram_entropy', 'pattern_hvg_4_nodes_entropy', 'pattern_hvg_5_node_entropy', '(2,)', '(3,)', '(4,)', '(1, 1)', '(1, 2)', '(2, 1)', '(2, 3)', '(3, 1)', '(1, 4)', '(4, 1)', '(1, 1, 2)', '(1, 2, 1)', '(2, 1, 2)', '(1, 2, 3)', '(2, 3, 1)', '(3, 1, 1)', '(1, 4, 1)', '(4, 1, 1)', 'C4', 'E5', 'B5', 'G5', 'A5']\n",
      "Best Features based on Max F1 Score ['unigram_entropy', 'bigram_entropy', 'trigram_entropy', 'pattern_hvg_4_nodes_entropy', 'pattern_hvg_5_node_entropy', '(2,)', '(3,)', '(4,)', '(1, 1)', '(1, 2)', '(2, 1)', '(2, 3)', '(3, 1)', '(1, 4)', '(4, 1)', '(1, 1, 2)', '(1, 2, 1)', '(2, 1, 2)', '(1, 2, 3)', '(2, 3, 1)', '(3, 1, 1)', '(1, 4, 1)', '(4, 1, 1)', 'C4', 'E5', 'B5', 'G5', 'A5']\n",
      "Best Features based on Max AUC ['unigram_entropy', 'bigram_entropy', 'trigram_entropy', 'pattern_hvg_4_nodes_entropy', 'pattern_hvg_5_node_entropy', '(2,)', '(3,)', '(4,)', '(1, 1)', '(1, 2)', '(2, 1)', '(2, 3)', '(3, 1)', '(1, 4)', '(4, 1)', '(1, 1, 2)', '(1, 2, 1)', '(2, 1, 2)', '(1, 2, 3)', '(2, 3, 1)', '(3, 1, 1)', '(1, 4, 1)', '(4, 1, 1)', 'C4', 'E5', 'B5', 'G5', 'A5']\n"
     ]
    }
   ],
   "source": [
    "xgbc = xgb.XGBClassifier()\n",
    "accuracy_list_xgb_20_mi, f1_score_list_xgb_20_mi, auc_list_xgb_20_mi = model_train_predict(xgbc, 'mi_feat_list_20')"
   ]
  },
  {
   "attachments": {},
   "cell_type": "markdown",
   "metadata": {},
   "source": [
    "## 30 Percentile"
   ]
  },
  {
   "cell_type": "code",
   "execution_count": 56,
   "metadata": {},
   "outputs": [
    {
     "name": "stdout",
     "output_type": "stream",
     "text": [
      "Average Accuracy 0.8134615384615385\n",
      "Average F1 Score 0.8105844002059858\n",
      "Average AUC 0.8134615384615385\n",
      "Max Accuracy 0.8317307692307693\n",
      "Max F1 Score 0.8258706467661692\n",
      "Max AUC 0.8317307692307693\n",
      "Best Sample Index based on Max Accuracy 7\n",
      "Best Sample Index based on Max F1 Score 7\n",
      "Best Sample Index based on Max AUC 7\n",
      "Best Features based on Max Accuracy ['unigram_entropy', 'bigram_entropy', 'trigram_entropy', 'pattern_hvg_4_nodes_entropy', 'pattern_hvg_5_node_entropy', '(2,)', '(3,)', '(4,)', '(1, 1)', '(1, 2)', '(2, 1)', '(2, 3)', '(3, 1)', '(6, 3)', '(1, 4)', '(4, 1)', '(1, 1, 1)', '(1, 1, 2)', '(1, 2, 1)', '(2, 1, 1)', '(2, 1, 2)', '(1, 2, 3)', '(2, 3, 1)', '(3, 1, 1)', '(2, 6, 3)', '(6, 3, 1)', '(1, 4, 1)', '(4, 1, 2)', '(2, 1, 4)', '(4, 1, 4)', '(1, 3, 3)', '(3, 2, 1)', '(4, 1, 1)', '(3, 1, 4)', 'A4', 'E4', 'C4', 'F4', 'E5', 'B5', 'A5', 'L5']\n",
      "Best Features based on Max F1 Score ['unigram_entropy', 'bigram_entropy', 'trigram_entropy', 'pattern_hvg_4_nodes_entropy', 'pattern_hvg_5_node_entropy', '(2,)', '(3,)', '(4,)', '(1, 1)', '(1, 2)', '(2, 1)', '(2, 3)', '(3, 1)', '(6, 3)', '(1, 4)', '(4, 1)', '(1, 1, 1)', '(1, 1, 2)', '(1, 2, 1)', '(2, 1, 1)', '(2, 1, 2)', '(1, 2, 3)', '(2, 3, 1)', '(3, 1, 1)', '(2, 6, 3)', '(6, 3, 1)', '(1, 4, 1)', '(4, 1, 2)', '(2, 1, 4)', '(4, 1, 4)', '(1, 3, 3)', '(3, 2, 1)', '(4, 1, 1)', '(3, 1, 4)', 'A4', 'E4', 'C4', 'F4', 'E5', 'B5', 'A5', 'L5']\n",
      "Best Features based on Max AUC ['unigram_entropy', 'bigram_entropy', 'trigram_entropy', 'pattern_hvg_4_nodes_entropy', 'pattern_hvg_5_node_entropy', '(2,)', '(3,)', '(4,)', '(1, 1)', '(1, 2)', '(2, 1)', '(2, 3)', '(3, 1)', '(6, 3)', '(1, 4)', '(4, 1)', '(1, 1, 1)', '(1, 1, 2)', '(1, 2, 1)', '(2, 1, 1)', '(2, 1, 2)', '(1, 2, 3)', '(2, 3, 1)', '(3, 1, 1)', '(2, 6, 3)', '(6, 3, 1)', '(1, 4, 1)', '(4, 1, 2)', '(2, 1, 4)', '(4, 1, 4)', '(1, 3, 3)', '(3, 2, 1)', '(4, 1, 1)', '(3, 1, 4)', 'A4', 'E4', 'C4', 'F4', 'E5', 'B5', 'A5', 'L5']\n"
     ]
    }
   ],
   "source": [
    "lr = LogisticRegression()\n",
    "accuracy_list_lr_30_mi, f1_score_list_lr_30_mi, auc_list_lr_30_mi = model_train_predict(lr, 'mi_feat_list_30')"
   ]
  },
  {
   "cell_type": "code",
   "execution_count": 57,
   "metadata": {},
   "outputs": [
    {
     "name": "stdout",
     "output_type": "stream",
     "text": [
      "Average Accuracy 0.8663461538461537\n",
      "Average F1 Score 0.8708026810450251\n",
      "Average AUC 0.8663461538461537\n",
      "Max Accuracy 0.9038461538461539\n",
      "Max F1 Score 0.9056603773584906\n",
      "Max AUC 0.9038461538461539\n",
      "Best Sample Index based on Max Accuracy 3\n",
      "Best Sample Index based on Max F1 Score 3\n",
      "Best Sample Index based on Max AUC 3\n",
      "Best Features based on Max Accuracy ['unigram_entropy', 'bigram_entropy', 'trigram_entropy', 'pattern_hvg_4_nodes_entropy', 'pattern_hvg_5_node_entropy', '(2,)', '(3,)', '(4,)', '(1, 1)', '(1, 2)', '(2, 1)', '(2, 3)', '(3, 1)', '(1, 4)', '(4, 1)', '(3, 3)', '(1, 6)', '(1, 1, 1)', '(1, 1, 2)', '(1, 2, 1)', '(2, 1, 2)', '(1, 2, 3)', '(2, 3, 1)', '(3, 1, 2)', '(2, 2, 3)', '(3, 1, 1)', '(1, 1, 4)', '(1, 4, 1)', '(4, 1, 1)', '(3, 3, 1)', '(2, 3, 2)', '(3, 1, 4)', 'C4', 'F4', 'E5', 'B5', 'N5', 'Q5', 'V5', 'G5', 'A5', 'P5']\n",
      "Best Features based on Max F1 Score ['unigram_entropy', 'bigram_entropy', 'trigram_entropy', 'pattern_hvg_4_nodes_entropy', 'pattern_hvg_5_node_entropy', '(2,)', '(3,)', '(4,)', '(1, 1)', '(1, 2)', '(2, 1)', '(2, 3)', '(3, 1)', '(1, 4)', '(4, 1)', '(3, 3)', '(1, 6)', '(1, 1, 1)', '(1, 1, 2)', '(1, 2, 1)', '(2, 1, 2)', '(1, 2, 3)', '(2, 3, 1)', '(3, 1, 2)', '(2, 2, 3)', '(3, 1, 1)', '(1, 1, 4)', '(1, 4, 1)', '(4, 1, 1)', '(3, 3, 1)', '(2, 3, 2)', '(3, 1, 4)', 'C4', 'F4', 'E5', 'B5', 'N5', 'Q5', 'V5', 'G5', 'A5', 'P5']\n",
      "Best Features based on Max AUC ['unigram_entropy', 'bigram_entropy', 'trigram_entropy', 'pattern_hvg_4_nodes_entropy', 'pattern_hvg_5_node_entropy', '(2,)', '(3,)', '(4,)', '(1, 1)', '(1, 2)', '(2, 1)', '(2, 3)', '(3, 1)', '(1, 4)', '(4, 1)', '(3, 3)', '(1, 6)', '(1, 1, 1)', '(1, 1, 2)', '(1, 2, 1)', '(2, 1, 2)', '(1, 2, 3)', '(2, 3, 1)', '(3, 1, 2)', '(2, 2, 3)', '(3, 1, 1)', '(1, 1, 4)', '(1, 4, 1)', '(4, 1, 1)', '(3, 3, 1)', '(2, 3, 2)', '(3, 1, 4)', 'C4', 'F4', 'E5', 'B5', 'N5', 'Q5', 'V5', 'G5', 'A5', 'P5']\n"
     ]
    }
   ],
   "source": [
    "rfc = RandomForestClassifier()\n",
    "accuracy_list_rfc_30_mi, f1_score_list_rfc_30_mi, auc_list_rfc_30_mi = model_train_predict(rfc, 'mi_feat_list_30')"
   ]
  },
  {
   "cell_type": "code",
   "execution_count": 58,
   "metadata": {},
   "outputs": [
    {
     "name": "stdout",
     "output_type": "stream",
     "text": [
      "Average Accuracy 0.81875\n",
      "Average F1 Score 0.8221220116526453\n",
      "Average AUC 0.81875\n",
      "Max Accuracy 0.8317307692307693\n",
      "Max F1 Score 0.835680751173709\n",
      "Max AUC 0.8317307692307693\n",
      "Best Sample Index based on Max Accuracy 5\n",
      "Best Sample Index based on Max F1 Score 6\n",
      "Best Sample Index based on Max AUC 6\n",
      "Best Features based on Max Accuracy ['unigram_entropy', 'bigram_entropy', 'trigram_entropy', 'pattern_hvg_4_nodes_entropy', 'pattern_hvg_5_node_entropy', '(2,)', '(3,)', '(4,)', '(1, 1)', '(1, 2)', '(2, 1)', '(2, 3)', '(3, 1)', '(1, 4)', '(4, 1)', '(1, 3)', '(3, 3)', '(1, 1, 1)', '(1, 1, 2)', '(1, 2, 1)', '(2, 1, 1)', '(2, 1, 2)', '(1, 2, 3)', '(2, 3, 1)', '(3, 1, 2)', '(3, 1, 1)', '(1, 1, 4)', '(1, 4, 1)', '(4, 1, 4)', '(3, 3, 3)', '(4, 1, 1)', '(2, 3, 2)', '(3, 1, 4)', '(4, 4, 2)', 'A4', 'D4', 'C4', 'E5', 'B5', 'N5', 'A5', 'L5']\n",
      "Best Features based on Max F1 Score ['unigram_entropy', 'bigram_entropy', 'trigram_entropy', 'pattern_hvg_4_nodes_entropy', 'pattern_hvg_5_node_entropy', '(2,)', '(3,)', '(4,)', '(1, 1)', '(1, 2)', '(2, 1)', '(2, 3)', '(3, 1)', '(1, 4)', '(4, 1)', '(3, 3)', '(1, 1, 1)', '(1, 1, 2)', '(1, 2, 1)', '(2, 1, 1)', '(2, 1, 2)', '(2, 2, 1)', '(1, 2, 3)', '(2, 3, 1)', '(3, 1, 1)', '(1, 1, 4)', '(1, 4, 1)', '(4, 1, 2)', '(2, 1, 4)', '(4, 1, 4)', '(1, 3, 3)', '(4, 1, 1)', '(3, 1, 4)', 'A4', 'E5', 'B5', 'Q5', 'V5', 'A5', 'L5', 'S5', 'M5']\n",
      "Best Features based on Max AUC ['unigram_entropy', 'bigram_entropy', 'trigram_entropy', 'pattern_hvg_4_nodes_entropy', 'pattern_hvg_5_node_entropy', '(2,)', '(3,)', '(4,)', '(1, 1)', '(1, 2)', '(2, 1)', '(2, 3)', '(3, 1)', '(1, 4)', '(4, 1)', '(3, 3)', '(1, 1, 1)', '(1, 1, 2)', '(1, 2, 1)', '(2, 1, 1)', '(2, 1, 2)', '(2, 2, 1)', '(1, 2, 3)', '(2, 3, 1)', '(3, 1, 1)', '(1, 1, 4)', '(1, 4, 1)', '(4, 1, 2)', '(2, 1, 4)', '(4, 1, 4)', '(1, 3, 3)', '(4, 1, 1)', '(3, 1, 4)', 'A4', 'E5', 'B5', 'Q5', 'V5', 'A5', 'L5', 'S5', 'M5']\n"
     ]
    }
   ],
   "source": [
    "svc = SVC()\n",
    "accuracy_list_svm_30_mi, f1_score_list_svm_30_mi, auc_list_svm_30_mi = model_train_predict(svc, 'mi_feat_list_30')"
   ]
  },
  {
   "cell_type": "code",
   "execution_count": 59,
   "metadata": {},
   "outputs": [
    {
     "name": "stdout",
     "output_type": "stream",
     "text": [
      "Average Accuracy 0.8605769230769231\n",
      "Average F1 Score 0.8618692224323132\n",
      "Average AUC 0.8605769230769231\n",
      "Max Accuracy 0.8990384615384616\n",
      "Max F1 Score 0.8995215311004785\n",
      "Max AUC 0.8990384615384616\n",
      "Best Sample Index based on Max Accuracy 3\n",
      "Best Sample Index based on Max F1 Score 3\n",
      "Best Sample Index based on Max AUC 3\n",
      "Best Features based on Max Accuracy ['unigram_entropy', 'bigram_entropy', 'trigram_entropy', 'pattern_hvg_4_nodes_entropy', 'pattern_hvg_5_node_entropy', '(2,)', '(3,)', '(4,)', '(1, 1)', '(1, 2)', '(2, 1)', '(2, 3)', '(3, 1)', '(1, 4)', '(4, 1)', '(3, 3)', '(1, 6)', '(1, 1, 1)', '(1, 1, 2)', '(1, 2, 1)', '(2, 1, 2)', '(1, 2, 3)', '(2, 3, 1)', '(3, 1, 2)', '(2, 2, 3)', '(3, 1, 1)', '(1, 1, 4)', '(1, 4, 1)', '(4, 1, 1)', '(3, 3, 1)', '(2, 3, 2)', '(3, 1, 4)', 'C4', 'F4', 'E5', 'B5', 'N5', 'Q5', 'V5', 'G5', 'A5', 'P5']\n",
      "Best Features based on Max F1 Score ['unigram_entropy', 'bigram_entropy', 'trigram_entropy', 'pattern_hvg_4_nodes_entropy', 'pattern_hvg_5_node_entropy', '(2,)', '(3,)', '(4,)', '(1, 1)', '(1, 2)', '(2, 1)', '(2, 3)', '(3, 1)', '(1, 4)', '(4, 1)', '(3, 3)', '(1, 6)', '(1, 1, 1)', '(1, 1, 2)', '(1, 2, 1)', '(2, 1, 2)', '(1, 2, 3)', '(2, 3, 1)', '(3, 1, 2)', '(2, 2, 3)', '(3, 1, 1)', '(1, 1, 4)', '(1, 4, 1)', '(4, 1, 1)', '(3, 3, 1)', '(2, 3, 2)', '(3, 1, 4)', 'C4', 'F4', 'E5', 'B5', 'N5', 'Q5', 'V5', 'G5', 'A5', 'P5']\n",
      "Best Features based on Max AUC ['unigram_entropy', 'bigram_entropy', 'trigram_entropy', 'pattern_hvg_4_nodes_entropy', 'pattern_hvg_5_node_entropy', '(2,)', '(3,)', '(4,)', '(1, 1)', '(1, 2)', '(2, 1)', '(2, 3)', '(3, 1)', '(1, 4)', '(4, 1)', '(3, 3)', '(1, 6)', '(1, 1, 1)', '(1, 1, 2)', '(1, 2, 1)', '(2, 1, 2)', '(1, 2, 3)', '(2, 3, 1)', '(3, 1, 2)', '(2, 2, 3)', '(3, 1, 1)', '(1, 1, 4)', '(1, 4, 1)', '(4, 1, 1)', '(3, 3, 1)', '(2, 3, 2)', '(3, 1, 4)', 'C4', 'F4', 'E5', 'B5', 'N5', 'Q5', 'V5', 'G5', 'A5', 'P5']\n"
     ]
    }
   ],
   "source": [
    "xgbc = xgb.XGBClassifier()\n",
    "accuracy_list_xgb_30_mi, f1_score_list_xgb_30_mi, auc_list_xgb_30_mi = model_train_predict(xgbc, 'mi_feat_list_30')"
   ]
  },
  {
   "attachments": {},
   "cell_type": "markdown",
   "metadata": {},
   "source": [
    "## 50 Percentile"
   ]
  },
  {
   "cell_type": "code",
   "execution_count": 60,
   "metadata": {},
   "outputs": [
    {
     "name": "stdout",
     "output_type": "stream",
     "text": [
      "Average Accuracy 0.8139423076923077\n",
      "Average F1 Score 0.8109564246820504\n",
      "Average AUC 0.8139423076923077\n",
      "Max Accuracy 0.8317307692307693\n",
      "Max F1 Score 0.8275862068965517\n",
      "Max AUC 0.8317307692307694\n",
      "Best Sample Index based on Max Accuracy 3\n",
      "Best Sample Index based on Max F1 Score 3\n",
      "Best Sample Index based on Max AUC 3\n",
      "Best Features based on Max Accuracy ['unigram_entropy', 'bigram_entropy', 'trigram_entropy', 'pattern_hvg_4_nodes_entropy', 'pattern_hvg_5_node_entropy', '(2,)', '(6,)', '(3,)', '(4,)', '(1, 1)', '(1, 2)', '(2, 1)', '(2, 2)', '(2, 3)', '(3, 1)', '(6, 3)', '(3, 2)', '(1, 4)', '(4, 1)', '(1, 3)', '(3, 3)', '(1, 1, 1)', '(1, 1, 2)', '(1, 2, 1)', '(2, 1, 1)', '(2, 1, 2)', '(1, 2, 2)', '(2, 2, 2)', '(1, 2, 3)', '(2, 3, 1)', '(3, 1, 2)', '(2, 2, 3)', '(3, 1, 1)', '(2, 6, 3)', '(6, 3, 1)', '(1, 1, 4)', '(1, 4, 1)', '(2, 1, 4)', '(1, 3, 3)', '(3, 3, 3)', '(4, 1, 1)', '(3, 3, 1)', '(2, 3, 2)', '(3, 2, 3)', '(1, 6, 2)', '(3, 1, 4)', '(2, 3, 3)', '(2, 1, 6)', '(1, 4, 4)', '(6, 2, 3)', '(2, 3, 4)', 'A4', 'D4', 'E4', 'C4', 'F4', 'E5', 'T5', 'O5', 'B5', 'N5', 'Q5', 'V5', 'G5', 'U5', 'A5', 'L5', 'P5', 'H5']\n",
      "Best Features based on Max F1 Score ['unigram_entropy', 'bigram_entropy', 'trigram_entropy', 'pattern_hvg_4_nodes_entropy', 'pattern_hvg_5_node_entropy', '(2,)', '(6,)', '(3,)', '(4,)', '(1, 1)', '(1, 2)', '(2, 1)', '(2, 2)', '(2, 3)', '(3, 1)', '(6, 3)', '(3, 2)', '(1, 4)', '(4, 1)', '(1, 3)', '(3, 3)', '(1, 1, 1)', '(1, 1, 2)', '(1, 2, 1)', '(2, 1, 1)', '(2, 1, 2)', '(1, 2, 2)', '(2, 2, 2)', '(1, 2, 3)', '(2, 3, 1)', '(3, 1, 2)', '(2, 2, 3)', '(3, 1, 1)', '(2, 6, 3)', '(6, 3, 1)', '(1, 1, 4)', '(1, 4, 1)', '(2, 1, 4)', '(1, 3, 3)', '(3, 3, 3)', '(4, 1, 1)', '(3, 3, 1)', '(2, 3, 2)', '(3, 2, 3)', '(1, 6, 2)', '(3, 1, 4)', '(2, 3, 3)', '(2, 1, 6)', '(1, 4, 4)', '(6, 2, 3)', '(2, 3, 4)', 'A4', 'D4', 'E4', 'C4', 'F4', 'E5', 'T5', 'O5', 'B5', 'N5', 'Q5', 'V5', 'G5', 'U5', 'A5', 'L5', 'P5', 'H5']\n",
      "Best Features based on Max AUC ['unigram_entropy', 'bigram_entropy', 'trigram_entropy', 'pattern_hvg_4_nodes_entropy', 'pattern_hvg_5_node_entropy', '(2,)', '(6,)', '(3,)', '(4,)', '(1, 1)', '(1, 2)', '(2, 1)', '(2, 2)', '(2, 3)', '(3, 1)', '(6, 3)', '(3, 2)', '(1, 4)', '(4, 1)', '(1, 3)', '(3, 3)', '(1, 1, 1)', '(1, 1, 2)', '(1, 2, 1)', '(2, 1, 1)', '(2, 1, 2)', '(1, 2, 2)', '(2, 2, 2)', '(1, 2, 3)', '(2, 3, 1)', '(3, 1, 2)', '(2, 2, 3)', '(3, 1, 1)', '(2, 6, 3)', '(6, 3, 1)', '(1, 1, 4)', '(1, 4, 1)', '(2, 1, 4)', '(1, 3, 3)', '(3, 3, 3)', '(4, 1, 1)', '(3, 3, 1)', '(2, 3, 2)', '(3, 2, 3)', '(1, 6, 2)', '(3, 1, 4)', '(2, 3, 3)', '(2, 1, 6)', '(1, 4, 4)', '(6, 2, 3)', '(2, 3, 4)', 'A4', 'D4', 'E4', 'C4', 'F4', 'E5', 'T5', 'O5', 'B5', 'N5', 'Q5', 'V5', 'G5', 'U5', 'A5', 'L5', 'P5', 'H5']\n"
     ]
    }
   ],
   "source": [
    "lr = LogisticRegression()\n",
    "accuracy_list_lr_50_mi, f1_score_list_lr_50_mi, auc_list_lr_50_mi = model_train_predict(lr, 'mi_feat_list_50')"
   ]
  },
  {
   "cell_type": "code",
   "execution_count": 61,
   "metadata": {},
   "outputs": [
    {
     "name": "stdout",
     "output_type": "stream",
     "text": [
      "Average Accuracy 0.8735576923076923\n",
      "Average F1 Score 0.8781486173160058\n",
      "Average AUC 0.8735576923076923\n",
      "Max Accuracy 0.9086538461538461\n",
      "Max F1 Score 0.9107981220657276\n",
      "Max AUC 0.9086538461538461\n",
      "Best Sample Index based on Max Accuracy 3\n",
      "Best Sample Index based on Max F1 Score 3\n",
      "Best Sample Index based on Max AUC 3\n",
      "Best Features based on Max Accuracy ['unigram_entropy', 'bigram_entropy', 'trigram_entropy', 'pattern_hvg_4_nodes_entropy', 'pattern_hvg_5_node_entropy', '(2,)', '(6,)', '(3,)', '(4,)', '(1, 1)', '(1, 2)', '(2, 1)', '(2, 2)', '(2, 3)', '(3, 1)', '(6, 3)', '(3, 2)', '(1, 4)', '(4, 1)', '(1, 3)', '(3, 3)', '(1, 1, 1)', '(1, 1, 2)', '(1, 2, 1)', '(2, 1, 1)', '(2, 1, 2)', '(1, 2, 2)', '(2, 2, 2)', '(1, 2, 3)', '(2, 3, 1)', '(3, 1, 2)', '(2, 2, 3)', '(3, 1, 1)', '(2, 6, 3)', '(6, 3, 1)', '(1, 1, 4)', '(1, 4, 1)', '(2, 1, 4)', '(1, 3, 3)', '(3, 3, 3)', '(4, 1, 1)', '(3, 3, 1)', '(2, 3, 2)', '(3, 2, 3)', '(1, 6, 2)', '(3, 1, 4)', '(2, 3, 3)', '(2, 1, 6)', '(1, 4, 4)', '(6, 2, 3)', '(2, 3, 4)', 'A4', 'D4', 'E4', 'C4', 'F4', 'E5', 'T5', 'O5', 'B5', 'N5', 'Q5', 'V5', 'G5', 'U5', 'A5', 'L5', 'P5', 'H5']\n",
      "Best Features based on Max F1 Score ['unigram_entropy', 'bigram_entropy', 'trigram_entropy', 'pattern_hvg_4_nodes_entropy', 'pattern_hvg_5_node_entropy', '(2,)', '(6,)', '(3,)', '(4,)', '(1, 1)', '(1, 2)', '(2, 1)', '(2, 2)', '(2, 3)', '(3, 1)', '(6, 3)', '(3, 2)', '(1, 4)', '(4, 1)', '(1, 3)', '(3, 3)', '(1, 1, 1)', '(1, 1, 2)', '(1, 2, 1)', '(2, 1, 1)', '(2, 1, 2)', '(1, 2, 2)', '(2, 2, 2)', '(1, 2, 3)', '(2, 3, 1)', '(3, 1, 2)', '(2, 2, 3)', '(3, 1, 1)', '(2, 6, 3)', '(6, 3, 1)', '(1, 1, 4)', '(1, 4, 1)', '(2, 1, 4)', '(1, 3, 3)', '(3, 3, 3)', '(4, 1, 1)', '(3, 3, 1)', '(2, 3, 2)', '(3, 2, 3)', '(1, 6, 2)', '(3, 1, 4)', '(2, 3, 3)', '(2, 1, 6)', '(1, 4, 4)', '(6, 2, 3)', '(2, 3, 4)', 'A4', 'D4', 'E4', 'C4', 'F4', 'E5', 'T5', 'O5', 'B5', 'N5', 'Q5', 'V5', 'G5', 'U5', 'A5', 'L5', 'P5', 'H5']\n",
      "Best Features based on Max AUC ['unigram_entropy', 'bigram_entropy', 'trigram_entropy', 'pattern_hvg_4_nodes_entropy', 'pattern_hvg_5_node_entropy', '(2,)', '(6,)', '(3,)', '(4,)', '(1, 1)', '(1, 2)', '(2, 1)', '(2, 2)', '(2, 3)', '(3, 1)', '(6, 3)', '(3, 2)', '(1, 4)', '(4, 1)', '(1, 3)', '(3, 3)', '(1, 1, 1)', '(1, 1, 2)', '(1, 2, 1)', '(2, 1, 1)', '(2, 1, 2)', '(1, 2, 2)', '(2, 2, 2)', '(1, 2, 3)', '(2, 3, 1)', '(3, 1, 2)', '(2, 2, 3)', '(3, 1, 1)', '(2, 6, 3)', '(6, 3, 1)', '(1, 1, 4)', '(1, 4, 1)', '(2, 1, 4)', '(1, 3, 3)', '(3, 3, 3)', '(4, 1, 1)', '(3, 3, 1)', '(2, 3, 2)', '(3, 2, 3)', '(1, 6, 2)', '(3, 1, 4)', '(2, 3, 3)', '(2, 1, 6)', '(1, 4, 4)', '(6, 2, 3)', '(2, 3, 4)', 'A4', 'D4', 'E4', 'C4', 'F4', 'E5', 'T5', 'O5', 'B5', 'N5', 'Q5', 'V5', 'G5', 'U5', 'A5', 'L5', 'P5', 'H5']\n"
     ]
    }
   ],
   "source": [
    "rfc = RandomForestClassifier()\n",
    "accuracy_list_rfc_50_mi, f1_score_list_rfc_50_mi, auc_list_rfc_50_mi = model_train_predict(rfc, 'mi_feat_list_50')"
   ]
  },
  {
   "cell_type": "code",
   "execution_count": 62,
   "metadata": {},
   "outputs": [
    {
     "name": "stdout",
     "output_type": "stream",
     "text": [
      "Average Accuracy 0.8182692307692309\n",
      "Average F1 Score 0.8212250583763681\n",
      "Average AUC 0.8182692307692309\n",
      "Max Accuracy 0.8365384615384616\n",
      "Max F1 Score 0.8349514563106797\n",
      "Max AUC 0.8365384615384616\n",
      "Best Sample Index based on Max Accuracy 7\n",
      "Best Sample Index based on Max F1 Score 7\n",
      "Best Sample Index based on Max AUC 7\n",
      "Best Features based on Max Accuracy ['unigram_entropy', 'bigram_entropy', 'trigram_entropy', 'pattern_hvg_4_nodes_entropy', 'pattern_hvg_5_node_entropy', '(2,)', '(6,)', '(3,)', '(4,)', '(1, 1)', '(1, 2)', '(2, 1)', '(2, 2)', '(2, 3)', '(3, 1)', '(3, 2)', '(1, 4)', '(4, 1)', '(1, 3)', '(3, 3)', '(4, 4)', '(6, 6)', '(1, 1, 1)', '(1, 1, 2)', '(1, 2, 1)', '(2, 1, 1)', '(2, 1, 2)', '(1, 2, 2)', '(1, 2, 3)', '(2, 3, 1)', '(3, 1, 1)', '(2, 6, 3)', '(1, 1, 4)', '(1, 4, 1)', '(4, 1, 2)', '(2, 1, 4)', '(4, 1, 4)', '(2, 1, 3)', '(1, 3, 3)', '(3, 3, 3)', '(3, 2, 1)', '(4, 1, 1)', '(3, 3, 1)', '(3, 2, 3)', '(3, 1, 4)', '(2, 3, 3)', '(1, 1, 3)', '(4, 4, 1)', '(6, 2, 3)', '(1, 4, 2)', '(4, 2, 1)', '(2, 6, 6)', '(6, 2, 4)', 'A4', 'D4', 'E4', 'C4', 'F4', 'B4', 'E5', 'O5', 'B5', 'Q5', 'V5', 'G5', 'A5', 'L5', 'P5', 'M5']\n",
      "Best Features based on Max F1 Score ['unigram_entropy', 'bigram_entropy', 'trigram_entropy', 'pattern_hvg_4_nodes_entropy', 'pattern_hvg_5_node_entropy', '(2,)', '(6,)', '(3,)', '(4,)', '(1, 1)', '(1, 2)', '(2, 1)', '(2, 2)', '(2, 3)', '(3, 1)', '(3, 2)', '(1, 4)', '(4, 1)', '(1, 3)', '(3, 3)', '(4, 4)', '(6, 6)', '(1, 1, 1)', '(1, 1, 2)', '(1, 2, 1)', '(2, 1, 1)', '(2, 1, 2)', '(1, 2, 2)', '(1, 2, 3)', '(2, 3, 1)', '(3, 1, 1)', '(2, 6, 3)', '(1, 1, 4)', '(1, 4, 1)', '(4, 1, 2)', '(2, 1, 4)', '(4, 1, 4)', '(2, 1, 3)', '(1, 3, 3)', '(3, 3, 3)', '(3, 2, 1)', '(4, 1, 1)', '(3, 3, 1)', '(3, 2, 3)', '(3, 1, 4)', '(2, 3, 3)', '(1, 1, 3)', '(4, 4, 1)', '(6, 2, 3)', '(1, 4, 2)', '(4, 2, 1)', '(2, 6, 6)', '(6, 2, 4)', 'A4', 'D4', 'E4', 'C4', 'F4', 'B4', 'E5', 'O5', 'B5', 'Q5', 'V5', 'G5', 'A5', 'L5', 'P5', 'M5']\n",
      "Best Features based on Max AUC ['unigram_entropy', 'bigram_entropy', 'trigram_entropy', 'pattern_hvg_4_nodes_entropy', 'pattern_hvg_5_node_entropy', '(2,)', '(6,)', '(3,)', '(4,)', '(1, 1)', '(1, 2)', '(2, 1)', '(2, 2)', '(2, 3)', '(3, 1)', '(3, 2)', '(1, 4)', '(4, 1)', '(1, 3)', '(3, 3)', '(4, 4)', '(6, 6)', '(1, 1, 1)', '(1, 1, 2)', '(1, 2, 1)', '(2, 1, 1)', '(2, 1, 2)', '(1, 2, 2)', '(1, 2, 3)', '(2, 3, 1)', '(3, 1, 1)', '(2, 6, 3)', '(1, 1, 4)', '(1, 4, 1)', '(4, 1, 2)', '(2, 1, 4)', '(4, 1, 4)', '(2, 1, 3)', '(1, 3, 3)', '(3, 3, 3)', '(3, 2, 1)', '(4, 1, 1)', '(3, 3, 1)', '(3, 2, 3)', '(3, 1, 4)', '(2, 3, 3)', '(1, 1, 3)', '(4, 4, 1)', '(6, 2, 3)', '(1, 4, 2)', '(4, 2, 1)', '(2, 6, 6)', '(6, 2, 4)', 'A4', 'D4', 'E4', 'C4', 'F4', 'B4', 'E5', 'O5', 'B5', 'Q5', 'V5', 'G5', 'A5', 'L5', 'P5', 'M5']\n"
     ]
    }
   ],
   "source": [
    "svc = SVC()\n",
    "accuracy_list_svm_50_mi, f1_score_list_svm_50_mi, auc_list_svm_50_mi = model_train_predict(svc, 'mi_feat_list_50')"
   ]
  },
  {
   "cell_type": "code",
   "execution_count": 63,
   "metadata": {},
   "outputs": [
    {
     "name": "stdout",
     "output_type": "stream",
     "text": [
      "Average Accuracy 0.8615384615384617\n",
      "Average F1 Score 0.862320791887624\n",
      "Average AUC 0.8615384615384617\n",
      "Max Accuracy 0.9134615384615384\n",
      "Max F1 Score 0.9126213592233009\n",
      "Max AUC 0.9134615384615385\n",
      "Best Sample Index based on Max Accuracy 3\n",
      "Best Sample Index based on Max F1 Score 3\n",
      "Best Sample Index based on Max AUC 3\n",
      "Best Features based on Max Accuracy ['unigram_entropy', 'bigram_entropy', 'trigram_entropy', 'pattern_hvg_4_nodes_entropy', 'pattern_hvg_5_node_entropy', '(2,)', '(6,)', '(3,)', '(4,)', '(1, 1)', '(1, 2)', '(2, 1)', '(2, 2)', '(2, 3)', '(3, 1)', '(6, 3)', '(3, 2)', '(1, 4)', '(4, 1)', '(1, 3)', '(3, 3)', '(1, 1, 1)', '(1, 1, 2)', '(1, 2, 1)', '(2, 1, 1)', '(2, 1, 2)', '(1, 2, 2)', '(2, 2, 2)', '(1, 2, 3)', '(2, 3, 1)', '(3, 1, 2)', '(2, 2, 3)', '(3, 1, 1)', '(2, 6, 3)', '(6, 3, 1)', '(1, 1, 4)', '(1, 4, 1)', '(2, 1, 4)', '(1, 3, 3)', '(3, 3, 3)', '(4, 1, 1)', '(3, 3, 1)', '(2, 3, 2)', '(3, 2, 3)', '(1, 6, 2)', '(3, 1, 4)', '(2, 3, 3)', '(2, 1, 6)', '(1, 4, 4)', '(6, 2, 3)', '(2, 3, 4)', 'A4', 'D4', 'E4', 'C4', 'F4', 'E5', 'T5', 'O5', 'B5', 'N5', 'Q5', 'V5', 'G5', 'U5', 'A5', 'L5', 'P5', 'H5']\n",
      "Best Features based on Max F1 Score ['unigram_entropy', 'bigram_entropy', 'trigram_entropy', 'pattern_hvg_4_nodes_entropy', 'pattern_hvg_5_node_entropy', '(2,)', '(6,)', '(3,)', '(4,)', '(1, 1)', '(1, 2)', '(2, 1)', '(2, 2)', '(2, 3)', '(3, 1)', '(6, 3)', '(3, 2)', '(1, 4)', '(4, 1)', '(1, 3)', '(3, 3)', '(1, 1, 1)', '(1, 1, 2)', '(1, 2, 1)', '(2, 1, 1)', '(2, 1, 2)', '(1, 2, 2)', '(2, 2, 2)', '(1, 2, 3)', '(2, 3, 1)', '(3, 1, 2)', '(2, 2, 3)', '(3, 1, 1)', '(2, 6, 3)', '(6, 3, 1)', '(1, 1, 4)', '(1, 4, 1)', '(2, 1, 4)', '(1, 3, 3)', '(3, 3, 3)', '(4, 1, 1)', '(3, 3, 1)', '(2, 3, 2)', '(3, 2, 3)', '(1, 6, 2)', '(3, 1, 4)', '(2, 3, 3)', '(2, 1, 6)', '(1, 4, 4)', '(6, 2, 3)', '(2, 3, 4)', 'A4', 'D4', 'E4', 'C4', 'F4', 'E5', 'T5', 'O5', 'B5', 'N5', 'Q5', 'V5', 'G5', 'U5', 'A5', 'L5', 'P5', 'H5']\n",
      "Best Features based on Max AUC ['unigram_entropy', 'bigram_entropy', 'trigram_entropy', 'pattern_hvg_4_nodes_entropy', 'pattern_hvg_5_node_entropy', '(2,)', '(6,)', '(3,)', '(4,)', '(1, 1)', '(1, 2)', '(2, 1)', '(2, 2)', '(2, 3)', '(3, 1)', '(6, 3)', '(3, 2)', '(1, 4)', '(4, 1)', '(1, 3)', '(3, 3)', '(1, 1, 1)', '(1, 1, 2)', '(1, 2, 1)', '(2, 1, 1)', '(2, 1, 2)', '(1, 2, 2)', '(2, 2, 2)', '(1, 2, 3)', '(2, 3, 1)', '(3, 1, 2)', '(2, 2, 3)', '(3, 1, 1)', '(2, 6, 3)', '(6, 3, 1)', '(1, 1, 4)', '(1, 4, 1)', '(2, 1, 4)', '(1, 3, 3)', '(3, 3, 3)', '(4, 1, 1)', '(3, 3, 1)', '(2, 3, 2)', '(3, 2, 3)', '(1, 6, 2)', '(3, 1, 4)', '(2, 3, 3)', '(2, 1, 6)', '(1, 4, 4)', '(6, 2, 3)', '(2, 3, 4)', 'A4', 'D4', 'E4', 'C4', 'F4', 'E5', 'T5', 'O5', 'B5', 'N5', 'Q5', 'V5', 'G5', 'U5', 'A5', 'L5', 'P5', 'H5']\n"
     ]
    }
   ],
   "source": [
    "xgbc = xgb.XGBClassifier()\n",
    "accuracy_list_xgb_50_mi, f1_score_list_xgb_50_mi, auc_list_xgb_50_mi = model_train_predict(xgbc, 'mi_feat_list_50')"
   ]
  },
  {
   "attachments": {},
   "cell_type": "markdown",
   "metadata": {},
   "source": [
    "# mRMR"
   ]
  },
  {
   "attachments": {},
   "cell_type": "markdown",
   "metadata": {},
   "source": [
    "## 10 Percentile"
   ]
  },
  {
   "cell_type": "code",
   "execution_count": 64,
   "metadata": {},
   "outputs": [
    {
     "name": "stdout",
     "output_type": "stream",
     "text": [
      "Average Accuracy 0.8125\n",
      "Average F1 Score 0.8103343383923104\n",
      "Average AUC 0.8125\n",
      "Max Accuracy 0.8365384615384616\n",
      "Max F1 Score 0.8316831683168318\n",
      "Max AUC 0.8365384615384616\n",
      "Best Sample Index based on Max Accuracy 6\n",
      "Best Sample Index based on Max F1 Score 6\n",
      "Best Sample Index based on Max AUC 6\n",
      "Best Features based on Max Accuracy ['(2, 1)', 'pattern_hvg_5_node_entropy', '(3, 1)', '(4, 1, 1)', '(2,)', '(3, 1, 1)', '(4, 1, 2)', '(3,)', '(1, 2)', '(2, 3, 1)', '(1, 2, 1)', 'trigram_entropy', '(4,)', '(2, 3)']\n",
      "Best Features based on Max F1 Score ['(2, 1)', 'pattern_hvg_5_node_entropy', '(3, 1)', '(4, 1, 1)', '(2,)', '(3, 1, 1)', '(4, 1, 2)', '(3,)', '(1, 2)', '(2, 3, 1)', '(1, 2, 1)', 'trigram_entropy', '(4,)', '(2, 3)']\n",
      "Best Features based on Max AUC ['(2, 1)', 'pattern_hvg_5_node_entropy', '(3, 1)', '(4, 1, 1)', '(2,)', '(3, 1, 1)', '(4, 1, 2)', '(3,)', '(1, 2)', '(2, 3, 1)', '(1, 2, 1)', 'trigram_entropy', '(4,)', '(2, 3)']\n"
     ]
    }
   ],
   "source": [
    "lr = LogisticRegression()\n",
    "accuracy_list_lr_10_mrmr, f1_score_list_lr_10_mrmr, auc_list_lr_10_mrmr = model_train_predict(lr, 'mrmr_feat_list_10*')"
   ]
  },
  {
   "cell_type": "code",
   "execution_count": 65,
   "metadata": {},
   "outputs": [
    {
     "name": "stdout",
     "output_type": "stream",
     "text": [
      "Average Accuracy 0.8567307692307693\n",
      "Average F1 Score 0.8598598362488181\n",
      "Average AUC 0.8567307692307693\n",
      "Max Accuracy 0.8846153846153846\n",
      "Max F1 Score 0.8823529411764707\n",
      "Max AUC 0.8846153846153846\n",
      "Best Sample Index based on Max Accuracy 3\n",
      "Best Sample Index based on Max F1 Score 3\n",
      "Best Sample Index based on Max AUC 3\n",
      "Best Features based on Max Accuracy ['(3, 1)', '(4, 4, 4)', '(1, 4, 1)', '(1, 2)', 'pattern_hvg_5_node_entropy', '(3, 1, 1)', '(2, 1)', 'trigram_entropy', '(2, 3)', '(2,)', '(1, 2, 1)', '(1, 1, 2)', '(4, 1, 1)', '(2, 3, 1)']\n",
      "Best Features based on Max F1 Score ['(3, 1)', '(4, 4, 4)', '(1, 4, 1)', '(1, 2)', 'pattern_hvg_5_node_entropy', '(3, 1, 1)', '(2, 1)', 'trigram_entropy', '(2, 3)', '(2,)', '(1, 2, 1)', '(1, 1, 2)', '(4, 1, 1)', '(2, 3, 1)']\n",
      "Best Features based on Max AUC ['(3, 1)', '(4, 4, 4)', '(1, 4, 1)', '(1, 2)', 'pattern_hvg_5_node_entropy', '(3, 1, 1)', '(2, 1)', 'trigram_entropy', '(2, 3)', '(2,)', '(1, 2, 1)', '(1, 1, 2)', '(4, 1, 1)', '(2, 3, 1)']\n"
     ]
    }
   ],
   "source": [
    "rfc = RandomForestClassifier()\n",
    "accuracy_list_rfc_10_mrmr, f1_score_list_rfc_10_mrmr, auc_list_rfc_10_mrmr = model_train_predict(rfc, 'mrmr_feat_list_10')"
   ]
  },
  {
   "cell_type": "code",
   "execution_count": 66,
   "metadata": {},
   "outputs": [
    {
     "name": "stdout",
     "output_type": "stream",
     "text": [
      "Average Accuracy 0.814423076923077\n",
      "Average F1 Score 0.8161212209205118\n",
      "Average AUC 0.814423076923077\n",
      "Max Accuracy 0.8461538461538461\n",
      "Max F1 Score 0.8446601941747574\n",
      "Max AUC 0.8461538461538463\n",
      "Best Sample Index based on Max Accuracy 7\n",
      "Best Sample Index based on Max F1 Score 7\n",
      "Best Sample Index based on Max AUC 7\n",
      "Best Features based on Max Accuracy ['(2, 1)', 'unigram_entropy', '(1, 2, 2)', '(1, 1, 2)', '(3, 1)', 'pattern_hvg_5_node_entropy', '(1, 2)', '(3, 1, 1)', '(4, 1, 1)', '(1, 2, 1)', '(3,)', '(2, 3)', '(2,)', 'trigram_entropy']\n",
      "Best Features based on Max F1 Score ['(2, 1)', 'unigram_entropy', '(1, 2, 2)', '(1, 1, 2)', '(3, 1)', 'pattern_hvg_5_node_entropy', '(1, 2)', '(3, 1, 1)', '(4, 1, 1)', '(1, 2, 1)', '(3,)', '(2, 3)', '(2,)', 'trigram_entropy']\n",
      "Best Features based on Max AUC ['(2, 1)', 'unigram_entropy', '(1, 2, 2)', '(1, 1, 2)', '(3, 1)', 'pattern_hvg_5_node_entropy', '(1, 2)', '(3, 1, 1)', '(4, 1, 1)', '(1, 2, 1)', '(3,)', '(2, 3)', '(2,)', 'trigram_entropy']\n"
     ]
    }
   ],
   "source": [
    "svc = SVC()\n",
    "accuracy_list_svm_10_mrmr, f1_score_list_svm_10_mrmr, auc_list_svm_10_mrmr = model_train_predict(svc, 'mrmr_feat_list_10')"
   ]
  },
  {
   "cell_type": "code",
   "execution_count": 67,
   "metadata": {},
   "outputs": [
    {
     "name": "stdout",
     "output_type": "stream",
     "text": [
      "Average Accuracy 0.8490384615384613\n",
      "Average F1 Score 0.8508873020658629\n",
      "Average AUC 0.8490384615384616\n",
      "Max Accuracy 0.8990384615384616\n",
      "Max F1 Score 0.8985507246376813\n",
      "Max AUC 0.8990384615384615\n",
      "Best Sample Index based on Max Accuracy 3\n",
      "Best Sample Index based on Max F1 Score 3\n",
      "Best Sample Index based on Max AUC 3\n",
      "Best Features based on Max Accuracy ['(3, 1)', '(4, 4, 4)', '(1, 4, 1)', '(1, 2)', 'pattern_hvg_5_node_entropy', '(3, 1, 1)', '(2, 1)', 'trigram_entropy', '(2, 3)', '(2,)', '(1, 2, 1)', '(1, 1, 2)', '(4, 1, 1)', '(2, 3, 1)']\n",
      "Best Features based on Max F1 Score ['(3, 1)', '(4, 4, 4)', '(1, 4, 1)', '(1, 2)', 'pattern_hvg_5_node_entropy', '(3, 1, 1)', '(2, 1)', 'trigram_entropy', '(2, 3)', '(2,)', '(1, 2, 1)', '(1, 1, 2)', '(4, 1, 1)', '(2, 3, 1)']\n",
      "Best Features based on Max AUC ['(3, 1)', '(4, 4, 4)', '(1, 4, 1)', '(1, 2)', 'pattern_hvg_5_node_entropy', '(3, 1, 1)', '(2, 1)', 'trigram_entropy', '(2, 3)', '(2,)', '(1, 2, 1)', '(1, 1, 2)', '(4, 1, 1)', '(2, 3, 1)']\n"
     ]
    }
   ],
   "source": [
    "xgbc = xgb.XGBClassifier()\n",
    "accuracy_list_xgb_10_mrmr, f1_score_list_xgb_10_mrmr, auc_list_xgb_10_mrmr = model_train_predict(xgbc, 'mrmr_feat_list_10')"
   ]
  },
  {
   "attachments": {},
   "cell_type": "markdown",
   "metadata": {},
   "source": [
    "## 20 Percentile"
   ]
  },
  {
   "cell_type": "code",
   "execution_count": 68,
   "metadata": {},
   "outputs": [
    {
     "name": "stdout",
     "output_type": "stream",
     "text": [
      "Average Accuracy 0.820673076923077\n",
      "Average F1 Score 0.8178363568507718\n",
      "Average AUC 0.820673076923077\n",
      "Max Accuracy 0.8317307692307693\n",
      "Max F1 Score 0.8275862068965517\n",
      "Max AUC 0.8317307692307694\n",
      "Best Sample Index based on Max Accuracy 4\n",
      "Best Sample Index based on Max F1 Score 4\n",
      "Best Sample Index based on Max AUC 4\n",
      "Best Features based on Max Accuracy ['(3, 1)', '(1, 4, 1)', '(3, 3)', '(1, 2, 1)', 'pattern_hvg_5_node_entropy', '(2, 1)', 'bigram_entropy', '(3, 1, 1)', '(1, 1, 2)', '(2,)', '(2, 3)', '(1, 2)', 'unigram_entropy', '(4, 1, 1)', '(2, 3, 1)', '(3,)', 'trigram_entropy', '(2, 1, 2)', '(2, 1, 1)', '(4, 1)', '(1, 2, 3)', 'pattern_hvg_4_nodes_entropy', '(4,)', '(6, 3)', '(1, 4)', '(3, 3, 1)', '(2, 1, 4)', '(2, 6, 3)']\n",
      "Best Features based on Max F1 Score ['(3, 1)', '(1, 4, 1)', '(3, 3)', '(1, 2, 1)', 'pattern_hvg_5_node_entropy', '(2, 1)', 'bigram_entropy', '(3, 1, 1)', '(1, 1, 2)', '(2,)', '(2, 3)', '(1, 2)', 'unigram_entropy', '(4, 1, 1)', '(2, 3, 1)', '(3,)', 'trigram_entropy', '(2, 1, 2)', '(2, 1, 1)', '(4, 1)', '(1, 2, 3)', 'pattern_hvg_4_nodes_entropy', '(4,)', '(6, 3)', '(1, 4)', '(3, 3, 1)', '(2, 1, 4)', '(2, 6, 3)']\n",
      "Best Features based on Max AUC ['(3, 1)', '(1, 4, 1)', '(3, 3)', '(1, 2, 1)', 'pattern_hvg_5_node_entropy', '(2, 1)', 'bigram_entropy', '(3, 1, 1)', '(1, 1, 2)', '(2,)', '(2, 3)', '(1, 2)', 'unigram_entropy', '(4, 1, 1)', '(2, 3, 1)', '(3,)', 'trigram_entropy', '(2, 1, 2)', '(2, 1, 1)', '(4, 1)', '(1, 2, 3)', 'pattern_hvg_4_nodes_entropy', '(4,)', '(6, 3)', '(1, 4)', '(3, 3, 1)', '(2, 1, 4)', '(2, 6, 3)']\n"
     ]
    }
   ],
   "source": [
    "lr = LogisticRegression()\n",
    "accuracy_list_lr_20_mrmr, f1_score_list_lr_20_mrmr, auc_list_lr_20_mrmr = model_train_predict(lr, 'mrmr_feat_list_20*')"
   ]
  },
  {
   "cell_type": "code",
   "execution_count": 69,
   "metadata": {},
   "outputs": [
    {
     "name": "stdout",
     "output_type": "stream",
     "text": [
      "Average Accuracy 0.8596153846153847\n",
      "Average F1 Score 0.8636702785162379\n",
      "Average AUC 0.8596153846153847\n",
      "Max Accuracy 0.9038461538461539\n",
      "Max F1 Score 0.9056603773584906\n",
      "Max AUC 0.9038461538461539\n",
      "Best Sample Index based on Max Accuracy 3\n",
      "Best Sample Index based on Max F1 Score 3\n",
      "Best Sample Index based on Max AUC 3\n",
      "Best Features based on Max Accuracy ['(3, 1)', '(4, 4, 4)', '(1, 4, 1)', '(1, 2)', 'pattern_hvg_5_node_entropy', '(3, 1, 1)', '(2, 1)', 'trigram_entropy', '(2, 3)', '(2,)', '(1, 2, 1)', '(1, 1, 2)', '(4, 1, 1)', '(2, 3, 1)', '(3,)', 'bigram_entropy', '(2, 1, 2)', 'unigram_entropy', '(1, 2, 3)', '(4, 1)', 'pattern_hvg_4_nodes_entropy', '(2, 1, 1)', '(1, 4)', '(6, 3)', '(4,)', '(3, 3, 1)', '(1, 3)', '(2, 6, 3)']\n",
      "Best Features based on Max F1 Score ['(3, 1)', '(4, 4, 4)', '(1, 4, 1)', '(1, 2)', 'pattern_hvg_5_node_entropy', '(3, 1, 1)', '(2, 1)', 'trigram_entropy', '(2, 3)', '(2,)', '(1, 2, 1)', '(1, 1, 2)', '(4, 1, 1)', '(2, 3, 1)', '(3,)', 'bigram_entropy', '(2, 1, 2)', 'unigram_entropy', '(1, 2, 3)', '(4, 1)', 'pattern_hvg_4_nodes_entropy', '(2, 1, 1)', '(1, 4)', '(6, 3)', '(4,)', '(3, 3, 1)', '(1, 3)', '(2, 6, 3)']\n",
      "Best Features based on Max AUC ['(3, 1)', '(4, 4, 4)', '(1, 4, 1)', '(1, 2)', 'pattern_hvg_5_node_entropy', '(3, 1, 1)', '(2, 1)', 'trigram_entropy', '(2, 3)', '(2,)', '(1, 2, 1)', '(1, 1, 2)', '(4, 1, 1)', '(2, 3, 1)', '(3,)', 'bigram_entropy', '(2, 1, 2)', 'unigram_entropy', '(1, 2, 3)', '(4, 1)', 'pattern_hvg_4_nodes_entropy', '(2, 1, 1)', '(1, 4)', '(6, 3)', '(4,)', '(3, 3, 1)', '(1, 3)', '(2, 6, 3)']\n"
     ]
    }
   ],
   "source": [
    "rfc = RandomForestClassifier()\n",
    "accuracy_list_rfc_20_mrmr, f1_score_list_rfc_20_mrmr, auc_list_rfc_20_mrmr = model_train_predict(rfc, 'mrmr_feat_list_20')"
   ]
  },
  {
   "cell_type": "code",
   "execution_count": 70,
   "metadata": {},
   "outputs": [
    {
     "name": "stdout",
     "output_type": "stream",
     "text": [
      "Average Accuracy 0.8177884615384615\n",
      "Average F1 Score 0.8204059840295683\n",
      "Average AUC 0.8177884615384615\n",
      "Max Accuracy 0.8413461538461539\n",
      "Max F1 Score 0.8436018957345972\n",
      "Max AUC 0.8413461538461537\n",
      "Best Sample Index based on Max Accuracy 6\n",
      "Best Sample Index based on Max F1 Score 6\n",
      "Best Sample Index based on Max AUC 6\n",
      "Best Features based on Max Accuracy ['(2, 1)', 'pattern_hvg_5_node_entropy', '(3, 1)', '(4, 1, 1)', '(2,)', '(3, 1, 1)', '(4, 1, 2)', '(3,)', '(1, 2)', '(2, 3, 1)', '(1, 2, 1)', 'trigram_entropy', '(4,)', '(2, 3)', '(1, 1, 2)', '(2, 1, 2)', 'unigram_entropy', '(4, 1)', '(2, 1, 1)', '(1, 2, 3)', 'bigram_entropy', '(1, 4)', 'pattern_hvg_4_nodes_entropy', '(3, 3)', '(1, 4, 1)', '(1, 3)', '(6, 3, 1)', '(3, 1, 4)']\n",
      "Best Features based on Max F1 Score ['(2, 1)', 'pattern_hvg_5_node_entropy', '(3, 1)', '(4, 1, 1)', '(2,)', '(3, 1, 1)', '(4, 1, 2)', '(3,)', '(1, 2)', '(2, 3, 1)', '(1, 2, 1)', 'trigram_entropy', '(4,)', '(2, 3)', '(1, 1, 2)', '(2, 1, 2)', 'unigram_entropy', '(4, 1)', '(2, 1, 1)', '(1, 2, 3)', 'bigram_entropy', '(1, 4)', 'pattern_hvg_4_nodes_entropy', '(3, 3)', '(1, 4, 1)', '(1, 3)', '(6, 3, 1)', '(3, 1, 4)']\n",
      "Best Features based on Max AUC ['(2, 1)', 'pattern_hvg_5_node_entropy', '(3, 1)', '(4, 1, 1)', '(2,)', '(3, 1, 1)', '(4, 1, 2)', '(3,)', '(1, 2)', '(2, 3, 1)', '(1, 2, 1)', 'trigram_entropy', '(4,)', '(2, 3)', '(1, 1, 2)', '(2, 1, 2)', 'unigram_entropy', '(4, 1)', '(2, 1, 1)', '(1, 2, 3)', 'bigram_entropy', '(1, 4)', 'pattern_hvg_4_nodes_entropy', '(3, 3)', '(1, 4, 1)', '(1, 3)', '(6, 3, 1)', '(3, 1, 4)']\n"
     ]
    }
   ],
   "source": [
    "svc = SVC()\n",
    "accuracy_list_svm_20_mrmr, f1_score_list_svm_20_mrmr, auc_list_svm_20_mrmr = model_train_predict(svc, 'mrmr_feat_list_20')"
   ]
  },
  {
   "cell_type": "code",
   "execution_count": 71,
   "metadata": {},
   "outputs": [
    {
     "name": "stdout",
     "output_type": "stream",
     "text": [
      "Average Accuracy 0.8567307692307692\n",
      "Average F1 Score 0.8577591926777736\n",
      "Average AUC 0.8567307692307692\n",
      "Max Accuracy 0.8846153846153846\n",
      "Max F1 Score 0.8846153846153846\n",
      "Max AUC 0.8846153846153845\n",
      "Best Sample Index based on Max Accuracy 3\n",
      "Best Sample Index based on Max F1 Score 3\n",
      "Best Sample Index based on Max AUC 3\n",
      "Best Features based on Max Accuracy ['(3, 1)', '(4, 4, 4)', '(1, 4, 1)', '(1, 2)', 'pattern_hvg_5_node_entropy', '(3, 1, 1)', '(2, 1)', 'trigram_entropy', '(2, 3)', '(2,)', '(1, 2, 1)', '(1, 1, 2)', '(4, 1, 1)', '(2, 3, 1)', '(3,)', 'bigram_entropy', '(2, 1, 2)', 'unigram_entropy', '(1, 2, 3)', '(4, 1)', 'pattern_hvg_4_nodes_entropy', '(2, 1, 1)', '(1, 4)', '(6, 3)', '(4,)', '(3, 3, 1)', '(1, 3)', '(2, 6, 3)']\n",
      "Best Features based on Max F1 Score ['(3, 1)', '(4, 4, 4)', '(1, 4, 1)', '(1, 2)', 'pattern_hvg_5_node_entropy', '(3, 1, 1)', '(2, 1)', 'trigram_entropy', '(2, 3)', '(2,)', '(1, 2, 1)', '(1, 1, 2)', '(4, 1, 1)', '(2, 3, 1)', '(3,)', 'bigram_entropy', '(2, 1, 2)', 'unigram_entropy', '(1, 2, 3)', '(4, 1)', 'pattern_hvg_4_nodes_entropy', '(2, 1, 1)', '(1, 4)', '(6, 3)', '(4,)', '(3, 3, 1)', '(1, 3)', '(2, 6, 3)']\n",
      "Best Features based on Max AUC ['(3, 1)', '(4, 4, 4)', '(1, 4, 1)', '(1, 2)', 'pattern_hvg_5_node_entropy', '(3, 1, 1)', '(2, 1)', 'trigram_entropy', '(2, 3)', '(2,)', '(1, 2, 1)', '(1, 1, 2)', '(4, 1, 1)', '(2, 3, 1)', '(3,)', 'bigram_entropy', '(2, 1, 2)', 'unigram_entropy', '(1, 2, 3)', '(4, 1)', 'pattern_hvg_4_nodes_entropy', '(2, 1, 1)', '(1, 4)', '(6, 3)', '(4,)', '(3, 3, 1)', '(1, 3)', '(2, 6, 3)']\n"
     ]
    }
   ],
   "source": [
    "xgbc = xgb.XGBClassifier()\n",
    "accuracy_list_xgb_20_mrmr, f1_score_list_xgb_20_mrmr, auc_list_xgb_20_mrmr = model_train_predict(xgbc, 'mrmr_feat_list_20')"
   ]
  },
  {
   "attachments": {},
   "cell_type": "markdown",
   "metadata": {},
   "source": [
    "## 30 Percentile"
   ]
  },
  {
   "cell_type": "code",
   "execution_count": 72,
   "metadata": {},
   "outputs": [
    {
     "name": "stdout",
     "output_type": "stream",
     "text": [
      "Average Accuracy 0.8197115384615385\n",
      "Average F1 Score 0.8172184202769394\n",
      "Average AUC 0.8197115384615385\n",
      "Max Accuracy 0.8317307692307693\n",
      "Max F1 Score 0.8275862068965517\n",
      "Max AUC 0.8317307692307694\n",
      "Best Sample Index based on Max Accuracy 5\n",
      "Best Sample Index based on Max F1 Score 5\n",
      "Best Sample Index based on Max AUC 5\n",
      "Best Features based on Max Accuracy ['(3, 1)', '(1, 1, 4)', '(3, 3)', '(2, 1, 4)', '(2, 1)', 'pattern_hvg_5_node_entropy', '(3, 1, 1)', '(1, 2, 1)', 'unigram_entropy', '(2,)', '(2, 3)', '(1, 1, 2)', 'bigram_entropy', '(1, 2)', '(2, 3, 1)', '(4, 1)', '(3,)', 'trigram_entropy', '(2, 1, 2)', '(4, 1, 1)', 'pattern_hvg_4_nodes_entropy', '(1, 2, 3)', '(1, 4)', '(6, 3)', '(2, 1, 1)', '(1, 4, 1)', '(1, 3)', '(4,)', '(2, 6, 3)', '(3, 1, 2)', '(1, 3, 3)', '(6, 3, 1)', '(3, 3, 1)', '(4, 1, 2)', '(3, 2)', '(1, 1, 3)', '(1, 2, 2)', '(3, 1, 4)', '(4, 1, 4)', '(2, 2, 3)', 'C4', '(2, 3, 2)']\n",
      "Best Features based on Max F1 Score ['(3, 1)', '(1, 1, 4)', '(3, 3)', '(2, 1, 4)', '(2, 1)', 'pattern_hvg_5_node_entropy', '(3, 1, 1)', '(1, 2, 1)', 'unigram_entropy', '(2,)', '(2, 3)', '(1, 1, 2)', 'bigram_entropy', '(1, 2)', '(2, 3, 1)', '(4, 1)', '(3,)', 'trigram_entropy', '(2, 1, 2)', '(4, 1, 1)', 'pattern_hvg_4_nodes_entropy', '(1, 2, 3)', '(1, 4)', '(6, 3)', '(2, 1, 1)', '(1, 4, 1)', '(1, 3)', '(4,)', '(2, 6, 3)', '(3, 1, 2)', '(1, 3, 3)', '(6, 3, 1)', '(3, 3, 1)', '(4, 1, 2)', '(3, 2)', '(1, 1, 3)', '(1, 2, 2)', '(3, 1, 4)', '(4, 1, 4)', '(2, 2, 3)', 'C4', '(2, 3, 2)']\n",
      "Best Features based on Max AUC ['(3, 1)', '(1, 1, 4)', '(3, 3)', '(2, 1, 4)', '(2, 1)', 'pattern_hvg_5_node_entropy', '(3, 1, 1)', '(1, 2, 1)', 'unigram_entropy', '(2,)', '(2, 3)', '(1, 1, 2)', 'bigram_entropy', '(1, 2)', '(2, 3, 1)', '(4, 1)', '(3,)', 'trigram_entropy', '(2, 1, 2)', '(4, 1, 1)', 'pattern_hvg_4_nodes_entropy', '(1, 2, 3)', '(1, 4)', '(6, 3)', '(2, 1, 1)', '(1, 4, 1)', '(1, 3)', '(4,)', '(2, 6, 3)', '(3, 1, 2)', '(1, 3, 3)', '(6, 3, 1)', '(3, 3, 1)', '(4, 1, 2)', '(3, 2)', '(1, 1, 3)', '(1, 2, 2)', '(3, 1, 4)', '(4, 1, 4)', '(2, 2, 3)', 'C4', '(2, 3, 2)']\n"
     ]
    }
   ],
   "source": [
    "lr = LogisticRegression()\n",
    "accuracy_list_lr_30_mrmr, f1_score_list_lr_30_mrmr, auc_list_lr_30_mrmr = model_train_predict(lr, 'mrmr_feat_list_30*')"
   ]
  },
  {
   "cell_type": "code",
   "execution_count": 73,
   "metadata": {},
   "outputs": [
    {
     "name": "stdout",
     "output_type": "stream",
     "text": [
      "Average Accuracy 0.8663461538461539\n",
      "Average F1 Score 0.8704999868537907\n",
      "Average AUC 0.8663461538461539\n",
      "Max Accuracy 0.9134615384615384\n",
      "Max F1 Score 0.9150943396226415\n",
      "Max AUC 0.9134615384615385\n",
      "Best Sample Index based on Max Accuracy 3\n",
      "Best Sample Index based on Max F1 Score 3\n",
      "Best Sample Index based on Max AUC 3\n",
      "Best Features based on Max Accuracy ['(3, 1)', '(4, 4, 4)', '(1, 4, 1)', '(1, 2)', 'pattern_hvg_5_node_entropy', '(3, 1, 1)', '(2, 1)', 'trigram_entropy', '(2, 3)', '(2,)', '(1, 2, 1)', '(1, 1, 2)', '(4, 1, 1)', '(2, 3, 1)', '(3,)', 'bigram_entropy', '(2, 1, 2)', 'unigram_entropy', '(1, 2, 3)', '(4, 1)', 'pattern_hvg_4_nodes_entropy', '(2, 1, 1)', '(1, 4)', '(6, 3)', '(4,)', '(3, 3, 1)', '(1, 3)', '(2, 6, 3)', '(1, 1, 4)', '(2, 2, 3)', '(2, 1, 4)', '(3, 1, 4)', '(1, 3, 3)', '(6, 3, 1)', '(3, 2)', '(6, 2, 3)', '(3, 1, 2)', '(3, 3)', '(4, 1, 2)', '(1, 1, 3)', '(2, 2, 2)', '(2, 3, 2)']\n",
      "Best Features based on Max F1 Score ['(3, 1)', '(4, 4, 4)', '(1, 4, 1)', '(1, 2)', 'pattern_hvg_5_node_entropy', '(3, 1, 1)', '(2, 1)', 'trigram_entropy', '(2, 3)', '(2,)', '(1, 2, 1)', '(1, 1, 2)', '(4, 1, 1)', '(2, 3, 1)', '(3,)', 'bigram_entropy', '(2, 1, 2)', 'unigram_entropy', '(1, 2, 3)', '(4, 1)', 'pattern_hvg_4_nodes_entropy', '(2, 1, 1)', '(1, 4)', '(6, 3)', '(4,)', '(3, 3, 1)', '(1, 3)', '(2, 6, 3)', '(1, 1, 4)', '(2, 2, 3)', '(2, 1, 4)', '(3, 1, 4)', '(1, 3, 3)', '(6, 3, 1)', '(3, 2)', '(6, 2, 3)', '(3, 1, 2)', '(3, 3)', '(4, 1, 2)', '(1, 1, 3)', '(2, 2, 2)', '(2, 3, 2)']\n",
      "Best Features based on Max AUC ['(3, 1)', '(4, 4, 4)', '(1, 4, 1)', '(1, 2)', 'pattern_hvg_5_node_entropy', '(3, 1, 1)', '(2, 1)', 'trigram_entropy', '(2, 3)', '(2,)', '(1, 2, 1)', '(1, 1, 2)', '(4, 1, 1)', '(2, 3, 1)', '(3,)', 'bigram_entropy', '(2, 1, 2)', 'unigram_entropy', '(1, 2, 3)', '(4, 1)', 'pattern_hvg_4_nodes_entropy', '(2, 1, 1)', '(1, 4)', '(6, 3)', '(4,)', '(3, 3, 1)', '(1, 3)', '(2, 6, 3)', '(1, 1, 4)', '(2, 2, 3)', '(2, 1, 4)', '(3, 1, 4)', '(1, 3, 3)', '(6, 3, 1)', '(3, 2)', '(6, 2, 3)', '(3, 1, 2)', '(3, 3)', '(4, 1, 2)', '(1, 1, 3)', '(2, 2, 2)', '(2, 3, 2)']\n"
     ]
    }
   ],
   "source": [
    "rfc = RandomForestClassifier()\n",
    "accuracy_list_rfc_30_mrmr, f1_score_list_rfc_30_mrmr, auc_list_rfc_30_mrmr = model_train_predict(rfc, 'mrmr_feat_list_30')"
   ]
  },
  {
   "cell_type": "code",
   "execution_count": 74,
   "metadata": {},
   "outputs": [
    {
     "name": "stdout",
     "output_type": "stream",
     "text": [
      "Average Accuracy 0.8177884615384615\n",
      "Average F1 Score 0.8201286084130646\n",
      "Average AUC 0.8177884615384615\n",
      "Max Accuracy 0.8413461538461539\n",
      "Max F1 Score 0.8421052631578948\n",
      "Max AUC 0.841346153846154\n",
      "Best Sample Index based on Max Accuracy 6\n",
      "Best Sample Index based on Max F1 Score 6\n",
      "Best Sample Index based on Max AUC 6\n",
      "Best Features based on Max Accuracy ['(2, 1)', 'pattern_hvg_5_node_entropy', '(3, 1)', '(4, 1, 1)', '(2,)', '(3, 1, 1)', '(4, 1, 2)', '(3,)', '(1, 2)', '(2, 3, 1)', '(1, 2, 1)', 'trigram_entropy', '(4,)', '(2, 3)', '(1, 1, 2)', '(2, 1, 2)', 'unigram_entropy', '(4, 1)', '(2, 1, 1)', '(1, 2, 3)', 'bigram_entropy', '(1, 4)', 'pattern_hvg_4_nodes_entropy', '(3, 3)', '(1, 4, 1)', '(1, 3)', '(6, 3, 1)', '(3, 1, 4)', '(1, 2, 2)', '(1, 1, 4)', '(3, 3, 3)', '(3, 3, 2)', '(6, 3)', '(2, 1, 4)', '(1, 1, 3)', '(4, 4, 1)', '(3, 3, 1)', '(2, 2)', '(6, 2, 3)', '(2, 6, 3)', '(1, 3, 3)', '(1, 4, 4)']\n",
      "Best Features based on Max F1 Score ['(2, 1)', 'pattern_hvg_5_node_entropy', '(3, 1)', '(4, 1, 1)', '(2,)', '(3, 1, 1)', '(4, 1, 2)', '(3,)', '(1, 2)', '(2, 3, 1)', '(1, 2, 1)', 'trigram_entropy', '(4,)', '(2, 3)', '(1, 1, 2)', '(2, 1, 2)', 'unigram_entropy', '(4, 1)', '(2, 1, 1)', '(1, 2, 3)', 'bigram_entropy', '(1, 4)', 'pattern_hvg_4_nodes_entropy', '(3, 3)', '(1, 4, 1)', '(1, 3)', '(6, 3, 1)', '(3, 1, 4)', '(1, 2, 2)', '(1, 1, 4)', '(3, 3, 3)', '(3, 3, 2)', '(6, 3)', '(2, 1, 4)', '(1, 1, 3)', '(4, 4, 1)', '(3, 3, 1)', '(2, 2)', '(6, 2, 3)', '(2, 6, 3)', '(1, 3, 3)', '(1, 4, 4)']\n",
      "Best Features based on Max AUC ['(2, 1)', 'pattern_hvg_5_node_entropy', '(3, 1)', '(4, 1, 1)', '(2,)', '(3, 1, 1)', '(4, 1, 2)', '(3,)', '(1, 2)', '(2, 3, 1)', '(1, 2, 1)', 'trigram_entropy', '(4,)', '(2, 3)', '(1, 1, 2)', '(2, 1, 2)', 'unigram_entropy', '(4, 1)', '(2, 1, 1)', '(1, 2, 3)', 'bigram_entropy', '(1, 4)', 'pattern_hvg_4_nodes_entropy', '(3, 3)', '(1, 4, 1)', '(1, 3)', '(6, 3, 1)', '(3, 1, 4)', '(1, 2, 2)', '(1, 1, 4)', '(3, 3, 3)', '(3, 3, 2)', '(6, 3)', '(2, 1, 4)', '(1, 1, 3)', '(4, 4, 1)', '(3, 3, 1)', '(2, 2)', '(6, 2, 3)', '(2, 6, 3)', '(1, 3, 3)', '(1, 4, 4)']\n"
     ]
    }
   ],
   "source": [
    "svc = SVC()\n",
    "accuracy_list_svm_30_mrmr, f1_score_list_svm_30_mrmr, auc_list_svm_30_mrmr = model_train_predict(svc, 'mrmr_feat_list_30')"
   ]
  },
  {
   "cell_type": "code",
   "execution_count": 75,
   "metadata": {},
   "outputs": [
    {
     "name": "stdout",
     "output_type": "stream",
     "text": [
      "Average Accuracy 0.8591346153846153\n",
      "Average F1 Score 0.8596171802205553\n",
      "Average AUC 0.8591346153846153\n",
      "Max Accuracy 0.8894230769230769\n",
      "Max F1 Score 0.8909952606635071\n",
      "Max AUC 0.8894230769230769\n",
      "Best Sample Index based on Max Accuracy 9\n",
      "Best Sample Index based on Max F1 Score 9\n",
      "Best Sample Index based on Max AUC 9\n",
      "Best Features based on Max Accuracy ['(3, 1)', '(1, 1, 4)', '(3, 3)', '(3, 2, 2)', '(2, 1)', 'pattern_hvg_5_node_entropy', '(3, 1, 1)', '(1, 2, 1)', 'trigram_entropy', '(2, 3)', '(1, 2)', '(3,)', '(4, 1, 1)', 'unigram_entropy', '(2,)', '(2, 3, 1)', '(1, 1, 2)', '(2, 1, 2)', 'bigram_entropy', '(1, 2, 3)', '(4,)', '(4, 1)', 'pattern_hvg_4_nodes_entropy', '(1, 4)', '(2, 1, 1)', '(1, 3)', '(6, 3)', '(1, 4, 1)', '(3, 3, 1)', '(3, 1, 2)', '(2, 1, 4)', '(2, 6, 3)', '(3, 2)', '(3, 3, 3)', '(3, 1, 4)', '(6, 3, 1)', '(1, 1, 3)', '(1, 2, 2)', '(1, 3, 3)', '(2, 3, 2)', '(2, 3, 3)', '(4, 1, 2)']\n",
      "Best Features based on Max F1 Score ['(3, 1)', '(1, 1, 4)', '(3, 3)', '(3, 2, 2)', '(2, 1)', 'pattern_hvg_5_node_entropy', '(3, 1, 1)', '(1, 2, 1)', 'trigram_entropy', '(2, 3)', '(1, 2)', '(3,)', '(4, 1, 1)', 'unigram_entropy', '(2,)', '(2, 3, 1)', '(1, 1, 2)', '(2, 1, 2)', 'bigram_entropy', '(1, 2, 3)', '(4,)', '(4, 1)', 'pattern_hvg_4_nodes_entropy', '(1, 4)', '(2, 1, 1)', '(1, 3)', '(6, 3)', '(1, 4, 1)', '(3, 3, 1)', '(3, 1, 2)', '(2, 1, 4)', '(2, 6, 3)', '(3, 2)', '(3, 3, 3)', '(3, 1, 4)', '(6, 3, 1)', '(1, 1, 3)', '(1, 2, 2)', '(1, 3, 3)', '(2, 3, 2)', '(2, 3, 3)', '(4, 1, 2)']\n",
      "Best Features based on Max AUC ['(3, 1)', '(1, 1, 4)', '(3, 3)', '(3, 2, 2)', '(2, 1)', 'pattern_hvg_5_node_entropy', '(3, 1, 1)', '(1, 2, 1)', 'trigram_entropy', '(2, 3)', '(1, 2)', '(3,)', '(4, 1, 1)', 'unigram_entropy', '(2,)', '(2, 3, 1)', '(1, 1, 2)', '(2, 1, 2)', 'bigram_entropy', '(1, 2, 3)', '(4,)', '(4, 1)', 'pattern_hvg_4_nodes_entropy', '(1, 4)', '(2, 1, 1)', '(1, 3)', '(6, 3)', '(1, 4, 1)', '(3, 3, 1)', '(3, 1, 2)', '(2, 1, 4)', '(2, 6, 3)', '(3, 2)', '(3, 3, 3)', '(3, 1, 4)', '(6, 3, 1)', '(1, 1, 3)', '(1, 2, 2)', '(1, 3, 3)', '(2, 3, 2)', '(2, 3, 3)', '(4, 1, 2)']\n"
     ]
    }
   ],
   "source": [
    "xgbc = xgb.XGBClassifier()\n",
    "accuracy_list_xgb_30_mrmr, f1_score_list_xgb_30_mrmr, auc_list_xgb_30_mrmr = model_train_predict(xgbc, 'mrmr_feat_list_30')"
   ]
  },
  {
   "attachments": {},
   "cell_type": "markdown",
   "metadata": {},
   "source": [
    "## 50 Percentile"
   ]
  },
  {
   "cell_type": "code",
   "execution_count": 76,
   "metadata": {},
   "outputs": [
    {
     "name": "stdout",
     "output_type": "stream",
     "text": [
      "Average Accuracy 0.816826923076923\n",
      "Average F1 Score 0.8142847054835001\n",
      "Average AUC 0.816826923076923\n",
      "Max Accuracy 0.8365384615384616\n",
      "Max F1 Score 0.8300000000000001\n",
      "Max AUC 0.8365384615384616\n",
      "Best Sample Index based on Max Accuracy 7\n",
      "Best Sample Index based on Max F1 Score 7\n",
      "Best Sample Index based on Max AUC 7\n",
      "Best Features based on Max Accuracy ['(2, 1)', 'unigram_entropy', '(1, 2, 2)', '(1, 1, 2)', '(3, 1)', 'pattern_hvg_5_node_entropy', '(1, 2)', '(3, 1, 1)', '(4, 1, 1)', '(1, 2, 1)', '(3,)', '(2, 3)', '(2,)', 'trigram_entropy', '(2, 1, 2)', 'bigram_entropy', '(2, 3, 1)', 'pattern_hvg_4_nodes_entropy', '(4, 1)', '(2, 1, 1)', '(1, 4)', '(1, 2, 3)', '(4,)', '(1, 3)', '(6, 3)', '(2, 1, 4)', '(1, 4, 1)', '(3, 3)', '(3, 2)', '(6, 3, 1)', '(3, 3, 1)', '(3, 1, 4)', '(6, 2, 3)', '(1, 1, 4)', '(2, 6, 3)', '(3, 3, 3)', '(3, 1, 2)', '(3, 2, 1)', '(2, 3, 2)', '(4, 1, 2)', '(2, 1, 3)', '(2, 2, 3)', '(1, 1, 3)', '(2, 2, 2)', '(1, 3, 3)', '(2, 2)', '(2, 3, 3)', 'P5', '(4, 1, 4)', '(3, 2, 3)', '(2, 2, 1)', 'D5', '(3, 4)', '(1, 3, 1)', '(3, 1, 6)', '(4, 4, 1)', '(3, 2, 2)', 'C5', 'V5', '(3, 2, 4)']\n",
      "Best Features based on Max F1 Score ['(2, 1)', 'unigram_entropy', '(1, 2, 2)', '(1, 1, 2)', '(3, 1)', 'pattern_hvg_5_node_entropy', '(1, 2)', '(3, 1, 1)', '(4, 1, 1)', '(1, 2, 1)', '(3,)', '(2, 3)', '(2,)', 'trigram_entropy', '(2, 1, 2)', 'bigram_entropy', '(2, 3, 1)', 'pattern_hvg_4_nodes_entropy', '(4, 1)', '(2, 1, 1)', '(1, 4)', '(1, 2, 3)', '(4,)', '(1, 3)', '(6, 3)', '(2, 1, 4)', '(1, 4, 1)', '(3, 3)', '(3, 2)', '(6, 3, 1)', '(3, 3, 1)', '(3, 1, 4)', '(6, 2, 3)', '(1, 1, 4)', '(2, 6, 3)', '(3, 3, 3)', '(3, 1, 2)', '(3, 2, 1)', '(2, 3, 2)', '(4, 1, 2)', '(2, 1, 3)', '(2, 2, 3)', '(1, 1, 3)', '(2, 2, 2)', '(1, 3, 3)', '(2, 2)', '(2, 3, 3)', 'P5', '(4, 1, 4)', '(3, 2, 3)', '(2, 2, 1)', 'D5', '(3, 4)', '(1, 3, 1)', '(3, 1, 6)', '(4, 4, 1)', '(3, 2, 2)', 'C5', 'V5', '(3, 2, 4)']\n",
      "Best Features based on Max AUC ['(2, 1)', 'unigram_entropy', '(1, 2, 2)', '(1, 1, 2)', '(3, 1)', 'pattern_hvg_5_node_entropy', '(1, 2)', '(3, 1, 1)', '(4, 1, 1)', '(1, 2, 1)', '(3,)', '(2, 3)', '(2,)', 'trigram_entropy', '(2, 1, 2)', 'bigram_entropy', '(2, 3, 1)', 'pattern_hvg_4_nodes_entropy', '(4, 1)', '(2, 1, 1)', '(1, 4)', '(1, 2, 3)', '(4,)', '(1, 3)', '(6, 3)', '(2, 1, 4)', '(1, 4, 1)', '(3, 3)', '(3, 2)', '(6, 3, 1)', '(3, 3, 1)', '(3, 1, 4)', '(6, 2, 3)', '(1, 1, 4)', '(2, 6, 3)', '(3, 3, 3)', '(3, 1, 2)', '(3, 2, 1)', '(2, 3, 2)', '(4, 1, 2)', '(2, 1, 3)', '(2, 2, 3)', '(1, 1, 3)', '(2, 2, 2)', '(1, 3, 3)', '(2, 2)', '(2, 3, 3)', 'P5', '(4, 1, 4)', '(3, 2, 3)', '(2, 2, 1)', 'D5', '(3, 4)', '(1, 3, 1)', '(3, 1, 6)', '(4, 4, 1)', '(3, 2, 2)', 'C5', 'V5', '(3, 2, 4)']\n"
     ]
    }
   ],
   "source": [
    "lr = LogisticRegression()\n",
    "accuracy_list_lr_50_mrmr, f1_score_list_lr_50_mrmr, auc_list_lr_50_mrmr = model_train_predict(lr, 'mrmr_feat_list_50*')"
   ]
  },
  {
   "cell_type": "code",
   "execution_count": 77,
   "metadata": {},
   "outputs": [
    {
     "name": "stdout",
     "output_type": "stream",
     "text": [
      "Average Accuracy 0.8677884615384617\n",
      "Average F1 Score 0.8727882918872252\n",
      "Average AUC 0.8677884615384617\n",
      "Max Accuracy 0.9134615384615384\n",
      "Max F1 Score 0.9142857142857143\n",
      "Max AUC 0.9134615384615385\n",
      "Best Sample Index based on Max Accuracy 3\n",
      "Best Sample Index based on Max F1 Score 3\n",
      "Best Sample Index based on Max AUC 3\n",
      "Best Features based on Max Accuracy ['(3, 1)', '(4, 4, 4)', '(1, 4, 1)', '(1, 2)', 'pattern_hvg_5_node_entropy', '(3, 1, 1)', '(2, 1)', 'trigram_entropy', '(2, 3)', '(2,)', '(1, 2, 1)', '(1, 1, 2)', '(4, 1, 1)', '(2, 3, 1)', '(3,)', 'bigram_entropy', '(2, 1, 2)', 'unigram_entropy', '(1, 2, 3)', '(4, 1)', 'pattern_hvg_4_nodes_entropy', '(2, 1, 1)', '(1, 4)', '(6, 3)', '(4,)', '(3, 3, 1)', '(1, 3)', '(2, 6, 3)', '(1, 1, 4)', '(2, 2, 3)', '(2, 1, 4)', '(3, 1, 4)', '(1, 3, 3)', '(6, 3, 1)', '(3, 2)', '(6, 2, 3)', '(3, 1, 2)', '(3, 3)', '(4, 1, 2)', '(1, 1, 3)', '(2, 2, 2)', '(2, 3, 2)', '(2, 3, 3)', '(3, 3, 3)', '(2, 1, 3)', '(3, 2, 2)', '(1, 2, 2)', '(3, 3, 2)', '(3, 2, 1)', '(4, 1, 4)', 'A5', '(3, 2, 3)', '(2, 2)', 'D5', '(3, 4)', '(6, 1, 6)', '(3, 1, 6)', '(4, 4, 1)', '(1, 2, 4)', '(1, 3, 1)']\n",
      "Best Features based on Max F1 Score ['(3, 1)', '(4, 4, 4)', '(1, 4, 1)', '(1, 2)', 'pattern_hvg_5_node_entropy', '(3, 1, 1)', '(2, 1)', 'trigram_entropy', '(2, 3)', '(2,)', '(1, 2, 1)', '(1, 1, 2)', '(4, 1, 1)', '(2, 3, 1)', '(3,)', 'bigram_entropy', '(2, 1, 2)', 'unigram_entropy', '(1, 2, 3)', '(4, 1)', 'pattern_hvg_4_nodes_entropy', '(2, 1, 1)', '(1, 4)', '(6, 3)', '(4,)', '(3, 3, 1)', '(1, 3)', '(2, 6, 3)', '(1, 1, 4)', '(2, 2, 3)', '(2, 1, 4)', '(3, 1, 4)', '(1, 3, 3)', '(6, 3, 1)', '(3, 2)', '(6, 2, 3)', '(3, 1, 2)', '(3, 3)', '(4, 1, 2)', '(1, 1, 3)', '(2, 2, 2)', '(2, 3, 2)', '(2, 3, 3)', '(3, 3, 3)', '(2, 1, 3)', '(3, 2, 2)', '(1, 2, 2)', '(3, 3, 2)', '(3, 2, 1)', '(4, 1, 4)', 'A5', '(3, 2, 3)', '(2, 2)', 'D5', '(3, 4)', '(6, 1, 6)', '(3, 1, 6)', '(4, 4, 1)', '(1, 2, 4)', '(1, 3, 1)']\n",
      "Best Features based on Max AUC ['(3, 1)', '(4, 4, 4)', '(1, 4, 1)', '(1, 2)', 'pattern_hvg_5_node_entropy', '(3, 1, 1)', '(2, 1)', 'trigram_entropy', '(2, 3)', '(2,)', '(1, 2, 1)', '(1, 1, 2)', '(4, 1, 1)', '(2, 3, 1)', '(3,)', 'bigram_entropy', '(2, 1, 2)', 'unigram_entropy', '(1, 2, 3)', '(4, 1)', 'pattern_hvg_4_nodes_entropy', '(2, 1, 1)', '(1, 4)', '(6, 3)', '(4,)', '(3, 3, 1)', '(1, 3)', '(2, 6, 3)', '(1, 1, 4)', '(2, 2, 3)', '(2, 1, 4)', '(3, 1, 4)', '(1, 3, 3)', '(6, 3, 1)', '(3, 2)', '(6, 2, 3)', '(3, 1, 2)', '(3, 3)', '(4, 1, 2)', '(1, 1, 3)', '(2, 2, 2)', '(2, 3, 2)', '(2, 3, 3)', '(3, 3, 3)', '(2, 1, 3)', '(3, 2, 2)', '(1, 2, 2)', '(3, 3, 2)', '(3, 2, 1)', '(4, 1, 4)', 'A5', '(3, 2, 3)', '(2, 2)', 'D5', '(3, 4)', '(6, 1, 6)', '(3, 1, 6)', '(4, 4, 1)', '(1, 2, 4)', '(1, 3, 1)']\n"
     ]
    }
   ],
   "source": [
    "rfc = RandomForestClassifier()\n",
    "accuracy_list_rfc_50_mrmr, f1_score_list_rfc_50_mrmr, auc_list_rfc_50_mrmr = model_train_predict(rfc, 'mrmr_feat_list_50')"
   ]
  },
  {
   "cell_type": "code",
   "execution_count": 78,
   "metadata": {},
   "outputs": [
    {
     "name": "stdout",
     "output_type": "stream",
     "text": [
      "Average Accuracy 0.8158653846153847\n",
      "Average F1 Score 0.8188765174772387\n",
      "Average AUC 0.8158653846153847\n",
      "Max Accuracy 0.8317307692307693\n",
      "Max F1 Score 0.8341232227488151\n",
      "Max AUC 0.8317307692307693\n",
      "Best Sample Index based on Max Accuracy 1\n",
      "Best Sample Index based on Max F1 Score 1\n",
      "Best Sample Index based on Max AUC 1\n",
      "Best Features based on Max Accuracy ['(3, 1)', '(1, 1, 4)', '(3, 3)', '(2, 1, 4)', '(2, 1)', 'pattern_hvg_5_node_entropy', '(3, 1, 1)', '(2,)', '(1, 2, 1)', 'unigram_entropy', '(1, 2)', '(2, 3)', '(2, 3, 1)', '(4, 1, 1)', '(1, 1, 2)', '(2, 1, 2)', 'bigram_entropy', '(3,)', 'trigram_entropy', '(1, 2, 3)', '(4, 1)', 'pattern_hvg_4_nodes_entropy', '(1, 4)', '(1, 3)', '(4,)', '(6, 3)', '(2, 1, 1)', '(1, 4, 1)', '(2, 6, 3)', '(1, 3, 3)', '(3, 1, 4)', '(3, 1, 2)', '(4, 1, 2)', '(1, 1, 3)', '(6, 3, 1)', '(1, 2, 2)', '(3, 2)', '(3, 3, 1)', '(2, 2)', '(3, 3, 3)', '(1, 1)', '(2, 2, 3)', '(6, 2, 3)', '(2, 2, 2)', '(2, 1, 3)', '(2, 3, 2)', '(4, 1, 4)', '(3, 3, 2)', '(1, 1, 1)', '(2, 2, 1)', '(3, 2, 1)', '(1, 4, 2)', '(4, 4, 1)', '(2, 6, 1)', '(3, 2, 3)', 'C5', '(3, 2, 2)', '(1, 4, 4)', '(1, 3, 1)', '(6, 1)']\n",
      "Best Features based on Max F1 Score ['(3, 1)', '(1, 1, 4)', '(3, 3)', '(2, 1, 4)', '(2, 1)', 'pattern_hvg_5_node_entropy', '(3, 1, 1)', '(2,)', '(1, 2, 1)', 'unigram_entropy', '(1, 2)', '(2, 3)', '(2, 3, 1)', '(4, 1, 1)', '(1, 1, 2)', '(2, 1, 2)', 'bigram_entropy', '(3,)', 'trigram_entropy', '(1, 2, 3)', '(4, 1)', 'pattern_hvg_4_nodes_entropy', '(1, 4)', '(1, 3)', '(4,)', '(6, 3)', '(2, 1, 1)', '(1, 4, 1)', '(2, 6, 3)', '(1, 3, 3)', '(3, 1, 4)', '(3, 1, 2)', '(4, 1, 2)', '(1, 1, 3)', '(6, 3, 1)', '(1, 2, 2)', '(3, 2)', '(3, 3, 1)', '(2, 2)', '(3, 3, 3)', '(1, 1)', '(2, 2, 3)', '(6, 2, 3)', '(2, 2, 2)', '(2, 1, 3)', '(2, 3, 2)', '(4, 1, 4)', '(3, 3, 2)', '(1, 1, 1)', '(2, 2, 1)', '(3, 2, 1)', '(1, 4, 2)', '(4, 4, 1)', '(2, 6, 1)', '(3, 2, 3)', 'C5', '(3, 2, 2)', '(1, 4, 4)', '(1, 3, 1)', '(6, 1)']\n",
      "Best Features based on Max AUC ['(3, 1)', '(1, 1, 4)', '(3, 3)', '(2, 1, 4)', '(2, 1)', 'pattern_hvg_5_node_entropy', '(3, 1, 1)', '(2,)', '(1, 2, 1)', 'unigram_entropy', '(1, 2)', '(2, 3)', '(2, 3, 1)', '(4, 1, 1)', '(1, 1, 2)', '(2, 1, 2)', 'bigram_entropy', '(3,)', 'trigram_entropy', '(1, 2, 3)', '(4, 1)', 'pattern_hvg_4_nodes_entropy', '(1, 4)', '(1, 3)', '(4,)', '(6, 3)', '(2, 1, 1)', '(1, 4, 1)', '(2, 6, 3)', '(1, 3, 3)', '(3, 1, 4)', '(3, 1, 2)', '(4, 1, 2)', '(1, 1, 3)', '(6, 3, 1)', '(1, 2, 2)', '(3, 2)', '(3, 3, 1)', '(2, 2)', '(3, 3, 3)', '(1, 1)', '(2, 2, 3)', '(6, 2, 3)', '(2, 2, 2)', '(2, 1, 3)', '(2, 3, 2)', '(4, 1, 4)', '(3, 3, 2)', '(1, 1, 1)', '(2, 2, 1)', '(3, 2, 1)', '(1, 4, 2)', '(4, 4, 1)', '(2, 6, 1)', '(3, 2, 3)', 'C5', '(3, 2, 2)', '(1, 4, 4)', '(1, 3, 1)', '(6, 1)']\n"
     ]
    }
   ],
   "source": [
    "svc = SVC()\n",
    "accuracy_list_svm_50_mrmr, f1_score_list_svm_50_mrmr, auc_list_svm_50_mrmr = model_train_predict(svc, 'mrmr_feat_list_50')"
   ]
  },
  {
   "cell_type": "code",
   "execution_count": 79,
   "metadata": {},
   "outputs": [
    {
     "name": "stdout",
     "output_type": "stream",
     "text": [
      "Average Accuracy 0.8533653846153847\n",
      "Average F1 Score 0.8538792566502618\n",
      "Average AUC 0.8533653846153847\n",
      "Max Accuracy 0.8894230769230769\n",
      "Max F1 Score 0.8888888888888888\n",
      "Max AUC 0.889423076923077\n",
      "Best Sample Index based on Max Accuracy 9\n",
      "Best Sample Index based on Max F1 Score 9\n",
      "Best Sample Index based on Max AUC 9\n",
      "Best Features based on Max Accuracy ['(3, 1)', '(1, 1, 4)', '(3, 3)', '(3, 2, 2)', '(2, 1)', 'pattern_hvg_5_node_entropy', '(3, 1, 1)', '(1, 2, 1)', 'trigram_entropy', '(2, 3)', '(1, 2)', '(3,)', '(4, 1, 1)', 'unigram_entropy', '(2,)', '(2, 3, 1)', '(1, 1, 2)', '(2, 1, 2)', 'bigram_entropy', '(1, 2, 3)', '(4,)', '(4, 1)', 'pattern_hvg_4_nodes_entropy', '(1, 4)', '(2, 1, 1)', '(1, 3)', '(6, 3)', '(1, 4, 1)', '(3, 3, 1)', '(3, 1, 2)', '(2, 1, 4)', '(2, 6, 3)', '(3, 2)', '(3, 3, 3)', '(3, 1, 4)', '(6, 3, 1)', '(1, 1, 3)', '(1, 2, 2)', '(1, 3, 3)', '(2, 3, 2)', '(2, 3, 3)', '(4, 1, 2)', '(4, 4, 1)', '(4, 1, 4)', '(3, 2, 3)', '(3, 3, 2)', '(2, 2)', '(3, 2, 1)', '(2, 1, 3)', '(1, 4, 4)', '(1, 4, 2)', '(6, 2, 3)', '(2, 2, 3)', '(2, 2, 2)', '(3, 4)', 'D5', '(1, 3, 1)', 'T5', '(6, 2, 2)', '(4, 4)']\n",
      "Best Features based on Max F1 Score ['(3, 1)', '(1, 1, 4)', '(3, 3)', '(3, 2, 2)', '(2, 1)', 'pattern_hvg_5_node_entropy', '(3, 1, 1)', '(1, 2, 1)', 'trigram_entropy', '(2, 3)', '(1, 2)', '(3,)', '(4, 1, 1)', 'unigram_entropy', '(2,)', '(2, 3, 1)', '(1, 1, 2)', '(2, 1, 2)', 'bigram_entropy', '(1, 2, 3)', '(4,)', '(4, 1)', 'pattern_hvg_4_nodes_entropy', '(1, 4)', '(2, 1, 1)', '(1, 3)', '(6, 3)', '(1, 4, 1)', '(3, 3, 1)', '(3, 1, 2)', '(2, 1, 4)', '(2, 6, 3)', '(3, 2)', '(3, 3, 3)', '(3, 1, 4)', '(6, 3, 1)', '(1, 1, 3)', '(1, 2, 2)', '(1, 3, 3)', '(2, 3, 2)', '(2, 3, 3)', '(4, 1, 2)', '(4, 4, 1)', '(4, 1, 4)', '(3, 2, 3)', '(3, 3, 2)', '(2, 2)', '(3, 2, 1)', '(2, 1, 3)', '(1, 4, 4)', '(1, 4, 2)', '(6, 2, 3)', '(2, 2, 3)', '(2, 2, 2)', '(3, 4)', 'D5', '(1, 3, 1)', 'T5', '(6, 2, 2)', '(4, 4)']\n",
      "Best Features based on Max AUC ['(3, 1)', '(1, 1, 4)', '(3, 3)', '(3, 2, 2)', '(2, 1)', 'pattern_hvg_5_node_entropy', '(3, 1, 1)', '(1, 2, 1)', 'trigram_entropy', '(2, 3)', '(1, 2)', '(3,)', '(4, 1, 1)', 'unigram_entropy', '(2,)', '(2, 3, 1)', '(1, 1, 2)', '(2, 1, 2)', 'bigram_entropy', '(1, 2, 3)', '(4,)', '(4, 1)', 'pattern_hvg_4_nodes_entropy', '(1, 4)', '(2, 1, 1)', '(1, 3)', '(6, 3)', '(1, 4, 1)', '(3, 3, 1)', '(3, 1, 2)', '(2, 1, 4)', '(2, 6, 3)', '(3, 2)', '(3, 3, 3)', '(3, 1, 4)', '(6, 3, 1)', '(1, 1, 3)', '(1, 2, 2)', '(1, 3, 3)', '(2, 3, 2)', '(2, 3, 3)', '(4, 1, 2)', '(4, 4, 1)', '(4, 1, 4)', '(3, 2, 3)', '(3, 3, 2)', '(2, 2)', '(3, 2, 1)', '(2, 1, 3)', '(1, 4, 4)', '(1, 4, 2)', '(6, 2, 3)', '(2, 2, 3)', '(2, 2, 2)', '(3, 4)', 'D5', '(1, 3, 1)', 'T5', '(6, 2, 2)', '(4, 4)']\n"
     ]
    }
   ],
   "source": [
    "xgbc = xgb.XGBClassifier()\n",
    "accuracy_list_xgb_50_mrmr, f1_score_list_xgb_50_mrmr, auc_list_xgb_50_mrmr = model_train_predict(xgbc, 'mrmr_feat_list_50')"
   ]
  },
  {
   "attachments": {},
   "cell_type": "markdown",
   "metadata": {},
   "source": [
    "# MI and mRMR"
   ]
  },
  {
   "attachments": {},
   "cell_type": "markdown",
   "metadata": {},
   "source": [
    "## 10 Percentile"
   ]
  },
  {
   "cell_type": "code",
   "execution_count": 80,
   "metadata": {},
   "outputs": [
    {
     "name": "stdout",
     "output_type": "stream",
     "text": [
      "Average Accuracy 0.7995192307692308\n",
      "Average F1 Score 0.7954003026136258\n",
      "Average AUC 0.7995192307692307\n",
      "Max Accuracy 0.8269230769230769\n",
      "Max F1 Score 0.8181818181818181\n",
      "Max AUC 0.8269230769230769\n",
      "Best Sample Index based on Max Accuracy 2\n",
      "Best Sample Index based on Max F1 Score 2\n",
      "Best Sample Index based on Max AUC 2\n",
      "Best Features based on Max Accuracy ['(3, 1)', '(2, 3, 1)', '(1, 2)', '(3, 1, 1)', '(2, 3)', 'trigram_entropy', '(3,)', '(2, 1)', '(2,)', '(1, 2, 1)']\n",
      "Best Features based on Max F1 Score ['(3, 1)', '(2, 3, 1)', '(1, 2)', '(3, 1, 1)', '(2, 3)', 'trigram_entropy', '(3,)', '(2, 1)', '(2,)', '(1, 2, 1)']\n",
      "Best Features based on Max AUC ['(3, 1)', '(2, 3, 1)', '(1, 2)', '(3, 1, 1)', '(2, 3)', 'trigram_entropy', '(3,)', '(2, 1)', '(2,)', '(1, 2, 1)']\n"
     ]
    }
   ],
   "source": [
    "lr = LogisticRegression()\n",
    "accuracy_list_lr_10_mi_mrmr, f1_score_list_lr_10_mi_mrmr, auc_list_lr_10_mi_mrmr = model_train_predict(lr, 'mi_mrmr_feat_list_10*')"
   ]
  },
  {
   "cell_type": "code",
   "execution_count": 81,
   "metadata": {},
   "outputs": [
    {
     "name": "stdout",
     "output_type": "stream",
     "text": [
      "Average Accuracy 0.8528846153846154\n",
      "Average F1 Score 0.8569882448093468\n",
      "Average AUC 0.8528846153846154\n",
      "Max Accuracy 0.8942307692307693\n",
      "Max F1 Score 0.8962264150943395\n",
      "Max AUC 0.8942307692307692\n",
      "Best Sample Index based on Max Accuracy 6\n",
      "Best Sample Index based on Max F1 Score 6\n",
      "Best Sample Index based on Max AUC 6\n",
      "Best Features based on Max Accuracy ['(3, 1)', '(2, 3, 1)', '(1, 2)', '(3, 1, 1)', '(2, 1)', '(2, 3)', '(1, 2, 1)', '(4,)', '(2,)', '(3,)']\n",
      "Best Features based on Max F1 Score ['(3, 1)', '(2, 3, 1)', '(1, 2)', '(3, 1, 1)', '(2, 1)', '(2, 3)', '(1, 2, 1)', '(4,)', '(2,)', '(3,)']\n",
      "Best Features based on Max AUC ['(3, 1)', '(2, 3, 1)', '(1, 2)', '(3, 1, 1)', '(2, 1)', '(2, 3)', '(1, 2, 1)', '(4,)', '(2,)', '(3,)']\n"
     ]
    }
   ],
   "source": [
    "rfc = RandomForestClassifier()\n",
    "accuracy_list_rfc_10_mi_mrmr, f1_score_list_rfc_10_mi_mrmr, auc_list_rfc_10_mi_mrmr = model_train_predict(rfc, 'mi_mrmr_feat_list_10')"
   ]
  },
  {
   "cell_type": "code",
   "execution_count": 82,
   "metadata": {},
   "outputs": [
    {
     "name": "stdout",
     "output_type": "stream",
     "text": [
      "Average Accuracy 0.8197115384615385\n",
      "Average F1 Score 0.8246724239098426\n",
      "Average AUC 0.8197115384615385\n",
      "Max Accuracy 0.8461538461538461\n",
      "Max F1 Score 0.8446601941747574\n",
      "Max AUC 0.8461538461538463\n",
      "Best Sample Index based on Max Accuracy 6\n",
      "Best Sample Index based on Max F1 Score 6\n",
      "Best Sample Index based on Max AUC 6\n",
      "Best Features based on Max Accuracy ['(3, 1)', '(2, 3, 1)', '(1, 2)', '(3, 1, 1)', '(2, 1)', '(2, 3)', '(1, 2, 1)', '(4,)', '(2,)', '(3,)']\n",
      "Best Features based on Max F1 Score ['(3, 1)', '(2, 3, 1)', '(1, 2)', '(3, 1, 1)', '(2, 1)', '(2, 3)', '(1, 2, 1)', '(4,)', '(2,)', '(3,)']\n",
      "Best Features based on Max AUC ['(3, 1)', '(2, 3, 1)', '(1, 2)', '(3, 1, 1)', '(2, 1)', '(2, 3)', '(1, 2, 1)', '(4,)', '(2,)', '(3,)']\n"
     ]
    }
   ],
   "source": [
    "svc = SVC()\n",
    "accuracy_list_svm_10_mi_mrmr, f1_score_list_svm_10_mi_mrmr, auc_list_svm_10_mi_mrmr = model_train_predict(svc, 'mi_mrmr_feat_list_10')"
   ]
  },
  {
   "cell_type": "code",
   "execution_count": 83,
   "metadata": {},
   "outputs": [
    {
     "name": "stdout",
     "output_type": "stream",
     "text": [
      "Average Accuracy 0.8451923076923077\n",
      "Average F1 Score 0.8467768712220918\n",
      "Average AUC 0.8451923076923077\n",
      "Max Accuracy 0.8846153846153846\n",
      "Max F1 Score 0.8823529411764707\n",
      "Max AUC 0.8846153846153846\n",
      "Best Sample Index based on Max Accuracy 3\n",
      "Best Sample Index based on Max F1 Score 3\n",
      "Best Sample Index based on Max AUC 3\n",
      "Best Features based on Max Accuracy ['(3, 1)', '(2, 3, 1)', '(1, 2)', '(1, 4, 1)', '(3, 1, 1)', '(2, 1)', 'trigram_entropy', '(2, 3)', '(2,)', '(1, 2, 1)']\n",
      "Best Features based on Max F1 Score ['(3, 1)', '(2, 3, 1)', '(1, 2)', '(1, 4, 1)', '(3, 1, 1)', '(2, 1)', 'trigram_entropy', '(2, 3)', '(2,)', '(1, 2, 1)']\n",
      "Best Features based on Max AUC ['(3, 1)', '(2, 3, 1)', '(1, 2)', '(1, 4, 1)', '(3, 1, 1)', '(2, 1)', 'trigram_entropy', '(2, 3)', '(2,)', '(1, 2, 1)']\n"
     ]
    }
   ],
   "source": [
    "xgbc = xgb.XGBClassifier()\n",
    "accuracy_list_xgb_10_mi_mrmr, f1_score_list_xgb_10_mi_mrmr, auc_list_xgb_10_mi_mrmr = model_train_predict(xgbc, 'mi_mrmr_feat_list_10')"
   ]
  },
  {
   "attachments": {},
   "cell_type": "markdown",
   "metadata": {},
   "source": [
    "## 20 Percentile"
   ]
  },
  {
   "cell_type": "code",
   "execution_count": 84,
   "metadata": {},
   "outputs": [
    {
     "name": "stdout",
     "output_type": "stream",
     "text": [
      "Average Accuracy 0.8201923076923077\n",
      "Average F1 Score 0.8176057324267239\n",
      "Average AUC 0.8201923076923077\n",
      "Max Accuracy 0.8413461538461539\n",
      "Max F1 Score 0.8374384236453203\n",
      "Max AUC 0.8413461538461539\n",
      "Best Sample Index based on Max Accuracy 8\n",
      "Best Sample Index based on Max F1 Score 8\n",
      "Best Sample Index based on Max AUC 8\n",
      "Best Features based on Max Accuracy ['(2, 1)', '(1, 2, 3)', '(3, 3)', '(1, 4)', '(1, 1, 2)', 'unigram_entropy', '(2, 3, 1)', '(1, 4, 1)', '(4, 1)', '(4, 1, 1)', '(4,)', 'bigram_entropy', '(2, 1, 2)', '(3,)', '(1, 2)', 'trigram_entropy', '(3, 1)', '(3, 1, 1)', '(2, 3)', 'pattern_hvg_5_node_entropy', '(2,)', '(1, 2, 1)']\n",
      "Best Features based on Max F1 Score ['(2, 1)', '(1, 2, 3)', '(3, 3)', '(1, 4)', '(1, 1, 2)', 'unigram_entropy', '(2, 3, 1)', '(1, 4, 1)', '(4, 1)', '(4, 1, 1)', '(4,)', 'bigram_entropy', '(2, 1, 2)', '(3,)', '(1, 2)', 'trigram_entropy', '(3, 1)', '(3, 1, 1)', '(2, 3)', 'pattern_hvg_5_node_entropy', '(2,)', '(1, 2, 1)']\n",
      "Best Features based on Max AUC ['(2, 1)', '(1, 2, 3)', '(3, 3)', '(1, 4)', '(1, 1, 2)', 'unigram_entropy', '(2, 3, 1)', '(1, 4, 1)', '(4, 1)', '(4, 1, 1)', '(4,)', 'bigram_entropy', '(2, 1, 2)', '(3,)', '(1, 2)', 'trigram_entropy', '(3, 1)', '(3, 1, 1)', '(2, 3)', 'pattern_hvg_5_node_entropy', '(2,)', '(1, 2, 1)']\n"
     ]
    }
   ],
   "source": [
    "lr = LogisticRegression()\n",
    "accuracy_list_lr_20_mi_mrmr, f1_score_list_lr_20_mi_mrmr, auc_list_lr_20_mi_mrmr = model_train_predict(lr, 'mi_mrmr_feat_list_20*')"
   ]
  },
  {
   "cell_type": "code",
   "execution_count": 85,
   "metadata": {},
   "outputs": [
    {
     "name": "stdout",
     "output_type": "stream",
     "text": [
      "Average Accuracy 0.860096153846154\n",
      "Average F1 Score 0.8646508853489978\n",
      "Average AUC 0.8600961538461538\n",
      "Max Accuracy 0.9086538461538461\n",
      "Max F1 Score 0.9107981220657276\n",
      "Max AUC 0.9086538461538461\n",
      "Best Sample Index based on Max Accuracy 3\n",
      "Best Sample Index based on Max F1 Score 3\n",
      "Best Sample Index based on Max AUC 3\n",
      "Best Features based on Max Accuracy ['(2, 1)', '(1, 2, 3)', '(1, 4)', '(1, 1, 2)', 'unigram_entropy', '(2, 3, 1)', '(1, 4, 1)', '(4, 1)', '(4, 1, 1)', '(4,)', 'bigram_entropy', '(2, 1, 2)', '(3,)', '(1, 2)', 'trigram_entropy', '(3, 1)', '(3, 1, 1)', '(2, 3)', 'pattern_hvg_5_node_entropy', 'pattern_hvg_4_nodes_entropy', '(2,)', '(1, 2, 1)']\n",
      "Best Features based on Max F1 Score ['(2, 1)', '(1, 2, 3)', '(1, 4)', '(1, 1, 2)', 'unigram_entropy', '(2, 3, 1)', '(1, 4, 1)', '(4, 1)', '(4, 1, 1)', '(4,)', 'bigram_entropy', '(2, 1, 2)', '(3,)', '(1, 2)', 'trigram_entropy', '(3, 1)', '(3, 1, 1)', '(2, 3)', 'pattern_hvg_5_node_entropy', 'pattern_hvg_4_nodes_entropy', '(2,)', '(1, 2, 1)']\n",
      "Best Features based on Max AUC ['(2, 1)', '(1, 2, 3)', '(1, 4)', '(1, 1, 2)', 'unigram_entropy', '(2, 3, 1)', '(1, 4, 1)', '(4, 1)', '(4, 1, 1)', '(4,)', 'bigram_entropy', '(2, 1, 2)', '(3,)', '(1, 2)', 'trigram_entropy', '(3, 1)', '(3, 1, 1)', '(2, 3)', 'pattern_hvg_5_node_entropy', 'pattern_hvg_4_nodes_entropy', '(2,)', '(1, 2, 1)']\n"
     ]
    }
   ],
   "source": [
    "rfc = RandomForestClassifier()\n",
    "accuracy_list_rfc_20_mi_mrmr, f1_score_list_rfc_20_mi_mrmr, auc_list_rfc_20_mi_mrmr = model_train_predict(rfc, 'mi_mrmr_feat_list_20')"
   ]
  },
  {
   "cell_type": "code",
   "execution_count": 86,
   "metadata": {},
   "outputs": [
    {
     "name": "stdout",
     "output_type": "stream",
     "text": [
      "Average Accuracy 0.8211538461538461\n",
      "Average F1 Score 0.8241498277081535\n",
      "Average AUC 0.8211538461538461\n",
      "Max Accuracy 0.8461538461538461\n",
      "Max F1 Score 0.8446601941747574\n",
      "Max AUC 0.8461538461538463\n",
      "Best Sample Index based on Max Accuracy 7\n",
      "Best Sample Index based on Max F1 Score 7\n",
      "Best Sample Index based on Max AUC 7\n",
      "Best Features based on Max Accuracy ['(2, 1)', '(1, 2, 3)', '(1, 4)', '(1, 1, 2)', 'unigram_entropy', '(2, 3, 1)', '(1, 4, 1)', '(4, 1)', '(4, 1, 1)', '(4,)', 'bigram_entropy', '(2, 1, 1)', '(2, 1, 2)', '(3,)', '(1, 2)', 'trigram_entropy', '(3, 1)', '(3, 1, 1)', '(2, 3)', 'pattern_hvg_5_node_entropy', '(2,)', '(1, 2, 1)']\n",
      "Best Features based on Max F1 Score ['(2, 1)', '(1, 2, 3)', '(1, 4)', '(1, 1, 2)', 'unigram_entropy', '(2, 3, 1)', '(1, 4, 1)', '(4, 1)', '(4, 1, 1)', '(4,)', 'bigram_entropy', '(2, 1, 1)', '(2, 1, 2)', '(3,)', '(1, 2)', 'trigram_entropy', '(3, 1)', '(3, 1, 1)', '(2, 3)', 'pattern_hvg_5_node_entropy', '(2,)', '(1, 2, 1)']\n",
      "Best Features based on Max AUC ['(2, 1)', '(1, 2, 3)', '(1, 4)', '(1, 1, 2)', 'unigram_entropy', '(2, 3, 1)', '(1, 4, 1)', '(4, 1)', '(4, 1, 1)', '(4,)', 'bigram_entropy', '(2, 1, 1)', '(2, 1, 2)', '(3,)', '(1, 2)', 'trigram_entropy', '(3, 1)', '(3, 1, 1)', '(2, 3)', 'pattern_hvg_5_node_entropy', '(2,)', '(1, 2, 1)']\n"
     ]
    }
   ],
   "source": [
    "svc = SVC()\n",
    "accuracy_list_svm_20_mi_mrmr, f1_score_list_svm_20_mi_mrmr, auc_list_svm_20_mi_mrmr = model_train_predict(svc, 'mi_mrmr_feat_list_20')"
   ]
  },
  {
   "cell_type": "code",
   "execution_count": 87,
   "metadata": {},
   "outputs": [
    {
     "name": "stdout",
     "output_type": "stream",
     "text": [
      "Average Accuracy 0.8528846153846154\n",
      "Average F1 Score 0.853972259130431\n",
      "Average AUC 0.8528846153846155\n",
      "Max Accuracy 0.8894230769230769\n",
      "Max F1 Score 0.8878048780487806\n",
      "Max AUC 0.889423076923077\n",
      "Best Sample Index based on Max Accuracy 3\n",
      "Best Sample Index based on Max F1 Score 3\n",
      "Best Sample Index based on Max AUC 3\n",
      "Best Features based on Max Accuracy ['(2, 1)', '(1, 2, 3)', '(1, 4)', '(1, 1, 2)', 'unigram_entropy', '(2, 3, 1)', '(1, 4, 1)', '(4, 1)', '(4, 1, 1)', '(4,)', 'bigram_entropy', '(2, 1, 2)', '(3,)', '(1, 2)', 'trigram_entropy', '(3, 1)', '(3, 1, 1)', '(2, 3)', 'pattern_hvg_5_node_entropy', 'pattern_hvg_4_nodes_entropy', '(2,)', '(1, 2, 1)']\n",
      "Best Features based on Max F1 Score ['(2, 1)', '(1, 2, 3)', '(1, 4)', '(1, 1, 2)', 'unigram_entropy', '(2, 3, 1)', '(1, 4, 1)', '(4, 1)', '(4, 1, 1)', '(4,)', 'bigram_entropy', '(2, 1, 2)', '(3,)', '(1, 2)', 'trigram_entropy', '(3, 1)', '(3, 1, 1)', '(2, 3)', 'pattern_hvg_5_node_entropy', 'pattern_hvg_4_nodes_entropy', '(2,)', '(1, 2, 1)']\n",
      "Best Features based on Max AUC ['(2, 1)', '(1, 2, 3)', '(1, 4)', '(1, 1, 2)', 'unigram_entropy', '(2, 3, 1)', '(1, 4, 1)', '(4, 1)', '(4, 1, 1)', '(4,)', 'bigram_entropy', '(2, 1, 2)', '(3,)', '(1, 2)', 'trigram_entropy', '(3, 1)', '(3, 1, 1)', '(2, 3)', 'pattern_hvg_5_node_entropy', 'pattern_hvg_4_nodes_entropy', '(2,)', '(1, 2, 1)']\n"
     ]
    }
   ],
   "source": [
    "xgbc = xgb.XGBClassifier()\n",
    "accuracy_list_xgb_20_mi_mrmr, f1_score_list_xgb_20_mi_mrmr, auc_list_xgb_20_mi_mrmr = model_train_predict(xgbc, 'mi_mrmr_feat_list_20')"
   ]
  },
  {
   "attachments": {},
   "cell_type": "markdown",
   "metadata": {},
   "source": [
    "## 30 Percentile"
   ]
  },
  {
   "cell_type": "code",
   "execution_count": 88,
   "metadata": {},
   "outputs": [
    {
     "name": "stdout",
     "output_type": "stream",
     "text": [
      "Average Accuracy 0.8192307692307692\n",
      "Average F1 Score 0.8165049800250719\n",
      "Average AUC 0.8192307692307692\n",
      "Max Accuracy 0.8317307692307693\n",
      "Max F1 Score 0.8275862068965517\n",
      "Max AUC 0.8317307692307694\n",
      "Best Sample Index based on Max Accuracy 4\n",
      "Best Sample Index based on Max F1 Score 4\n",
      "Best Sample Index based on Max AUC 4\n",
      "Best Features based on Max Accuracy ['(2, 1)', '(1, 2, 3)', '(3, 3)', '(3, 1, 4)', '(1, 4)', '(1, 1, 2)', 'Q5', 'unigram_entropy', '(2, 3, 1)', '(6, 3, 1)', '(2, 6, 3)', '(1, 4, 1)', '(4, 1)', '(4, 1, 1)', '(4,)', 'bigram_entropy', '(2, 1, 1)', '(6, 3)', '(2, 1, 2)', '(3,)', '(1, 2)', '(1, 1, 4)', '(3, 1, 2)', 'trigram_entropy', '(3, 1)', '(3, 1, 1)', '(2, 3)', 'pattern_hvg_5_node_entropy', 'pattern_hvg_4_nodes_entropy', '(2,)', '(1, 2, 1)']\n",
      "Best Features based on Max F1 Score ['(2, 1)', '(1, 2, 3)', '(3, 3)', '(3, 1, 4)', '(1, 4)', '(1, 1, 2)', 'Q5', 'unigram_entropy', '(2, 3, 1)', '(6, 3, 1)', '(2, 6, 3)', '(1, 4, 1)', '(4, 1)', '(4, 1, 1)', '(4,)', 'bigram_entropy', '(2, 1, 1)', '(6, 3)', '(2, 1, 2)', '(3,)', '(1, 2)', '(1, 1, 4)', '(3, 1, 2)', 'trigram_entropy', '(3, 1)', '(3, 1, 1)', '(2, 3)', 'pattern_hvg_5_node_entropy', 'pattern_hvg_4_nodes_entropy', '(2,)', '(1, 2, 1)']\n",
      "Best Features based on Max AUC ['(2, 1)', '(1, 2, 3)', '(3, 3)', '(3, 1, 4)', '(1, 4)', '(1, 1, 2)', 'Q5', 'unigram_entropy', '(2, 3, 1)', '(6, 3, 1)', '(2, 6, 3)', '(1, 4, 1)', '(4, 1)', '(4, 1, 1)', '(4,)', 'bigram_entropy', '(2, 1, 1)', '(6, 3)', '(2, 1, 2)', '(3,)', '(1, 2)', '(1, 1, 4)', '(3, 1, 2)', 'trigram_entropy', '(3, 1)', '(3, 1, 1)', '(2, 3)', 'pattern_hvg_5_node_entropy', 'pattern_hvg_4_nodes_entropy', '(2,)', '(1, 2, 1)']\n"
     ]
    }
   ],
   "source": [
    "lr = LogisticRegression()\n",
    "accuracy_list_lr_30_mi_mrmr, f1_score_list_lr_30_mi_mrmr, auc_list_lr_30_mi_mrmr = model_train_predict(lr, 'mi_mrmr_feat_list_30*')"
   ]
  },
  {
   "cell_type": "code",
   "execution_count": 89,
   "metadata": {},
   "outputs": [
    {
     "name": "stdout",
     "output_type": "stream",
     "text": [
      "Average Accuracy 0.8649038461538462\n",
      "Average F1 Score 0.8688989149437802\n",
      "Average AUC 0.8649038461538462\n",
      "Max Accuracy 0.9086538461538461\n",
      "Max F1 Score 0.9099526066350712\n",
      "Max AUC 0.9086538461538461\n",
      "Best Sample Index based on Max Accuracy 3\n",
      "Best Sample Index based on Max F1 Score 3\n",
      "Best Sample Index based on Max AUC 3\n",
      "Best Features based on Max Accuracy ['(2, 1)', '(1, 2, 3)', '(3, 1, 4)', '(3, 3)', '(1, 4)', '(1, 1, 2)', 'unigram_entropy', '(2, 3, 1)', '(2, 3, 2)', '(1, 4, 1)', '(4, 1)', '(4, 1, 1)', '(4,)', 'bigram_entropy', '(2, 2, 3)', '(2, 1, 2)', '(3,)', '(1, 2)', '(3, 3, 1)', '(1, 1, 4)', '(3, 1, 2)', 'trigram_entropy', '(3, 1)', '(3, 1, 1)', '(2, 3)', 'pattern_hvg_5_node_entropy', 'pattern_hvg_4_nodes_entropy', '(2,)', '(1, 2, 1)']\n",
      "Best Features based on Max F1 Score ['(2, 1)', '(1, 2, 3)', '(3, 1, 4)', '(3, 3)', '(1, 4)', '(1, 1, 2)', 'unigram_entropy', '(2, 3, 1)', '(2, 3, 2)', '(1, 4, 1)', '(4, 1)', '(4, 1, 1)', '(4,)', 'bigram_entropy', '(2, 2, 3)', '(2, 1, 2)', '(3,)', '(1, 2)', '(3, 3, 1)', '(1, 1, 4)', '(3, 1, 2)', 'trigram_entropy', '(3, 1)', '(3, 1, 1)', '(2, 3)', 'pattern_hvg_5_node_entropy', 'pattern_hvg_4_nodes_entropy', '(2,)', '(1, 2, 1)']\n",
      "Best Features based on Max AUC ['(2, 1)', '(1, 2, 3)', '(3, 1, 4)', '(3, 3)', '(1, 4)', '(1, 1, 2)', 'unigram_entropy', '(2, 3, 1)', '(2, 3, 2)', '(1, 4, 1)', '(4, 1)', '(4, 1, 1)', '(4,)', 'bigram_entropy', '(2, 2, 3)', '(2, 1, 2)', '(3,)', '(1, 2)', '(3, 3, 1)', '(1, 1, 4)', '(3, 1, 2)', 'trigram_entropy', '(3, 1)', '(3, 1, 1)', '(2, 3)', 'pattern_hvg_5_node_entropy', 'pattern_hvg_4_nodes_entropy', '(2,)', '(1, 2, 1)']\n"
     ]
    }
   ],
   "source": [
    "rfc = RandomForestClassifier()\n",
    "accuracy_list_rfc_30_mi_mrmr, f1_score_list_rfc_30_mi_mrmr, auc_list_rfc_30_mi_mrmr = model_train_predict(rfc, 'mi_mrmr_feat_list_30')"
   ]
  },
  {
   "cell_type": "code",
   "execution_count": 90,
   "metadata": {},
   "outputs": [
    {
     "name": "stdout",
     "output_type": "stream",
     "text": [
      "Average Accuracy 0.8173076923076923\n",
      "Average F1 Score 0.8202637577614196\n",
      "Average AUC 0.8173076923076923\n",
      "Max Accuracy 0.8413461538461539\n",
      "Max F1 Score 0.8436018957345972\n",
      "Max AUC 0.8413461538461537\n",
      "Best Sample Index based on Max Accuracy 6\n",
      "Best Sample Index based on Max F1 Score 6\n",
      "Best Sample Index based on Max AUC 6\n",
      "Best Features based on Max Accuracy ['(2, 1)', '(1, 2, 3)', '(3, 3)', '(3, 1, 4)', '(1, 4)', '(1, 1, 2)', 'unigram_entropy', '(2, 3, 1)', '(4, 1, 2)', '(4, 1)', '(1, 4, 1)', '(4, 1, 1)', '(4,)', 'bigram_entropy', '(2, 1, 1)', '(2, 1, 2)', '(3,)', '(1, 2)', '(1, 1, 4)', '(1, 3, 3)', '(2, 1, 4)', 'trigram_entropy', '(3, 1)', '(3, 1, 1)', '(2, 3)', 'pattern_hvg_5_node_entropy', 'pattern_hvg_4_nodes_entropy', '(2,)', '(1, 2, 1)']\n",
      "Best Features based on Max F1 Score ['(2, 1)', '(1, 2, 3)', '(3, 3)', '(3, 1, 4)', '(1, 4)', '(1, 1, 2)', 'unigram_entropy', '(2, 3, 1)', '(4, 1, 2)', '(4, 1)', '(1, 4, 1)', '(4, 1, 1)', '(4,)', 'bigram_entropy', '(2, 1, 1)', '(2, 1, 2)', '(3,)', '(1, 2)', '(1, 1, 4)', '(1, 3, 3)', '(2, 1, 4)', 'trigram_entropy', '(3, 1)', '(3, 1, 1)', '(2, 3)', 'pattern_hvg_5_node_entropy', 'pattern_hvg_4_nodes_entropy', '(2,)', '(1, 2, 1)']\n",
      "Best Features based on Max AUC ['(2, 1)', '(1, 2, 3)', '(3, 3)', '(3, 1, 4)', '(1, 4)', '(1, 1, 2)', 'unigram_entropy', '(2, 3, 1)', '(4, 1, 2)', '(4, 1)', '(1, 4, 1)', '(4, 1, 1)', '(4,)', 'bigram_entropy', '(2, 1, 1)', '(2, 1, 2)', '(3,)', '(1, 2)', '(1, 1, 4)', '(1, 3, 3)', '(2, 1, 4)', 'trigram_entropy', '(3, 1)', '(3, 1, 1)', '(2, 3)', 'pattern_hvg_5_node_entropy', 'pattern_hvg_4_nodes_entropy', '(2,)', '(1, 2, 1)']\n"
     ]
    }
   ],
   "source": [
    "svc = SVC()\n",
    "accuracy_list_svm_30_mi_mrmr, f1_score_list_svm_30_mi_mrmr, auc_list_svm_30_mi_mrmr = model_train_predict(svc, 'mi_mrmr_feat_list_30')"
   ]
  },
  {
   "cell_type": "code",
   "execution_count": 91,
   "metadata": {},
   "outputs": [
    {
     "name": "stdout",
     "output_type": "stream",
     "text": [
      "Average Accuracy 0.8600961538461538\n",
      "Average F1 Score 0.8610567404905171\n",
      "Average AUC 0.8600961538461538\n",
      "Max Accuracy 0.8846153846153846\n",
      "Max F1 Score 0.8837209302325582\n",
      "Max AUC 0.8846153846153848\n",
      "Best Sample Index based on Max Accuracy 5\n",
      "Best Sample Index based on Max F1 Score 4\n",
      "Best Sample Index based on Max AUC 6\n",
      "Best Features based on Max Accuracy ['(1, 3)', '(2, 1)', '(1, 2, 3)', '(3, 3)', '(3, 1, 4)', '(1, 4)', '(1, 1, 2)', 'unigram_entropy', '(2, 3, 1)', '(2, 3, 2)', '(1, 4, 1)', '(4, 1)', '(4, 1, 1)', '(4,)', 'bigram_entropy', '(2, 1, 1)', '(2, 1, 2)', '(3,)', '(1, 2)', '(1, 1, 4)', '(3, 1, 2)', '(4, 1, 4)', 'C4', 'trigram_entropy', '(3, 1)', '(3, 1, 1)', '(2, 3)', 'pattern_hvg_5_node_entropy', 'pattern_hvg_4_nodes_entropy', '(2,)', '(1, 2, 1)']\n",
      "Best Features based on Max F1 Score ['(2, 1)', '(1, 2, 3)', '(3, 3)', '(3, 1, 4)', '(1, 4)', '(1, 1, 2)', 'Q5', 'unigram_entropy', '(2, 3, 1)', '(6, 3, 1)', '(2, 6, 3)', '(1, 4, 1)', '(4, 1)', '(4, 1, 1)', '(4,)', 'bigram_entropy', '(2, 1, 1)', '(6, 3)', '(2, 1, 2)', '(3,)', '(1, 2)', '(1, 1, 4)', '(3, 1, 2)', 'trigram_entropy', '(3, 1)', '(3, 1, 1)', '(2, 3)', 'pattern_hvg_5_node_entropy', 'pattern_hvg_4_nodes_entropy', '(2,)', '(1, 2, 1)']\n",
      "Best Features based on Max AUC ['(2, 1)', '(1, 2, 3)', '(3, 3)', '(3, 1, 4)', '(1, 4)', '(1, 1, 2)', 'unigram_entropy', '(2, 3, 1)', '(4, 1, 2)', '(4, 1)', '(1, 4, 1)', '(4, 1, 1)', '(4,)', 'bigram_entropy', '(2, 1, 1)', '(2, 1, 2)', '(3,)', '(1, 2)', '(1, 1, 4)', '(1, 3, 3)', '(2, 1, 4)', 'trigram_entropy', '(3, 1)', '(3, 1, 1)', '(2, 3)', 'pattern_hvg_5_node_entropy', 'pattern_hvg_4_nodes_entropy', '(2,)', '(1, 2, 1)']\n"
     ]
    }
   ],
   "source": [
    "xgbc = xgb.XGBClassifier()\n",
    "accuracy_list_xgb_30_mi_mrmr, f1_score_list_xgb_30_mi_mrmr, auc_list_xgb_30_mi_mrmr = model_train_predict(xgbc, 'mi_mrmr_feat_list_30')"
   ]
  },
  {
   "attachments": {},
   "cell_type": "markdown",
   "metadata": {},
   "source": [
    "## 50 Percentile"
   ]
  },
  {
   "cell_type": "code",
   "execution_count": 92,
   "metadata": {},
   "outputs": [
    {
     "name": "stdout",
     "output_type": "stream",
     "text": [
      "Average Accuracy 0.8182692307692309\n",
      "Average F1 Score 0.8154903420904123\n",
      "Average AUC 0.8182692307692309\n",
      "Max Accuracy 0.8365384615384616\n",
      "Max F1 Score 0.8300000000000001\n",
      "Max AUC 0.8365384615384616\n",
      "Best Sample Index based on Max Accuracy 7\n",
      "Best Sample Index based on Max F1 Score 7\n",
      "Best Sample Index based on Max AUC 7\n",
      "Best Features based on Max Accuracy ['P5', '(1, 3)', '(3, 3, 3)', '(2, 1, 3)', '(2, 1)', '(1, 1, 3)', '(1, 2, 3)', '(3, 3)', '(3, 1, 4)', '(1, 4)', '(2, 2)', '(1, 1, 2)', 'unigram_entropy', '(2, 3, 1)', '(2, 6, 3)', '(1, 4, 1)', '(4, 1)', '(4, 1, 2)', '(4, 1, 1)', '(3, 2, 3)', '(4,)', 'bigram_entropy', '(2, 1, 1)', '(6, 2, 3)', '(2, 1, 2)', '(3,)', '(1, 2)', '(3, 3, 1)', '(1, 1, 4)', '(2, 1, 4)', '(1, 3, 3)', '(4, 1, 4)', 'trigram_entropy', '(1, 2, 2)', '(3, 1)', 'V5', '(4, 4, 1)', '(3, 1, 1)', '(2, 3)', '(3, 2)', 'pattern_hvg_5_node_entropy', '(2, 3, 3)', '(3, 2, 1)', 'pattern_hvg_4_nodes_entropy', '(2,)', '(1, 2, 1)']\n",
      "Best Features based on Max F1 Score ['P5', '(1, 3)', '(3, 3, 3)', '(2, 1, 3)', '(2, 1)', '(1, 1, 3)', '(1, 2, 3)', '(3, 3)', '(3, 1, 4)', '(1, 4)', '(2, 2)', '(1, 1, 2)', 'unigram_entropy', '(2, 3, 1)', '(2, 6, 3)', '(1, 4, 1)', '(4, 1)', '(4, 1, 2)', '(4, 1, 1)', '(3, 2, 3)', '(4,)', 'bigram_entropy', '(2, 1, 1)', '(6, 2, 3)', '(2, 1, 2)', '(3,)', '(1, 2)', '(3, 3, 1)', '(1, 1, 4)', '(2, 1, 4)', '(1, 3, 3)', '(4, 1, 4)', 'trigram_entropy', '(1, 2, 2)', '(3, 1)', 'V5', '(4, 4, 1)', '(3, 1, 1)', '(2, 3)', '(3, 2)', 'pattern_hvg_5_node_entropy', '(2, 3, 3)', '(3, 2, 1)', 'pattern_hvg_4_nodes_entropy', '(2,)', '(1, 2, 1)']\n",
      "Best Features based on Max AUC ['P5', '(1, 3)', '(3, 3, 3)', '(2, 1, 3)', '(2, 1)', '(1, 1, 3)', '(1, 2, 3)', '(3, 3)', '(3, 1, 4)', '(1, 4)', '(2, 2)', '(1, 1, 2)', 'unigram_entropy', '(2, 3, 1)', '(2, 6, 3)', '(1, 4, 1)', '(4, 1)', '(4, 1, 2)', '(4, 1, 1)', '(3, 2, 3)', '(4,)', 'bigram_entropy', '(2, 1, 1)', '(6, 2, 3)', '(2, 1, 2)', '(3,)', '(1, 2)', '(3, 3, 1)', '(1, 1, 4)', '(2, 1, 4)', '(1, 3, 3)', '(4, 1, 4)', 'trigram_entropy', '(1, 2, 2)', '(3, 1)', 'V5', '(4, 4, 1)', '(3, 1, 1)', '(2, 3)', '(3, 2)', 'pattern_hvg_5_node_entropy', '(2, 3, 3)', '(3, 2, 1)', 'pattern_hvg_4_nodes_entropy', '(2,)', '(1, 2, 1)']\n"
     ]
    }
   ],
   "source": [
    "lr = LogisticRegression()\n",
    "accuracy_list_lr_50_mi_mrmr, f1_score_list_lr_50_mi_mrmr, auc_list_lr_50_mi_mrmr = model_train_predict(lr, 'mi_mrmr_feat_list_50*')"
   ]
  },
  {
   "cell_type": "code",
   "execution_count": 93,
   "metadata": {},
   "outputs": [
    {
     "name": "stdout",
     "output_type": "stream",
     "text": [
      "Average Accuracy 0.8634615384615385\n",
      "Average F1 Score 0.8686397019420695\n",
      "Average AUC 0.8634615384615385\n",
      "Max Accuracy 0.9086538461538461\n",
      "Max F1 Score 0.9099526066350712\n",
      "Max AUC 0.9086538461538461\n",
      "Best Sample Index based on Max Accuracy 3\n",
      "Best Sample Index based on Max F1 Score 3\n",
      "Best Sample Index based on Max AUC 3\n",
      "Best Features based on Max Accuracy ['(1, 3)', '(3, 3, 3)', '(2, 1)', '(1, 2, 3)', '(3, 1, 4)', '(3, 3)', '(1, 4)', '(2, 2)', '(1, 1, 2)', 'unigram_entropy', '(2, 3, 1)', '(2, 3, 2)', '(6, 3, 1)', '(2, 6, 3)', '(1, 4, 1)', '(4, 1)', '(3, 2, 3)', '(4, 1, 1)', '(4,)', 'bigram_entropy', '(2, 1, 1)', '(6, 2, 3)', '(6, 3)', '(2, 2, 3)', '(2, 1, 2)', '(3,)', '(1, 2)', '(3, 3, 1)', '(1, 1, 4)', '(2, 1, 4)', '(1, 3, 3)', '(3, 1, 2)', '(2, 2, 2)', 'trigram_entropy', '(1, 2, 2)', '(3, 1)', 'A5', '(3, 1, 1)', '(2, 3)', '(3, 2)', 'pattern_hvg_5_node_entropy', '(2, 3, 3)', 'pattern_hvg_4_nodes_entropy', '(2,)', '(1, 2, 1)']\n",
      "Best Features based on Max F1 Score ['(1, 3)', '(3, 3, 3)', '(2, 1)', '(1, 2, 3)', '(3, 1, 4)', '(3, 3)', '(1, 4)', '(2, 2)', '(1, 1, 2)', 'unigram_entropy', '(2, 3, 1)', '(2, 3, 2)', '(6, 3, 1)', '(2, 6, 3)', '(1, 4, 1)', '(4, 1)', '(3, 2, 3)', '(4, 1, 1)', '(4,)', 'bigram_entropy', '(2, 1, 1)', '(6, 2, 3)', '(6, 3)', '(2, 2, 3)', '(2, 1, 2)', '(3,)', '(1, 2)', '(3, 3, 1)', '(1, 1, 4)', '(2, 1, 4)', '(1, 3, 3)', '(3, 1, 2)', '(2, 2, 2)', 'trigram_entropy', '(1, 2, 2)', '(3, 1)', 'A5', '(3, 1, 1)', '(2, 3)', '(3, 2)', 'pattern_hvg_5_node_entropy', '(2, 3, 3)', 'pattern_hvg_4_nodes_entropy', '(2,)', '(1, 2, 1)']\n",
      "Best Features based on Max AUC ['(1, 3)', '(3, 3, 3)', '(2, 1)', '(1, 2, 3)', '(3, 1, 4)', '(3, 3)', '(1, 4)', '(2, 2)', '(1, 1, 2)', 'unigram_entropy', '(2, 3, 1)', '(2, 3, 2)', '(6, 3, 1)', '(2, 6, 3)', '(1, 4, 1)', '(4, 1)', '(3, 2, 3)', '(4, 1, 1)', '(4,)', 'bigram_entropy', '(2, 1, 1)', '(6, 2, 3)', '(6, 3)', '(2, 2, 3)', '(2, 1, 2)', '(3,)', '(1, 2)', '(3, 3, 1)', '(1, 1, 4)', '(2, 1, 4)', '(1, 3, 3)', '(3, 1, 2)', '(2, 2, 2)', 'trigram_entropy', '(1, 2, 2)', '(3, 1)', 'A5', '(3, 1, 1)', '(2, 3)', '(3, 2)', 'pattern_hvg_5_node_entropy', '(2, 3, 3)', 'pattern_hvg_4_nodes_entropy', '(2,)', '(1, 2, 1)']\n"
     ]
    }
   ],
   "source": [
    "rfc = RandomForestClassifier()\n",
    "accuracy_list_rfc_50_mi_mrmr, f1_score_list_rfc_50_mi_mrmr, auc_list_rfc_50_mi_mrmr = model_train_predict(rfc, 'mi_mrmr_feat_list_50')"
   ]
  },
  {
   "cell_type": "code",
   "execution_count": 94,
   "metadata": {},
   "outputs": [
    {
     "name": "stdout",
     "output_type": "stream",
     "text": [
      "Average Accuracy 0.8158653846153847\n",
      "Average F1 Score 0.8190845215474718\n",
      "Average AUC 0.8158653846153847\n",
      "Max Accuracy 0.8317307692307693\n",
      "Max F1 Score 0.8341232227488151\n",
      "Max AUC 0.8317307692307693\n",
      "Best Sample Index based on Max Accuracy 1\n",
      "Best Sample Index based on Max F1 Score 1\n",
      "Best Sample Index based on Max AUC 1\n",
      "Best Features based on Max Accuracy ['(1, 3)', '(3, 3, 3)', '(2, 1, 3)', '(1, 3, 1)', '(2, 1)', '(1, 1, 3)', '(1, 2, 3)', '(3, 3)', '(3, 1, 4)', '(1, 4)', '(2, 2)', '(1, 1, 2)', 'unigram_entropy', '(2, 3, 1)', '(6, 3, 1)', '(3, 2, 3)', '(1, 4, 1)', '(4, 1)', '(4, 1, 2)', '(4, 1, 1)', '(1, 1)', '(2, 2, 1)', '(4,)', 'bigram_entropy', '(2, 1, 1)', '(2, 2, 3)', '(2, 1, 2)', '(3,)', '(1, 2)', '(1, 1, 4)', '(1, 3, 3)', '(2, 1, 4)', '(3, 1, 2)', '(3, 3, 1)', '(4, 1, 4)', 'trigram_entropy', '(1, 2, 2)', '(3, 1)', '(1, 1, 1)', '(4, 4, 1)', '(3, 1, 1)', '(2, 3)', '(3, 2)', 'pattern_hvg_5_node_entropy', 'pattern_hvg_4_nodes_entropy', '(2,)', '(1, 2, 1)']\n",
      "Best Features based on Max F1 Score ['(1, 3)', '(3, 3, 3)', '(2, 1, 3)', '(1, 3, 1)', '(2, 1)', '(1, 1, 3)', '(1, 2, 3)', '(3, 3)', '(3, 1, 4)', '(1, 4)', '(2, 2)', '(1, 1, 2)', 'unigram_entropy', '(2, 3, 1)', '(6, 3, 1)', '(3, 2, 3)', '(1, 4, 1)', '(4, 1)', '(4, 1, 2)', '(4, 1, 1)', '(1, 1)', '(2, 2, 1)', '(4,)', 'bigram_entropy', '(2, 1, 1)', '(2, 2, 3)', '(2, 1, 2)', '(3,)', '(1, 2)', '(1, 1, 4)', '(1, 3, 3)', '(2, 1, 4)', '(3, 1, 2)', '(3, 3, 1)', '(4, 1, 4)', 'trigram_entropy', '(1, 2, 2)', '(3, 1)', '(1, 1, 1)', '(4, 4, 1)', '(3, 1, 1)', '(2, 3)', '(3, 2)', 'pattern_hvg_5_node_entropy', 'pattern_hvg_4_nodes_entropy', '(2,)', '(1, 2, 1)']\n",
      "Best Features based on Max AUC ['(1, 3)', '(3, 3, 3)', '(2, 1, 3)', '(1, 3, 1)', '(2, 1)', '(1, 1, 3)', '(1, 2, 3)', '(3, 3)', '(3, 1, 4)', '(1, 4)', '(2, 2)', '(1, 1, 2)', 'unigram_entropy', '(2, 3, 1)', '(6, 3, 1)', '(3, 2, 3)', '(1, 4, 1)', '(4, 1)', '(4, 1, 2)', '(4, 1, 1)', '(1, 1)', '(2, 2, 1)', '(4,)', 'bigram_entropy', '(2, 1, 1)', '(2, 2, 3)', '(2, 1, 2)', '(3,)', '(1, 2)', '(1, 1, 4)', '(1, 3, 3)', '(2, 1, 4)', '(3, 1, 2)', '(3, 3, 1)', '(4, 1, 4)', 'trigram_entropy', '(1, 2, 2)', '(3, 1)', '(1, 1, 1)', '(4, 4, 1)', '(3, 1, 1)', '(2, 3)', '(3, 2)', 'pattern_hvg_5_node_entropy', 'pattern_hvg_4_nodes_entropy', '(2,)', '(1, 2, 1)']\n"
     ]
    }
   ],
   "source": [
    "svc = SVC()\n",
    "accuracy_list_svm_50_mi_mrmr, f1_score_list_svm_50_mi_mrmr, auc_list_svm_50_mi_mrmr = model_train_predict(svc, 'mi_mrmr_feat_list_50')"
   ]
  },
  {
   "cell_type": "code",
   "execution_count": 95,
   "metadata": {},
   "outputs": [
    {
     "name": "stdout",
     "output_type": "stream",
     "text": [
      "Average Accuracy 0.8605769230769231\n",
      "Average F1 Score 0.8624837657338604\n",
      "Average AUC 0.860576923076923\n",
      "Max Accuracy 0.8942307692307693\n",
      "Max F1 Score 0.8962264150943395\n",
      "Max AUC 0.8942307692307692\n",
      "Best Sample Index based on Max Accuracy 9\n",
      "Best Sample Index based on Max F1 Score 9\n",
      "Best Sample Index based on Max AUC 9\n",
      "Best Features based on Max Accuracy ['(1, 3)', '(2, 1, 3)', '(2, 1)', '(1, 1, 3)', '(1, 2, 3)', '(3, 3)', '(3, 1, 4)', '(1, 4)', '(2, 2)', '(1, 1, 2)', 'unigram_entropy', '(2, 3, 1)', '(6, 3, 1)', '(2, 6, 3)', '(1, 4, 1)', '(4, 1)', '(4, 1, 2)', '(4, 1, 1)', '(3, 2, 3)', '(4,)', 'bigram_entropy', '(3, 2, 2)', '(2, 1, 1)', '(6, 2, 3)', '(6, 3)', '(2, 1, 2)', '(3,)', '(4, 4)', '(1, 2)', '(1, 1, 4)', '(3, 3, 1)', '(2, 1, 4)', '(3, 1, 2)', '(4, 1, 4)', 'trigram_entropy', '(1, 2, 2)', '(3, 1)', '(4, 4, 1)', '(3, 1, 1)', '(2, 3)', '(3, 2)', 'pattern_hvg_5_node_entropy', '(2, 3, 3)', 'pattern_hvg_4_nodes_entropy', '(2,)', '(1, 2, 1)']\n",
      "Best Features based on Max F1 Score ['(1, 3)', '(2, 1, 3)', '(2, 1)', '(1, 1, 3)', '(1, 2, 3)', '(3, 3)', '(3, 1, 4)', '(1, 4)', '(2, 2)', '(1, 1, 2)', 'unigram_entropy', '(2, 3, 1)', '(6, 3, 1)', '(2, 6, 3)', '(1, 4, 1)', '(4, 1)', '(4, 1, 2)', '(4, 1, 1)', '(3, 2, 3)', '(4,)', 'bigram_entropy', '(3, 2, 2)', '(2, 1, 1)', '(6, 2, 3)', '(6, 3)', '(2, 1, 2)', '(3,)', '(4, 4)', '(1, 2)', '(1, 1, 4)', '(3, 3, 1)', '(2, 1, 4)', '(3, 1, 2)', '(4, 1, 4)', 'trigram_entropy', '(1, 2, 2)', '(3, 1)', '(4, 4, 1)', '(3, 1, 1)', '(2, 3)', '(3, 2)', 'pattern_hvg_5_node_entropy', '(2, 3, 3)', 'pattern_hvg_4_nodes_entropy', '(2,)', '(1, 2, 1)']\n",
      "Best Features based on Max AUC ['(1, 3)', '(2, 1, 3)', '(2, 1)', '(1, 1, 3)', '(1, 2, 3)', '(3, 3)', '(3, 1, 4)', '(1, 4)', '(2, 2)', '(1, 1, 2)', 'unigram_entropy', '(2, 3, 1)', '(6, 3, 1)', '(2, 6, 3)', '(1, 4, 1)', '(4, 1)', '(4, 1, 2)', '(4, 1, 1)', '(3, 2, 3)', '(4,)', 'bigram_entropy', '(3, 2, 2)', '(2, 1, 1)', '(6, 2, 3)', '(6, 3)', '(2, 1, 2)', '(3,)', '(4, 4)', '(1, 2)', '(1, 1, 4)', '(3, 3, 1)', '(2, 1, 4)', '(3, 1, 2)', '(4, 1, 4)', 'trigram_entropy', '(1, 2, 2)', '(3, 1)', '(4, 4, 1)', '(3, 1, 1)', '(2, 3)', '(3, 2)', 'pattern_hvg_5_node_entropy', '(2, 3, 3)', 'pattern_hvg_4_nodes_entropy', '(2,)', '(1, 2, 1)']\n"
     ]
    }
   ],
   "source": [
    "xgbc = xgb.XGBClassifier()\n",
    "accuracy_list_xgb_50_mi_mrmr, f1_score_list_xgb_50_mi_mrmr, auc_list_xgb_50_mi_mrmr = model_train_predict(xgbc, 'mi_mrmr_feat_list_50')"
   ]
  },
  {
   "attachments": {},
   "cell_type": "markdown",
   "metadata": {},
   "source": [
    "# Saving results"
   ]
  },
  {
   "cell_type": "code",
   "execution_count": 119,
   "metadata": {},
   "outputs": [
    {
     "name": "stdout",
     "output_type": "stream",
     "text": [
      "160\n",
      "160\n",
      "160\n"
     ]
    }
   ],
   "source": [
    "models = ['lr', 'rfc', 'svc', 'xgbc']\n",
    "models = [value for value in models for _ in range(10)] * 4\n",
    "percentiles = ['10', '20', '30', '50']\n",
    "percentiles = [value for value in percentiles for _ in range(40)]\n",
    "samples = [x for x in range(1, 11)]\n",
    "samples = samples * 16\n",
    "\n",
    "print(len(models))\n",
    "print(len(percentiles))\n",
    "print(len(samples))"
   ]
  },
  {
   "cell_type": "code",
   "execution_count": 97,
   "metadata": {},
   "outputs": [],
   "source": [
    "overall_accuracy_list_mi = (accuracy_list_lr_10_mi + accuracy_list_rfc_10_mi + accuracy_list_svm_10_mi + accuracy_list_xgb_10_mi +\n",
    "                            accuracy_list_lr_20_mi + accuracy_list_rfc_20_mi + accuracy_list_svm_20_mi + accuracy_list_xgb_20_mi +\n",
    "                            accuracy_list_lr_30_mi + accuracy_list_rfc_30_mi + accuracy_list_svm_30_mi + accuracy_list_xgb_30_mi +\n",
    "                            accuracy_list_lr_50_mi + accuracy_list_rfc_50_mi + accuracy_list_svm_50_mi + accuracy_list_xgb_50_mi)\n",
    "\n",
    "overall_f1_score_list_mi = (f1_score_list_lr_10_mi + f1_score_list_rfc_10_mi + f1_score_list_svm_10_mi + f1_score_list_xgb_10_mi +\n",
    "                            f1_score_list_lr_20_mi + f1_score_list_rfc_20_mi + f1_score_list_svm_20_mi + f1_score_list_xgb_20_mi +\n",
    "                            f1_score_list_lr_30_mi + f1_score_list_rfc_30_mi + f1_score_list_svm_30_mi + f1_score_list_xgb_30_mi +\n",
    "                            f1_score_list_lr_50_mi + f1_score_list_rfc_50_mi + f1_score_list_svm_50_mi + f1_score_list_xgb_50_mi)\n",
    "\n",
    "overall_auc_list_mi = (auc_list_lr_10_mi + auc_list_rfc_10_mi + auc_list_svm_10_mi + auc_list_xgb_10_mi +\n",
    "                            auc_list_lr_20_mi + auc_list_rfc_20_mi + auc_list_svm_20_mi + auc_list_xgb_20_mi +\n",
    "                            auc_list_lr_30_mi + auc_list_rfc_30_mi + auc_list_svm_30_mi + auc_list_xgb_30_mi +\n",
    "                            auc_list_lr_50_mi + auc_list_rfc_50_mi + auc_list_svm_50_mi + auc_list_xgb_50_mi)\n"
   ]
  },
  {
   "cell_type": "code",
   "execution_count": 100,
   "metadata": {},
   "outputs": [],
   "source": [
    "overall_accuracy_list_mrmr = (accuracy_list_lr_10_mrmr + accuracy_list_rfc_10_mrmr + accuracy_list_svm_10_mrmr + accuracy_list_xgb_10_mrmr +\n",
    "                            accuracy_list_lr_20_mrmr + accuracy_list_rfc_20_mrmr + accuracy_list_svm_20_mrmr + accuracy_list_xgb_20_mrmr +\n",
    "                            accuracy_list_lr_30_mrmr + accuracy_list_rfc_30_mrmr + accuracy_list_svm_30_mrmr + accuracy_list_xgb_30_mrmr +\n",
    "                            accuracy_list_lr_50_mrmr + accuracy_list_rfc_50_mrmr + accuracy_list_svm_50_mrmr + accuracy_list_xgb_50_mrmr)\n",
    "\n",
    "overall_f1_score_list_mrmr = (f1_score_list_lr_10_mrmr + f1_score_list_rfc_10_mrmr + f1_score_list_svm_10_mrmr + f1_score_list_xgb_10_mrmr +\n",
    "                            f1_score_list_lr_20_mrmr + f1_score_list_rfc_20_mrmr + f1_score_list_svm_20_mrmr + f1_score_list_xgb_20_mrmr +\n",
    "                            f1_score_list_lr_30_mrmr + f1_score_list_rfc_30_mrmr + f1_score_list_svm_30_mrmr + f1_score_list_xgb_30_mrmr +\n",
    "                            f1_score_list_lr_50_mrmr + f1_score_list_rfc_50_mrmr + f1_score_list_svm_50_mrmr + f1_score_list_xgb_50_mrmr)\n",
    "\n",
    "overall_auc_list_mrmr = (auc_list_lr_10_mrmr + auc_list_rfc_10_mrmr + auc_list_svm_10_mrmr + auc_list_xgb_10_mrmr +\n",
    "                            auc_list_lr_20_mrmr + auc_list_rfc_20_mrmr + auc_list_svm_20_mrmr + auc_list_xgb_20_mrmr +\n",
    "                            auc_list_lr_30_mrmr + auc_list_rfc_30_mrmr + auc_list_svm_30_mrmr + auc_list_xgb_30_mrmr +\n",
    "                            auc_list_lr_50_mrmr + auc_list_rfc_50_mrmr + auc_list_svm_50_mrmr + auc_list_xgb_50_mrmr)"
   ]
  },
  {
   "cell_type": "code",
   "execution_count": 101,
   "metadata": {},
   "outputs": [],
   "source": [
    "overall_accuracy_list_mi_mrmr = (accuracy_list_lr_10_mi_mrmr + accuracy_list_rfc_10_mi_mrmr + accuracy_list_svm_10_mi_mrmr + accuracy_list_xgb_10_mi_mrmr +\n",
    "                            accuracy_list_lr_20_mi_mrmr + accuracy_list_rfc_20_mi_mrmr + accuracy_list_svm_20_mi_mrmr + accuracy_list_xgb_20_mi_mrmr +\n",
    "                            accuracy_list_lr_30_mi_mrmr + accuracy_list_rfc_30_mi_mrmr + accuracy_list_svm_30_mi_mrmr + accuracy_list_xgb_30_mi_mrmr +\n",
    "                            accuracy_list_lr_50_mi_mrmr + accuracy_list_rfc_50_mi_mrmr + accuracy_list_svm_50_mi_mrmr + accuracy_list_xgb_50_mi_mrmr)\n",
    "\n",
    "overall_f1_score_list_mi_mrmr = (f1_score_list_lr_10_mi_mrmr + f1_score_list_rfc_10_mi_mrmr + f1_score_list_svm_10_mi_mrmr + f1_score_list_xgb_10_mi_mrmr +\n",
    "                            f1_score_list_lr_20_mi_mrmr + f1_score_list_rfc_20_mi_mrmr + f1_score_list_svm_20_mi_mrmr + f1_score_list_xgb_20_mi_mrmr +\n",
    "                            f1_score_list_lr_30_mi_mrmr + f1_score_list_rfc_30_mi_mrmr + f1_score_list_svm_30_mi_mrmr + f1_score_list_xgb_30_mi_mrmr +\n",
    "                            f1_score_list_lr_50_mi_mrmr + f1_score_list_rfc_50_mi_mrmr + f1_score_list_svm_50_mi_mrmr + f1_score_list_xgb_50_mi_mrmr)\n",
    "\n",
    "overall_auc_list_mi_mrmr = (auc_list_lr_10_mi_mrmr + auc_list_rfc_10_mi_mrmr + auc_list_svm_10_mi_mrmr + auc_list_xgb_10_mi_mrmr +\n",
    "                            auc_list_lr_20_mi_mrmr + auc_list_rfc_20_mi_mrmr + auc_list_svm_20_mi_mrmr + auc_list_xgb_20_mi_mrmr +\n",
    "                            auc_list_lr_30_mi_mrmr + auc_list_rfc_30_mi_mrmr + auc_list_svm_30_mi_mrmr + auc_list_xgb_30_mi_mrmr +\n",
    "                            auc_list_lr_50_mi_mrmr + auc_list_rfc_50_mi_mrmr + auc_list_svm_50_mi_mrmr + auc_list_xgb_50_mi_mrmr)"
   ]
  },
  {
   "cell_type": "code",
   "execution_count": 130,
   "metadata": {},
   "outputs": [],
   "source": [
    "mi_dictionary = {\n",
    "    'samples': samples,\n",
    "    'models': models,\n",
    "    'percentiles': percentiles,\n",
    "    'accuracy': overall_accuracy_list_mi,\n",
    "    'f1_score': overall_f1_score_list_mi,\n",
    "    'auc': overall_auc_list_mi,\n",
    "}\n",
    "mi_df = pd.DataFrame(mi_dictionary)\n",
    "\n",
    "mrmr_dictionary = {\n",
    "    'samples': samples,\n",
    "    'models': models,\n",
    "    'percentiles': percentiles,\n",
    "    'accuracy': overall_accuracy_list_mrmr,\n",
    "    'f1_score': overall_f1_score_list_mrmr,\n",
    "    'auc': overall_auc_list_mrmr,\n",
    "}\n",
    "mrmr_df = pd.DataFrame(mrmr_dictionary)\n",
    "\n",
    "mi_mrmr_dictionary = {\n",
    "    'samples': samples,\n",
    "    'models': models,\n",
    "    'percentiles': percentiles,\n",
    "    'accuracy': overall_accuracy_list_mi_mrmr,\n",
    "    'f1_score': overall_f1_score_list_mi_mrmr,\n",
    "    'auc': overall_auc_list_mi_mrmr,\n",
    "}\n",
    "mi_mrmr_df = pd.DataFrame(mi_mrmr_dictionary)\n",
    "\n",
    "mi_df.to_csv('/Users/nitanshjain/Documents/Projects/Shopper_Intent_Prediction/shopper-intent-prediction/long_trajectory/results/mutual_info_results.csv')\n",
    "mrmr_df.to_csv('/Users/nitanshjain/Documents/Projects/Shopper_Intent_Prediction/shopper-intent-prediction/long_trajectory/results/mrmr_results.csv')\n",
    "mi_mrmr_df.to_csv('/Users/nitanshjain/Documents/Projects/Shopper_Intent_Prediction/shopper-intent-prediction/long_trajectory/results/mutual_info_mrmr_results.csv')\n",
    "\n",
    "\n"
   ]
  },
  {
   "cell_type": "code",
   "execution_count": null,
   "metadata": {},
   "outputs": [],
   "source": []
  }
 ],
 "metadata": {
  "kernelspec": {
   "display_name": "Shopper_Intent_Prediction-jr_Cp9Sf",
   "language": "python",
   "name": "python3"
  },
  "language_info": {
   "codemirror_mode": {
    "name": "ipython",
    "version": 3
   },
   "file_extension": ".py",
   "mimetype": "text/x-python",
   "name": "python",
   "nbconvert_exporter": "python",
   "pygments_lexer": "ipython3",
   "version": "3.10.4"
  },
  "orig_nbformat": 4
 },
 "nbformat": 4,
 "nbformat_minor": 2
}
