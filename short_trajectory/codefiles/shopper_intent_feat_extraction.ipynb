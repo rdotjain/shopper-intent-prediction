{
 "cells": [
  {
   "cell_type": "code",
   "execution_count": null,
   "metadata": {},
   "outputs": [],
   "source": [
    "!pip install ts2vg"
   ]
  },
  {
   "cell_type": "code",
   "execution_count": 1,
   "metadata": {},
   "outputs": [],
   "source": [
    "import pandas as pd\n",
    "import numpy as np\n",
    "import seaborn as sns\n",
    "\n",
    "# from ts2vg import *\n",
    "from nltk import ngrams"
   ]
  },
  {
   "cell_type": "code",
   "execution_count": 18,
   "metadata": {},
   "outputs": [
    {
     "data": {
      "text/html": [
       "<div>\n",
       "<style scoped>\n",
       "    .dataframe tbody tr th:only-of-type {\n",
       "        vertical-align: middle;\n",
       "    }\n",
       "\n",
       "    .dataframe tbody tr th {\n",
       "        vertical-align: top;\n",
       "    }\n",
       "\n",
       "    .dataframe thead th {\n",
       "        text-align: right;\n",
       "    }\n",
       "</style>\n",
       "<table border=\"1\" class=\"dataframe\">\n",
       "  <thead>\n",
       "    <tr style=\"text-align: right;\">\n",
       "      <th></th>\n",
       "      <th>session_id_hash</th>\n",
       "      <th>event_type</th>\n",
       "      <th>product_action</th>\n",
       "      <th>product_skus_hash</th>\n",
       "      <th>server_timestamp_epoch_ms</th>\n",
       "      <th>hashed_url</th>\n",
       "    </tr>\n",
       "  </thead>\n",
       "  <tbody>\n",
       "    <tr>\n",
       "      <th>0</th>\n",
       "      <td>00000005c19449b57d8d05dfc8b5474be0654032</td>\n",
       "      <td>pageview</td>\n",
       "      <td>NaN</td>\n",
       "      <td>NaN</td>\n",
       "      <td>1544469996111</td>\n",
       "      <td>da99729886aff70a02733b6cd69ee7df35622d9302347e...</td>\n",
       "    </tr>\n",
       "    <tr>\n",
       "      <th>1</th>\n",
       "      <td>00006a0ada94a5186163a25e9ed9c94481c820d9</td>\n",
       "      <td>pageview</td>\n",
       "      <td>NaN</td>\n",
       "      <td>NaN</td>\n",
       "      <td>1545737959865</td>\n",
       "      <td>e2f7e0cee4272e804f0d323a3513dd01716a5a40ab9abf...</td>\n",
       "    </tr>\n",
       "    <tr>\n",
       "      <th>2</th>\n",
       "      <td>00007d15aeb741b3cdd873cb3933351d699cc320</td>\n",
       "      <td>pageview</td>\n",
       "      <td>NaN</td>\n",
       "      <td>NaN</td>\n",
       "      <td>1544908835402</td>\n",
       "      <td>ea7b2493be61ff454f8cce412f9dc281e605daec8c43b5...</td>\n",
       "    </tr>\n",
       "    <tr>\n",
       "      <th>3</th>\n",
       "      <td>00007d15aeb741b3cdd873cb3933351d699cc320</td>\n",
       "      <td>pageview</td>\n",
       "      <td>NaN</td>\n",
       "      <td>NaN</td>\n",
       "      <td>1544908847263</td>\n",
       "      <td>ea7b2493be61ff454f8cce412f9dc281e605daec8c43b5...</td>\n",
       "    </tr>\n",
       "    <tr>\n",
       "      <th>4</th>\n",
       "      <td>00007d15aeb741b3cdd873cb3933351d699cc320</td>\n",
       "      <td>pageview</td>\n",
       "      <td>detail</td>\n",
       "      <td>90add4dd072e160034e98ddea257e0b59441eae00d8955...</td>\n",
       "      <td>1544909035879</td>\n",
       "      <td>8fa1ecf31ececb27ebe9c529966f3d1f907542fe138d5d...</td>\n",
       "    </tr>\n",
       "  </tbody>\n",
       "</table>\n",
       "</div>"
      ],
      "text/plain": [
       "                            session_id_hash event_type product_action  \\\n",
       "0  00000005c19449b57d8d05dfc8b5474be0654032   pageview            NaN   \n",
       "1  00006a0ada94a5186163a25e9ed9c94481c820d9   pageview            NaN   \n",
       "2  00007d15aeb741b3cdd873cb3933351d699cc320   pageview            NaN   \n",
       "3  00007d15aeb741b3cdd873cb3933351d699cc320   pageview            NaN   \n",
       "4  00007d15aeb741b3cdd873cb3933351d699cc320   pageview         detail   \n",
       "\n",
       "                                   product_skus_hash  \\\n",
       "0                                                NaN   \n",
       "1                                                NaN   \n",
       "2                                                NaN   \n",
       "3                                                NaN   \n",
       "4  90add4dd072e160034e98ddea257e0b59441eae00d8955...   \n",
       "\n",
       "   server_timestamp_epoch_ms  \\\n",
       "0              1544469996111   \n",
       "1              1545737959865   \n",
       "2              1544908835402   \n",
       "3              1544908847263   \n",
       "4              1544909035879   \n",
       "\n",
       "                                          hashed_url  \n",
       "0  da99729886aff70a02733b6cd69ee7df35622d9302347e...  \n",
       "1  e2f7e0cee4272e804f0d323a3513dd01716a5a40ab9abf...  \n",
       "2  ea7b2493be61ff454f8cce412f9dc281e605daec8c43b5...  \n",
       "3  ea7b2493be61ff454f8cce412f9dc281e605daec8c43b5...  \n",
       "4  8fa1ecf31ececb27ebe9c529966f3d1f907542fe138d5d...  "
      ]
     },
     "execution_count": 18,
     "metadata": {},
     "output_type": "execute_result"
    }
   ],
   "source": [
    "shop_df = pd.read_csv('/Users/nitanshjain/Documents/Projects/Shopper_Intent_Prediction/data/release_10_23_2020.csv')\n",
    "shop_df.head()"
   ]
  },
  {
   "cell_type": "code",
   "execution_count": 19,
   "metadata": {},
   "outputs": [
    {
     "name": "stdout",
     "output_type": "stream",
     "text": [
      "event_type\n",
      "pageview    4565253\n",
      "event        868358\n",
      "Name: count, dtype: int64\n",
      "product_action\n",
      "detail      1640190\n",
      "add          743363\n",
      "click         69831\n",
      "remove        51512\n",
      "purchase       9926\n",
      "Name: count, dtype: int64\n"
     ]
    }
   ],
   "source": [
    "print(shop_df.event_type.value_counts())\n",
    "print(shop_df.product_action.value_counts())"
   ]
  },
  {
   "attachments": {},
   "cell_type": "markdown",
   "metadata": {},
   "source": [
    "## Pre-processing"
   ]
  },
  {
   "cell_type": "code",
   "execution_count": 20,
   "metadata": {},
   "outputs": [
    {
     "name": "stdout",
     "output_type": "stream",
     "text": [
      "[nan 'detail' 'click' 'add' 'purchase' 'remove']\n"
     ]
    },
    {
     "data": {
      "text/html": [
       "<div>\n",
       "<style scoped>\n",
       "    .dataframe tbody tr th:only-of-type {\n",
       "        vertical-align: middle;\n",
       "    }\n",
       "\n",
       "    .dataframe tbody tr th {\n",
       "        vertical-align: top;\n",
       "    }\n",
       "\n",
       "    .dataframe thead th {\n",
       "        text-align: right;\n",
       "    }\n",
       "</style>\n",
       "<table border=\"1\" class=\"dataframe\">\n",
       "  <thead>\n",
       "    <tr style=\"text-align: right;\">\n",
       "      <th></th>\n",
       "      <th>session_id_hash</th>\n",
       "      <th>product_action</th>\n",
       "      <th>server_timestamp_epoch_ms</th>\n",
       "    </tr>\n",
       "  </thead>\n",
       "  <tbody>\n",
       "    <tr>\n",
       "      <th>0</th>\n",
       "      <td>00000005c19449b57d8d05dfc8b5474be0654032</td>\n",
       "      <td>NaN</td>\n",
       "      <td>1544469996111</td>\n",
       "    </tr>\n",
       "    <tr>\n",
       "      <th>1</th>\n",
       "      <td>00006a0ada94a5186163a25e9ed9c94481c820d9</td>\n",
       "      <td>NaN</td>\n",
       "      <td>1545737959865</td>\n",
       "    </tr>\n",
       "    <tr>\n",
       "      <th>2</th>\n",
       "      <td>00007d15aeb741b3cdd873cb3933351d699cc320</td>\n",
       "      <td>NaN</td>\n",
       "      <td>1544908835402</td>\n",
       "    </tr>\n",
       "    <tr>\n",
       "      <th>3</th>\n",
       "      <td>00007d15aeb741b3cdd873cb3933351d699cc320</td>\n",
       "      <td>NaN</td>\n",
       "      <td>1544908847263</td>\n",
       "    </tr>\n",
       "    <tr>\n",
       "      <th>4</th>\n",
       "      <td>00007d15aeb741b3cdd873cb3933351d699cc320</td>\n",
       "      <td>detail</td>\n",
       "      <td>1544909035879</td>\n",
       "    </tr>\n",
       "  </tbody>\n",
       "</table>\n",
       "</div>"
      ],
      "text/plain": [
       "                            session_id_hash product_action  \\\n",
       "0  00000005c19449b57d8d05dfc8b5474be0654032            NaN   \n",
       "1  00006a0ada94a5186163a25e9ed9c94481c820d9            NaN   \n",
       "2  00007d15aeb741b3cdd873cb3933351d699cc320            NaN   \n",
       "3  00007d15aeb741b3cdd873cb3933351d699cc320            NaN   \n",
       "4  00007d15aeb741b3cdd873cb3933351d699cc320         detail   \n",
       "\n",
       "   server_timestamp_epoch_ms  \n",
       "0              1544469996111  \n",
       "1              1545737959865  \n",
       "2              1544908835402  \n",
       "3              1544908847263  \n",
       "4              1544909035879  "
      ]
     },
     "execution_count": 20,
     "metadata": {},
     "output_type": "execute_result"
    }
   ],
   "source": [
    "print(shop_df['product_action'].unique())\n",
    "shop_df.drop(columns=['event_type', 'product_skus_hash', 'hashed_url'], axis=1, inplace=True)\n",
    "shop_df.head()"
   ]
  },
  {
   "attachments": {},
   "cell_type": "markdown",
   "metadata": {},
   "source": [
    "1. Symbolisation"
   ]
  },
  {
   "cell_type": "code",
   "execution_count": 21,
   "metadata": {},
   "outputs": [],
   "source": [
    "shop_df['product_action'].replace(np.nan,1, inplace=True)\n",
    "symbols = {\n",
    "    'detail': 2,\n",
    "    'add': 3,\n",
    "    'remove': 4,\n",
    "    'purchase': 5,\n",
    "    'click': 6\n",
    "}\n",
    "shop_df['product_action'].replace(symbols, inplace=True)"
   ]
  },
  {
   "cell_type": "code",
   "execution_count": 22,
   "metadata": {},
   "outputs": [
    {
     "name": "stdout",
     "output_type": "stream",
     "text": [
      "(443660, 3)\n"
     ]
    },
    {
     "data": {
      "text/html": [
       "<div>\n",
       "<style scoped>\n",
       "    .dataframe tbody tr th:only-of-type {\n",
       "        vertical-align: middle;\n",
       "    }\n",
       "\n",
       "    .dataframe tbody tr th {\n",
       "        vertical-align: top;\n",
       "    }\n",
       "\n",
       "    .dataframe thead th {\n",
       "        text-align: right;\n",
       "    }\n",
       "</style>\n",
       "<table border=\"1\" class=\"dataframe\">\n",
       "  <thead>\n",
       "    <tr style=\"text-align: right;\">\n",
       "      <th></th>\n",
       "      <th>session_id_hash</th>\n",
       "      <th>product_action</th>\n",
       "      <th>server_timestamp_epoch_ms</th>\n",
       "    </tr>\n",
       "  </thead>\n",
       "  <tbody>\n",
       "    <tr>\n",
       "      <th>0</th>\n",
       "      <td>00000005c19449b57d8d05dfc8b5474be0654032</td>\n",
       "      <td>[1]</td>\n",
       "      <td>[1544469996111]</td>\n",
       "    </tr>\n",
       "    <tr>\n",
       "      <th>1</th>\n",
       "      <td>00006a0ada94a5186163a25e9ed9c94481c820d9</td>\n",
       "      <td>[1]</td>\n",
       "      <td>[1545737959865]</td>\n",
       "    </tr>\n",
       "    <tr>\n",
       "      <th>2</th>\n",
       "      <td>00007d15aeb741b3cdd873cb3933351d699cc320</td>\n",
       "      <td>[1, 1, 2, 1, 2, 1, 2]</td>\n",
       "      <td>[1544908835402, 1544908847263, 1544909035879, ...</td>\n",
       "    </tr>\n",
       "    <tr>\n",
       "      <th>3</th>\n",
       "      <td>0000c49d1359c87f112285d63a9fc0d4c50f73b4</td>\n",
       "      <td>[1, 1, 1]</td>\n",
       "      <td>[1544780629084, 1544780652666, 1544780882467]</td>\n",
       "    </tr>\n",
       "    <tr>\n",
       "      <th>4</th>\n",
       "      <td>0001135282dbaf0e734345212ea6f8da9f5b66ed</td>\n",
       "      <td>[1]</td>\n",
       "      <td>[1544422592886]</td>\n",
       "    </tr>\n",
       "  </tbody>\n",
       "</table>\n",
       "</div>"
      ],
      "text/plain": [
       "                            session_id_hash         product_action  \\\n",
       "0  00000005c19449b57d8d05dfc8b5474be0654032                    [1]   \n",
       "1  00006a0ada94a5186163a25e9ed9c94481c820d9                    [1]   \n",
       "2  00007d15aeb741b3cdd873cb3933351d699cc320  [1, 1, 2, 1, 2, 1, 2]   \n",
       "3  0000c49d1359c87f112285d63a9fc0d4c50f73b4              [1, 1, 1]   \n",
       "4  0001135282dbaf0e734345212ea6f8da9f5b66ed                    [1]   \n",
       "\n",
       "                           server_timestamp_epoch_ms  \n",
       "0                                    [1544469996111]  \n",
       "1                                    [1545737959865]  \n",
       "2  [1544908835402, 1544908847263, 1544909035879, ...  \n",
       "3      [1544780629084, 1544780652666, 1544780882467]  \n",
       "4                                    [1544422592886]  "
      ]
     },
     "execution_count": 22,
     "metadata": {},
     "output_type": "execute_result"
    }
   ],
   "source": [
    "shop_df = shop_df.groupby(shop_df.session_id_hash).agg(list).reset_index()\n",
    "print(shop_df.shape)\n",
    "shop_df.head()"
   ]
  },
  {
   "attachments": {},
   "cell_type": "markdown",
   "metadata": {},
   "source": [
    "2. Assign classes"
   ]
  },
  {
   "cell_type": "code",
   "execution_count": 23,
   "metadata": {},
   "outputs": [],
   "source": [
    "shop_df['conversion_class'] = shop_df['product_action'].apply(lambda x: 'C' if 5 in x else 'NC')"
   ]
  },
  {
   "attachments": {},
   "cell_type": "markdown",
   "metadata": {},
   "source": [
    "3. Trimming such that L == [8,9,10,11,12,13,14,15,16,17]"
   ]
  },
  {
   "cell_type": "code",
   "execution_count": 24,
   "metadata": {},
   "outputs": [
    {
     "name": "stdout",
     "output_type": "stream",
     "text": [
      "(16576, 4)\n",
      "conversion_class\n",
      "NC    16337\n",
      "C       239\n",
      "Name: count, dtype: int64\n"
     ]
    },
    {
     "data": {
      "text/html": [
       "<div>\n",
       "<style scoped>\n",
       "    .dataframe tbody tr th:only-of-type {\n",
       "        vertical-align: middle;\n",
       "    }\n",
       "\n",
       "    .dataframe tbody tr th {\n",
       "        vertical-align: top;\n",
       "    }\n",
       "\n",
       "    .dataframe thead th {\n",
       "        text-align: right;\n",
       "    }\n",
       "</style>\n",
       "<table border=\"1\" class=\"dataframe\">\n",
       "  <thead>\n",
       "    <tr style=\"text-align: right;\">\n",
       "      <th></th>\n",
       "      <th>session_id_hash</th>\n",
       "      <th>product_action</th>\n",
       "      <th>server_timestamp_epoch_ms</th>\n",
       "      <th>conversion_class</th>\n",
       "    </tr>\n",
       "  </thead>\n",
       "  <tbody>\n",
       "    <tr>\n",
       "      <th>16</th>\n",
       "      <td>0003704e248795ae33f6cbe62b082cce4a011d4d</td>\n",
       "      <td>[1, 1, 1, 1, 1, 1]</td>\n",
       "      <td>[1544260763106, 1544260787306, 1544260800780, ...</td>\n",
       "      <td>NC</td>\n",
       "    </tr>\n",
       "    <tr>\n",
       "      <th>31</th>\n",
       "      <td>0006312fb6c4940082a2dd04bd1ec06e3c26b7d9</td>\n",
       "      <td>[1, 1, 2, 1, 2, 1]</td>\n",
       "      <td>[1545725372988, 1545725388695, 1545725506240, ...</td>\n",
       "      <td>NC</td>\n",
       "    </tr>\n",
       "    <tr>\n",
       "      <th>43</th>\n",
       "      <td>0007f4d284e653df33ecc6f21b4bd14f47afebf7</td>\n",
       "      <td>[1, 1, 1, 2, 1, 2]</td>\n",
       "      <td>[1545133947443, 1545133999820, 1545134010449, ...</td>\n",
       "      <td>NC</td>\n",
       "    </tr>\n",
       "    <tr>\n",
       "      <th>44</th>\n",
       "      <td>0008452a3d02e0ceaeae74da1bcc5db67507aec7</td>\n",
       "      <td>[1, 1, 2, 1, 2, 1]</td>\n",
       "      <td>[1544358279425, 1544358307043, 1544358389289, ...</td>\n",
       "      <td>NC</td>\n",
       "    </tr>\n",
       "    <tr>\n",
       "      <th>61</th>\n",
       "      <td>000ae863e71b64c88d1a24e84f511fa55b262a30</td>\n",
       "      <td>[2, 2, 1, 1, 2, 1]</td>\n",
       "      <td>[1545680866514, 1545680889832, 1545680900307, ...</td>\n",
       "      <td>NC</td>\n",
       "    </tr>\n",
       "  </tbody>\n",
       "</table>\n",
       "</div>"
      ],
      "text/plain": [
       "                             session_id_hash      product_action  \\\n",
       "16  0003704e248795ae33f6cbe62b082cce4a011d4d  [1, 1, 1, 1, 1, 1]   \n",
       "31  0006312fb6c4940082a2dd04bd1ec06e3c26b7d9  [1, 1, 2, 1, 2, 1]   \n",
       "43  0007f4d284e653df33ecc6f21b4bd14f47afebf7  [1, 1, 1, 2, 1, 2]   \n",
       "44  0008452a3d02e0ceaeae74da1bcc5db67507aec7  [1, 1, 2, 1, 2, 1]   \n",
       "61  000ae863e71b64c88d1a24e84f511fa55b262a30  [2, 2, 1, 1, 2, 1]   \n",
       "\n",
       "                            server_timestamp_epoch_ms conversion_class  \n",
       "16  [1544260763106, 1544260787306, 1544260800780, ...               NC  \n",
       "31  [1545725372988, 1545725388695, 1545725506240, ...               NC  \n",
       "43  [1545133947443, 1545133999820, 1545134010449, ...               NC  \n",
       "44  [1544358279425, 1544358307043, 1544358389289, ...               NC  \n",
       "61  [1545680866514, 1545680889832, 1545680900307, ...               NC  "
      ]
     },
     "execution_count": 24,
     "metadata": {},
     "output_type": "execute_result"
    }
   ],
   "source": [
    "# # Truncating till 8\n",
    "shop_df['product_action'] = shop_df['product_action'].apply(lambda x: x[0:x.index(5)] if 5 in x else x)\n",
    "shop_df['product_action'] = shop_df['product_action'].apply(lambda x: x if len(x) >= 6 else np.nan)\n",
    "shop_df.dropna(inplace=True)\n",
    "shop_df['product_action'] = shop_df['product_action'].apply(lambda x: x if len(x) <= 6 else np.nan)\n",
    "shop_df.dropna(inplace=True)\n",
    "print(shop_df.shape)\n",
    "print(shop_df.conversion_class.value_counts())\n",
    "shop_df.head()  "
   ]
  },
  {
   "attachments": {},
   "cell_type": "markdown",
   "metadata": {},
   "source": [
    "## Feature Importance (HVGMs)"
   ]
  },
  {
   "cell_type": "code",
   "execution_count": null,
   "metadata": {},
   "outputs": [],
   "source": [
    "def reduced_time(time):\n",
    "    index = 0\n",
    "    for sec in time:\n",
    "        if index<len(time)-1:                           # do -2 when using all events\n",
    "            time[index] = abs(time[index+1] - time[index])\n",
    "        index+=1\n",
    "    time.pop()\n",
    "\n",
    "    # final_val = time.pop()\n",
    "    # final_val = abs(final_val - avg)\n",
    "    # time.append(final_val)\n",
    "    \n",
    "    total_time = sum(time)\n",
    "    index = 0\n",
    "    for sec in time:\n",
    "        time[index] = sec/total_time\n",
    "        index+=1\n",
    "    \n",
    "    return time\n",
    "\n",
    "shop_preprocessed_df = shop_df.copy()    \n",
    "shop_preprocessed_df['reduced_time'] = shop_preprocessed_df['server_timestamp_epoch_ms'].apply(lambda x: reduced_time(x))"
   ]
  },
  {
   "cell_type": "code",
   "execution_count": null,
   "metadata": {},
   "outputs": [],
   "source": [
    "shop_preprocessed_df.reset_index(inplace=True)\n",
    "shop_preprocessed_df.drop(['server_timestamp_epoch_ms', 'index'], axis=1, inplace=True)\n",
    "shop_preprocessed_df.head()"
   ]
  },
  {
   "cell_type": "code",
   "execution_count": null,
   "metadata": {},
   "outputs": [],
   "source": [
    "def generate_edges(time_list):\n",
    "    vg = HorizontalVG()\n",
    "    vg.build(time_list)\n",
    "    edges = vg.edges\n",
    "    return edges\n",
    "\n",
    "shop_preprocessed_df['HVGms_edges'] = shop_preprocessed_df['reduced_time'].apply(lambda x: generate_edges(x))\n",
    "shop_preprocessed_df.head()"
   ]
  },
  {
   "cell_type": "code",
   "execution_count": null,
   "metadata": {},
   "outputs": [],
   "source": [
    "def pattern_hvg_4(edges):  \n",
    "    i = 0\n",
    "    edges.sort(key = lambda x: x[1])\n",
    "    j = edges[len(edges)-1][1]\n",
    "    pattern = list()\n",
    "    while i<=int(j/2):\n",
    "        edges_tb_used = [edges for edges in edges if edges[0] >= i and edges[1] <= i+3]\n",
    "        edges_tb_used = sorted(edges_tb_used, key=lambda x: (x[0], x[1]))\n",
    "        # print(i)\n",
    "        if len(edges_tb_used) == 5:\n",
    "            if [(i, i+1), (i, i+3), (i+1, i+2), (i+1, i+3), (i+2, i+3)] == edges_tb_used:\n",
    "                pattern.append('F4')\n",
    "            if [(i, i+1), (i, i+2), (i, i+3), (i+1, i+2), (i+2, i+3)] == edges_tb_used:\n",
    "                pattern.append('E4')\n",
    "        \n",
    "        elif len(edges_tb_used) == 4:\n",
    "            if [(i, i+1), (i+1, i+2), (i+1, i+3), (i+2, i+3)] == edges_tb_used:\n",
    "                pattern.append('D4')\n",
    "            if [(i, i+1), (i, i+2), (i+1, i+2), (i+2, i+3)] == edges_tb_used:\n",
    "                pattern.append('C4')\n",
    "            if [(i, i+1), (i, i+3), (i+1, i+2), (i+2, i+3)] == edges_tb_used:\n",
    "                pattern.append('B4')\n",
    "            \n",
    "        elif len(edges_tb_used) == 3:\n",
    "            pattern.append('A4')\n",
    "        \n",
    "        i+=1\n",
    "                \n",
    "    return pattern"
   ]
  },
  {
   "cell_type": "code",
   "execution_count": null,
   "metadata": {},
   "outputs": [],
   "source": [
    "def pattern_hvg_5(edges):\n",
    "    i = 0\n",
    "    edges.sort(key = lambda x: x[1])\n",
    "    j = edges[len(edges)-1][1]\n",
    "    pattern = list()\n",
    "    # print(\"=====\")\n",
    "    # print(edges)\n",
    "    while i<=int(j/2):\n",
    "        edges_tb_used = [edges for edges in edges if edges[0] >= i and edges[1] <= i+4]\n",
    "        edges_tb_used = sorted(edges_tb_used, key=lambda x: (x[0], x[1]))\n",
    "\n",
    "        if len(edges_tb_used) == 7:\n",
    "            if [(i, i+1), (i, i+2), (i, i+4), (i+1, i+2), (i+2, i+3), (i+2, i+4), (i+3, i+4)] == edges_tb_used:\n",
    "                pattern.append('V5')\n",
    "            elif [(i, i+1), (i, i+3), (i, i+4), (i+1, i+2), (i+1, i+3), (i+2, i+3), (i+3, i+4)] == edges_tb_used:\n",
    "                pattern.append('U5')\n",
    "            elif [(i, i+1), (i, i+4), (i+1, i+2), (i+1, i+3), (i+1, i+4), (i+2, i+3), (i+3, i+4)] == edges_tb_used:\n",
    "                pattern.append('T5')\n",
    "            elif [(i, i+1), (i, i+2), (i, i+3), (i, i+4), (i+1, i+2), (i+2, i+3), (i+3, i+4)] == edges_tb_used:\n",
    "                pattern.append('S5')\n",
    "            elif [(i, i+1), (i, i+4), (i+1, i+2), (i+1, i+4), (i+2, i+3), (i+2, i+4), (i+3, i+4)] == edges_tb_used:\n",
    "                pattern.append('R5')\n",
    "                \n",
    "        elif len(edges_tb_used) == 6:\n",
    "            if [(i, i+1), (i+1, i+2), (i+1, i+3), (i+1, i+4), (i+2, i+3), (i+3, i+4)] == edges_tb_used:\n",
    "                pattern.append('Q5')\n",
    "            elif [(i, i+1), (i, i+3), (i+1, i+2), (i+1, i+3), (i+2, i+3), (i+3, i+4)] == edges_tb_used:\n",
    "                pattern.append('P5')\n",
    "            elif [(i, i+1), (i, i+2), (i, i+3), (i+1, i+2), (i+2, i+3), (i+3, i+4)] == edges_tb_used:\n",
    "                pattern.append('O5')\n",
    "            elif [(i, i+1), (i, i+2), (i+1, i+2), (i+2, i+3), (i+2, i+4), (i+3, i+4)] == edges_tb_used:\n",
    "                pattern.append('N5')\n",
    "            elif [(i, i+1), (i, i+4), (i+1, i+2), (i+1, i+3), (i+2, i+3), (i+3, i+4)] == edges_tb_used:\n",
    "                pattern.append('M5')\n",
    "            elif [(i, i+1), (i+1, i+2), (i+1, i+4), (i+2, i+3), (i+2, i+4), (i+3, i+4)] == edges_tb_used:\n",
    "                pattern.append('L5')\n",
    "            elif [(i, i+1), (i, i+2), (i, i+4), (i+1, i+2), (i+2, i+3), (i+3, i+4)] == edges_tb_used:\n",
    "                pattern.append('K5')\n",
    "            elif [(i, i+1), (i, i+4), (i+1, i+2), (i+2, i+3), (i+2, i+4), (i+3, i+4)] == edges_tb_used:\n",
    "                pattern.append('J5')\n",
    "            elif [(i, i+1), (i, i+3), (i, i+4), (i+1, i+2), (i+2, i+3), (i+3, i+4)] == edges_tb_used:\n",
    "                pattern.append('I5')\n",
    "            elif [(i, i+1), (i, i+4), (i+1, i+2), (i+1, i+4), (i+2, i+3), (i+3, i+4)] == edges_tb_used:\n",
    "                pattern.append('H5')    \n",
    "            \n",
    "        elif len(edges_tb_used) == 5:\n",
    "            if [(i, i+1), (i, i+2), (i+1, i+2), (i+2, i+3), (i+3, i+4)] == edges_tb_used:\n",
    "                pattern.append('G5')\n",
    "            elif [(i, i+1), (i, i+4), (i+1, i+2), (i+2, i+3), (i+3, i+4)] == edges_tb_used:\n",
    "                pattern.append('F5')\n",
    "            elif [(i, i+1), (i+1, i+2), (i+2, i+3), (i+2, i+4), (i+3, i+4)] == edges_tb_used:\n",
    "                pattern.append('E5')\n",
    "            elif [(i, i+1), (i, i+3), (i+1, i+2), (i+2, i+3), (i+3, i+4)] == edges_tb_used:\n",
    "                pattern.append('D5')\n",
    "            elif [(i, i+1), (i+1, i+2), (i+1, i+4), (i+2, i+3), (i+3, i+4)] == edges_tb_used:\n",
    "                pattern.append('C5')\n",
    "            elif [(i, i+1), (i+1, i+2), (i+1, i+3), (i+2, i+3), (i+3, i+4)] == edges_tb_used:\n",
    "                pattern.append('B5')\n",
    "            \n",
    "        elif len(edges_tb_used) == 4:\n",
    "            pattern.append('A5')\n",
    "        # print(pattern)    \n",
    "        i+=1\n",
    "    return pattern"
   ]
  },
  {
   "cell_type": "code",
   "execution_count": null,
   "metadata": {},
   "outputs": [],
   "source": [
    "shop_preprocessed_df['pattern_hvg_4_nodes'] = shop_preprocessed_df['HVGms_edges'].apply(pattern_hvg_4)\n",
    "shop_preprocessed_df['pattern_hvg_5_nodes'] = shop_preprocessed_df['HVGms_edges'].apply(pattern_hvg_5)\n",
    "shop_preprocessed_df.head()"
   ]
  },
  {
   "cell_type": "code",
   "execution_count": null,
   "metadata": {},
   "outputs": [],
   "source": [
    "shop_preprocessed_df['unigram'] = shop_preprocessed_df['product_action'].apply(lambda x: list(ngrams(x, 1)))\n",
    "shop_preprocessed_df['bigram'] = shop_preprocessed_df['product_action'].apply(lambda x: list(ngrams(x, 2)))\n",
    "shop_preprocessed_df['trigram'] = shop_preprocessed_df['product_action'].apply(lambda x: list(ngrams(x, 3)))\n",
    "shop_preprocessed_df.head()"
   ]
  },
  {
   "cell_type": "code",
   "execution_count": null,
   "metadata": {},
   "outputs": [],
   "source": [
    "print(shop_preprocessed_df.unigram)\n",
    "print(shop_preprocessed_df.bigram)\n",
    "print(shop_preprocessed_df.trigram)"
   ]
  },
  {
   "cell_type": "code",
   "execution_count": null,
   "metadata": {},
   "outputs": [],
   "source": [
    "shop_preprocessed_df.to_csv('/Users/nitanshjain/Documents/Projects/Shopper_Intent_Prediction/data/shopper_data_feature_extracted.csv', index=False)"
   ]
  }
 ],
 "metadata": {
  "kernelspec": {
   "display_name": "Shopper_Intent_Prediction-jr_Cp9Sf",
   "language": "python",
   "name": "python3"
  },
  "language_info": {
   "codemirror_mode": {
    "name": "ipython",
    "version": 3
   },
   "file_extension": ".py",
   "mimetype": "text/x-python",
   "name": "python",
   "nbconvert_exporter": "python",
   "pygments_lexer": "ipython3",
   "version": "3.10.4"
  },
  "orig_nbformat": 4
 },
 "nbformat": 4,
 "nbformat_minor": 2
}
