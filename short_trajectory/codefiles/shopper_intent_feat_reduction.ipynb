{
 "cells": [
  {
   "cell_type": "code",
   "execution_count": 37,
   "metadata": {},
   "outputs": [],
   "source": [
    "import pandas as pd\n",
    "import numpy as np\n",
    "import matplotlib.pyplot as plt\n",
    "import seaborn as sns\n",
    "\n",
    "from sklearn.model_selection import *\n",
    "from sklearn.feature_selection import *\n",
    "\n",
    "from imblearn.under_sampling import RandomUnderSampler"
   ]
  },
  {
   "cell_type": "code",
   "execution_count": 38,
   "metadata": {},
   "outputs": [],
   "source": [
    "length_index = 14\n",
    "shop_df = pd.read_csv('/Users/nitanshjain/Documents/Projects/Shopper_Intent_Prediction/data/short_trajectory/shopper_data_slm_feat_length_{}_v2.csv'.format(length_index))\n",
    "shop_df.drop(['session_id_hash', 'product_action', 'reduced_time', 'HVGms_edges', 'pattern_hvg_4_nodes', 'pattern_hvg_5_nodes', 'unigram', 'bigram', 'trigram', 'unigram_prob_freq', 'bigram_prob_freq', 'trigram_prob_freq', 'pattern_hvg_4_nodes_prob_freq', 'pattern_hvg_5_nodes_prob_freq'], axis=1, inplace=True)\n",
    "shop_df['conversion_class'] = np.where(shop_df['conversion_class'] == 'NC', 0, 1)\n",
    "print(shop_df.shape)\n",
    "shop_df.head()"
   ]
  },
  {
   "cell_type": "code",
   "execution_count": null,
   "metadata": {},
   "outputs": [
    {
     "name": "stdout",
     "output_type": "stream",
     "text": [
      "(11724, 149) (11724,)\n",
      "(11724, 149) (11724,)\n",
      "(11724, 149) (11724,)\n",
      "(11724, 149) (11724,)\n",
      "(11724, 149) (11724,)\n",
      "(11724, 149) (11724,)\n",
      "(11724, 149) (11724,)\n",
      "(11724, 149) (11724,)\n",
      "(11724, 149) (11724,)\n",
      "(11724, 149) (11724,)\n"
     ]
    }
   ],
   "source": [
    "x, y = shop_df.drop('conversion_class', axis=1), shop_df['conversion_class']\n",
    "subsamples = []\n",
    "for i in range(10):\n",
    "    rus = RandomUnderSampler(random_state=i)\n",
    "    x_resampled, y_resampled = rus.fit_resample(x, y)\n",
    "    print(x_resampled.shape, y_resampled.shape)\n",
    "    subsamples.append((x_resampled, y_resampled))\n",
    "    "
   ]
  },
  {
   "cell_type": "code",
   "execution_count": null,
   "metadata": {},
   "outputs": [
    {
     "name": "stdout",
     "output_type": "stream",
     "text": [
      "(73074, 149) (18269, 149) (73074,) (18269,)\n"
     ]
    }
   ],
   "source": [
    "x_train, x_test, y_train, y_test = train_test_split(x, y, test_size=0.2, random_state=42)\n",
    "print(x_train.shape, x_test.shape, y_train.shape, y_test.shape)"
   ]
  },
  {
   "attachments": {},
   "cell_type": "markdown",
   "metadata": {},
   "source": [
    "# MI (Mutual Information)"
   ]
  },
  {
   "cell_type": "code",
   "execution_count": null,
   "metadata": {},
   "outputs": [
    {
     "name": "stdout",
     "output_type": "stream",
     "text": [
      "15\n",
      "30\n",
      "45\n",
      "74\n",
      "111\n",
      "134\n",
      "10\n",
      "10\n",
      "10\n",
      "10\n",
      "10\n",
      "10\n"
     ]
    }
   ],
   "source": [
    "mi_feat_list_10_percentile = []\n",
    "mi_feat_list_20_percentile = []\n",
    "mi_feat_list_30_percentile = []\n",
    "mi_feat_list_50_percentile = []\n",
    "mi_feat_list_75_percentile = []\n",
    "mi_feat_list_90_percentile = []\n",
    "\n",
    "\n",
    "for samples in subsamples:\n",
    "    x_sample = samples[0]\n",
    "    y_sample = samples[1]\n",
    "    \n",
    "    sel_10_percentile_cols = SelectPercentile(mutual_info_classif, percentile=10)\n",
    "    sel_10_percentile_cols.fit(x_sample, y_sample)\n",
    "    mi_feat_list_10_percentile.append(x_sample.columns[sel_10_percentile_cols.get_support()])\n",
    "    \n",
    "    sel_20_percentile_cols = SelectPercentile(mutual_info_classif, percentile=20)\n",
    "    sel_20_percentile_cols.fit(x_sample, y_sample)\n",
    "    mi_feat_list_20_percentile.append(x_sample.columns[sel_20_percentile_cols.get_support()])\n",
    "    \n",
    "    sel_30_percentile_cols = SelectPercentile(mutual_info_classif, percentile=30)\n",
    "    sel_30_percentile_cols.fit(x_sample, y_sample)\n",
    "    mi_feat_list_30_percentile.append(x_sample.columns[sel_30_percentile_cols.get_support()])\n",
    "    \n",
    "    sel_50_percentile_cols = SelectPercentile(mutual_info_classif, percentile=50)\n",
    "    sel_50_percentile_cols.fit(x_sample, y_sample)\n",
    "    mi_feat_list_50_percentile.append(x_sample.columns[sel_50_percentile_cols.get_support()])\n",
    "    \n",
    "    sel_75_percentile_cols = SelectPercentile(mutual_info_classif, percentile=75)\n",
    "    sel_75_percentile_cols.fit(x_sample, y_sample)\n",
    "    mi_feat_list_75_percentile.append(x_sample.columns[sel_75_percentile_cols.get_support()])\n",
    "    \n",
    "    sel_90_percentile_cols = SelectPercentile(mutual_info_classif, percentile=90)\n",
    "    sel_90_percentile_cols.fit(x_sample, y_sample)\n",
    "    mi_feat_list_90_percentile.append(x_sample.columns[sel_90_percentile_cols.get_support()])\n",
    "\n",
    "print(len(mi_feat_list_10_percentile[0]))\n",
    "print(len(mi_feat_list_20_percentile[0]))\n",
    "print(len(mi_feat_list_30_percentile[0]))\n",
    "print(len(mi_feat_list_50_percentile[0]))\n",
    "print(len(mi_feat_list_75_percentile[0]))\n",
    "print(len(mi_feat_list_90_percentile[0]))\n",
    "\n",
    "print(len(mi_feat_list_10_percentile))\n",
    "print(len(mi_feat_list_20_percentile))\n",
    "print(len(mi_feat_list_30_percentile))\n",
    "print(len(mi_feat_list_50_percentile))\n",
    "print(len(mi_feat_list_75_percentile))\n",
    "print(len(mi_feat_list_90_percentile))"
   ]
  },
  {
   "attachments": {},
   "cell_type": "markdown",
   "metadata": {},
   "source": [
    "# mRMR"
   ]
  },
  {
   "cell_type": "code",
   "execution_count": null,
   "metadata": {},
   "outputs": [],
   "source": [
    "def mrmr_feat_selected(x, y, f, correlation, k):\n",
    "    feat_list = []\n",
    "    selected = []\n",
    "    not_selected = x.columns.to_list()\n",
    "    # repeat k times\n",
    "    for i in range(k):\n",
    "    \n",
    "        if i > 0:\n",
    "            last_selected = selected[-1]\n",
    "            correlation.loc[not_selected, last_selected] = x[not_selected].corrwith(x[last_selected]).abs().clip(.00001)\n",
    "            \n",
    "        score = f.loc[not_selected] / correlation.loc[not_selected, selected].mean(axis = 1).fillna(.00001)\n",
    "        best = score.index[score.argmax()]\n",
    "        selected.append(best)\n",
    "        not_selected.remove(best)\n",
    "        \n",
    "    feat_list.append(selected)\n",
    "    return feat_list"
   ]
  },
  {
   "cell_type": "code",
   "execution_count": null,
   "metadata": {},
   "outputs": [
    {
     "name": "stdout",
     "output_type": "stream",
     "text": [
      "15\n",
      "30\n",
      "45\n",
      "74\n",
      "111\n",
      "134\n",
      "10\n",
      "10\n",
      "10\n",
      "10\n",
      "10\n",
      "10\n"
     ]
    }
   ],
   "source": [
    "mrmr_feat_list_10_percentile = []\n",
    "mrmr_feat_list_20_percentile = []\n",
    "mrmr_feat_list_30_percentile = []\n",
    "mrmr_feat_list_50_percentile = []\n",
    "mrmr_feat_list_75_percentile = []\n",
    "mrmr_feat_list_90_percentile = []\n",
    "\n",
    "for samples in subsamples:\n",
    "    x_sample = samples[0]\n",
    "    y_sample = samples[1]\n",
    "    \n",
    "    F = pd.Series(f_regression(x_sample, y_sample)[0], index = x_sample.columns)\n",
    "    corr = pd.DataFrame(.001, index = x_sample.columns, columns = x_sample.columns)\n",
    "\n",
    "    x = mrmr_feat_selected(x_sample, y_sample, F, corr, len(mi_feat_list_10_percentile[0]))\n",
    "    mrmr_feat_list_10_percentile += x\n",
    "    \n",
    "    x = mrmr_feat_selected(x_sample, y_sample, F, corr, len(mi_feat_list_20_percentile[0]))\n",
    "    mrmr_feat_list_20_percentile += x\n",
    "    \n",
    "    x = mrmr_feat_selected(x_sample, y_sample, F, corr, len(mi_feat_list_30_percentile[0]))\n",
    "    mrmr_feat_list_30_percentile += x\n",
    "    \n",
    "    x = mrmr_feat_selected(x_sample, y_sample, F, corr, len(mi_feat_list_50_percentile[0]))\n",
    "    mrmr_feat_list_50_percentile += x\n",
    "    \n",
    "    x = mrmr_feat_selected(x_sample, y_sample, F, corr, len(mi_feat_list_75_percentile[0]))\n",
    "    mrmr_feat_list_75_percentile += x\n",
    "\n",
    "    x = mrmr_feat_selected(x_sample, y_sample, F, corr, len(mi_feat_list_90_percentile[0]))\n",
    "    mrmr_feat_list_90_percentile += x\n",
    "        \n",
    "print(len(mrmr_feat_list_10_percentile[0]))\n",
    "print(len(mrmr_feat_list_20_percentile[0]))\n",
    "print(len(mrmr_feat_list_30_percentile[0]))\n",
    "print(len(mrmr_feat_list_50_percentile[0]))\n",
    "print(len(mrmr_feat_list_75_percentile[0]))\n",
    "print(len(mrmr_feat_list_90_percentile[0]))\n",
    "\n",
    "print(len(mrmr_feat_list_10_percentile))\n",
    "print(len(mrmr_feat_list_20_percentile))\n",
    "print(len(mrmr_feat_list_30_percentile))\n",
    "print(len(mrmr_feat_list_50_percentile))\n",
    "print(len(mrmr_feat_list_75_percentile))\n",
    "print(len(mrmr_feat_list_90_percentile))"
   ]
  },
  {
   "attachments": {},
   "cell_type": "markdown",
   "metadata": {},
   "source": [
    "# MI & mRMR"
   ]
  },
  {
   "cell_type": "code",
   "execution_count": null,
   "metadata": {},
   "outputs": [
    {
     "name": "stdout",
     "output_type": "stream",
     "text": [
      "13\n",
      "28\n",
      "35\n",
      "56\n",
      "86\n",
      "122\n"
     ]
    }
   ],
   "source": [
    "mi_mrmr_feat_list_10_percentile = []\n",
    "for feat in zip(mi_feat_list_10_percentile, mrmr_feat_list_10_percentile):\n",
    "    mi_mrmr_feat_list_10_percentile.append(list(set(feat[0]).intersection(feat[1])))\n",
    "\n",
    "mi_mrmr_feat_list_20_percentile = []\n",
    "for feat in zip(mi_feat_list_20_percentile, mrmr_feat_list_20_percentile):\n",
    "    mi_mrmr_feat_list_20_percentile.append(list(set(feat[0]).intersection(feat[1])))\n",
    "    \n",
    "mi_mrmr_feat_list_30_percentile = []\n",
    "for feat in zip(mi_feat_list_30_percentile, mrmr_feat_list_30_percentile):\n",
    "    mi_mrmr_feat_list_30_percentile.append(list(set(feat[0]).intersection(feat[1])))\n",
    "    \n",
    "mi_mrmr_feat_list_50_percentile = []\n",
    "for feat in zip(mi_feat_list_50_percentile, mrmr_feat_list_50_percentile):\n",
    "    mi_mrmr_feat_list_50_percentile.append(list(set(feat[0]).intersection(feat[1]))) \n",
    "    \n",
    "mi_mrmr_feat_list_75_percentile = []\n",
    "for feat in zip(mi_feat_list_75_percentile, mrmr_feat_list_75_percentile):\n",
    "    mi_mrmr_feat_list_75_percentile.append(list(set(feat[0]).intersection(feat[1]))) \n",
    "\n",
    "mi_mrmr_feat_list_90_percentile = []\n",
    "for feat in zip(mi_feat_list_90_percentile, mrmr_feat_list_90_percentile):\n",
    "    mi_mrmr_feat_list_90_percentile.append(list(set(feat[0]).intersection(feat[1]))) \n",
    "    \n",
    "print(len(mi_mrmr_feat_list_10_percentile[0]))\n",
    "print(len(mi_mrmr_feat_list_20_percentile[0]))\n",
    "print(len(mi_mrmr_feat_list_30_percentile[0]))\n",
    "print(len(mi_mrmr_feat_list_50_percentile[0]))\n",
    "print(len(mi_mrmr_feat_list_75_percentile[0]))\n",
    "print(len(mi_mrmr_feat_list_90_percentile[0]))"
   ]
  },
  {
   "attachments": {},
   "cell_type": "markdown",
   "metadata": {},
   "source": [
    "# Saving in CSV and Text Files"
   ]
  },
  {
   "cell_type": "code",
   "execution_count": null,
   "metadata": {},
   "outputs": [],
   "source": [
    "i = 1\n",
    "for samples in subsamples:\n",
    "    sample_df = pd.concat([samples[0], samples[1]], axis = 1)\n",
    "    sample_df.to_csv('/Users/nitanshjain/Documents/Projects/Shopper_Intent_Prediction/shopper-intent-prediction/short_trajectory/subsamples_v2/{}/subsample_{}_v2.csv'.format(length_index, i))\n",
    "    i+=1"
   ]
  },
  {
   "cell_type": "code",
   "execution_count": null,
   "metadata": {},
   "outputs": [],
   "source": [
    "def write_list_of_lists_to_file(list_of_lists, file_path):\n",
    "    with open(file_path, 'w') as file:\n",
    "        for sublist in list_of_lists:\n",
    "            line = ' '.join(str(element) for element in sublist) + '\\n'\n",
    "            file.write(line)"
   ]
  },
  {
   "cell_type": "code",
   "execution_count": null,
   "metadata": {},
   "outputs": [],
   "source": [
    "write_list_of_lists_to_file(mi_feat_list_10_percentile, '/Users/nitanshjain/Documents/Projects/Shopper_Intent_Prediction/shopper-intent-prediction/short_trajectory/features_v2/{}/mi_feat_list_10_percentile_v2.txt'.format(length_index))\n",
    "write_list_of_lists_to_file(mi_feat_list_20_percentile, '/Users/nitanshjain/Documents/Projects/Shopper_Intent_Prediction/shopper-intent-prediction/short_trajectory/features_v2/{}/mi_feat_list_20_percentile_v2.txt'.format(length_index))\n",
    "write_list_of_lists_to_file(mi_feat_list_30_percentile, '/Users/nitanshjain/Documents/Projects/Shopper_Intent_Prediction/shopper-intent-prediction/short_trajectory/features_v2/{}/mi_feat_list_30_percentile_v2.txt'.format(length_index))\n",
    "write_list_of_lists_to_file(mi_feat_list_50_percentile, '/Users/nitanshjain/Documents/Projects/Shopper_Intent_Prediction/shopper-intent-prediction/short_trajectory/features_v2/{}/mi_feat_list_50_percentile_v2.txt'.format(length_index))\n",
    "write_list_of_lists_to_file(mi_feat_list_75_percentile, '/Users/nitanshjain/Documents/Projects/Shopper_Intent_Prediction/shopper-intent-prediction/short_trajectory/features_v2/{}/mi_feat_list_75_percentile_v2.txt'.format(length_index))\n",
    "write_list_of_lists_to_file(mi_feat_list_90_percentile, '/Users/nitanshjain/Documents/Projects/Shopper_Intent_Prediction/shopper-intent-prediction/short_trajectory/features_v2/{}/mi_feat_list_90_percentile_v2.txt'.format(length_index))\n",
    "\n",
    "write_list_of_lists_to_file(mrmr_feat_list_10_percentile, '/Users/nitanshjain/Documents/Projects/Shopper_Intent_Prediction/shopper-intent-prediction/short_trajectory/features_v2/{}/mrmr_feat_list_10_percentile_v2.txt'.format(length_index))\n",
    "write_list_of_lists_to_file(mrmr_feat_list_20_percentile, '/Users/nitanshjain/Documents/Projects/Shopper_Intent_Prediction/shopper-intent-prediction/short_trajectory/features_v2/{}/mrmr_feat_list_20_percentile_v2.txt'.format(length_index))\n",
    "write_list_of_lists_to_file(mrmr_feat_list_30_percentile, '/Users/nitanshjain/Documents/Projects/Shopper_Intent_Prediction/shopper-intent-prediction/short_trajectory/features_v2/{}/mrmr_feat_list_30_percentile_v2.txt'.format(length_index))\n",
    "write_list_of_lists_to_file(mrmr_feat_list_50_percentile, '/Users/nitanshjain/Documents/Projects/Shopper_Intent_Prediction/shopper-intent-prediction/short_trajectory/features_v2/{}/mrmr_feat_list_50_percentile_v2.txt'.format(length_index))\n",
    "write_list_of_lists_to_file(mrmr_feat_list_75_percentile, '/Users/nitanshjain/Documents/Projects/Shopper_Intent_Prediction/shopper-intent-prediction/short_trajectory/features_v2/{}/mrmr_feat_list_75_percentile_v2.txt'.format(length_index))\n",
    "write_list_of_lists_to_file(mrmr_feat_list_90_percentile, '/Users/nitanshjain/Documents/Projects/Shopper_Intent_Prediction/shopper-intent-prediction/short_trajectory/features_v2/{}/mrmr_feat_list_90_percentile_v2.txt'.format(length_index))\n",
    "\n",
    "write_list_of_lists_to_file(mi_mrmr_feat_list_10_percentile, '/Users/nitanshjain/Documents/Projects/Shopper_Intent_Prediction/shopper-intent-prediction/short_trajectory/features_v2/{}/mi_mrmr_feat_list_10_percentile_v2.txt'.format(length_index))\n",
    "write_list_of_lists_to_file(mi_mrmr_feat_list_20_percentile, '/Users/nitanshjain/Documents/Projects/Shopper_Intent_Prediction/shopper-intent-prediction/short_trajectory/features_v2/{}/mi_mrmr_feat_list_20_percentile_v2.txt'.format(length_index))\n",
    "write_list_of_lists_to_file(mi_mrmr_feat_list_30_percentile, '/Users/nitanshjain/Documents/Projects/Shopper_Intent_Prediction/shopper-intent-prediction/short_trajectory/features_v2/{}/mi_mrmr_feat_list_30_percentile_v2.txt'.format(length_index))\n",
    "write_list_of_lists_to_file(mi_mrmr_feat_list_50_percentile, '/Users/nitanshjain/Documents/Projects/Shopper_Intent_Prediction/shopper-intent-prediction/short_trajectory/features_v2/{}/mi_mrmr_feat_list_50_percentile_v2.txt'.format(length_index))\n",
    "write_list_of_lists_to_file(mi_mrmr_feat_list_75_percentile, '/Users/nitanshjain/Documents/Projects/Shopper_Intent_Prediction/shopper-intent-prediction/short_trajectory/features_v2/{}/mi_mrmr_feat_list_75_percentile_v2.txt'.format(length_index))\n",
    "write_list_of_lists_to_file(mi_mrmr_feat_list_90_percentile, '/Users/nitanshjain/Documents/Projects/Shopper_Intent_Prediction/shopper-intent-prediction/short_trajectory/features_v2/{}/mi_mrmr_feat_list_90_percentile_v2.txt'.format(length_index))"
   ]
  },
  {
   "cell_type": "code",
   "execution_count": null,
   "metadata": {},
   "outputs": [],
   "source": [
    "\n",
    "# https://towardsdatascience.com/mrmr-explained-exactly-how-you-wished-someone-explained-to-you-9cf4ed27458b"
   ]
  }
 ],
 "metadata": {
  "kernelspec": {
   "display_name": "Shopper_Intent_Prediction-jr_Cp9Sf",
   "language": "python",
   "name": "python3"
  },
  "language_info": {
   "codemirror_mode": {
    "name": "ipython",
    "version": 3
   },
   "file_extension": ".py",
   "mimetype": "text/x-python",
   "name": "python",
   "nbconvert_exporter": "python",
   "pygments_lexer": "ipython3",
   "version": "3.10.4"
  },
  "orig_nbformat": 4
 },
 "nbformat": 4,
 "nbformat_minor": 2
}
