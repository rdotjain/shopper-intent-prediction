version https://git-lfs.github.com/spec/v1
oid sha256:c47ee1999e5ea3c7e24b2e06fccd7e8051b9745a371bcfa6a92161986ace8ff1
size 57462
