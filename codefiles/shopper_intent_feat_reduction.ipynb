{
 "cells": [
  {
   "cell_type": "code",
   "execution_count": 3,
   "metadata": {},
   "outputs": [],
   "source": [
    "import pandas as pd\n",
    "import numpy as np\n",
    "import matplotlib.pyplot as plt\n",
    "import seaborn as sns\n",
    "\n",
    "from sklearn.model_selection import *\n",
    "from sklearn.feature_selection import *\n",
    "\n",
    "from imblearn.under_sampling import RandomUnderSampler\n"
   ]
  },
  {
   "cell_type": "code",
   "execution_count": 2,
   "metadata": {},
   "outputs": [
    {
     "name": "stdout",
     "output_type": "stream",
     "text": [
      "(10392, 140)\n"
     ]
    },
    {
     "data": {
      "text/html": [
       "<div>\n",
       "<style scoped>\n",
       "    .dataframe tbody tr th:only-of-type {\n",
       "        vertical-align: middle;\n",
       "    }\n",
       "\n",
       "    .dataframe tbody tr th {\n",
       "        vertical-align: top;\n",
       "    }\n",
       "\n",
       "    .dataframe thead th {\n",
       "        text-align: right;\n",
       "    }\n",
       "</style>\n",
       "<table border=\"1\" class=\"dataframe\">\n",
       "  <thead>\n",
       "    <tr style=\"text-align: right;\">\n",
       "      <th></th>\n",
       "      <th>conversion_class</th>\n",
       "      <th>unigram_entropy</th>\n",
       "      <th>bigram_entropy</th>\n",
       "      <th>trigram_entropy</th>\n",
       "      <th>pattern_hvg_4_nodes_entropy</th>\n",
       "      <th>pattern_hvg_5_node_entropy</th>\n",
       "      <th>(1,)</th>\n",
       "      <th>(2,)</th>\n",
       "      <th>(6,)</th>\n",
       "      <th>(3,)</th>\n",
       "      <th>...</th>\n",
       "      <th>S5</th>\n",
       "      <th>R5</th>\n",
       "      <th>K5</th>\n",
       "      <th>C5</th>\n",
       "      <th>D5</th>\n",
       "      <th>H5</th>\n",
       "      <th>J5</th>\n",
       "      <th>M5</th>\n",
       "      <th>F5</th>\n",
       "      <th>I5</th>\n",
       "    </tr>\n",
       "  </thead>\n",
       "  <tbody>\n",
       "    <tr>\n",
       "      <th>0</th>\n",
       "      <td>0</td>\n",
       "      <td>0.601924</td>\n",
       "      <td>0.601924</td>\n",
       "      <td>1.450805</td>\n",
       "      <td>1.054920</td>\n",
       "      <td>1.332179</td>\n",
       "      <td>0.812500</td>\n",
       "      <td>0.125000</td>\n",
       "      <td>0.0625</td>\n",
       "      <td>0.0</td>\n",
       "      <td>...</td>\n",
       "      <td>0.0</td>\n",
       "      <td>0.0</td>\n",
       "      <td>0.0</td>\n",
       "      <td>0.0</td>\n",
       "      <td>0.0</td>\n",
       "      <td>0.0</td>\n",
       "      <td>0.0</td>\n",
       "      <td>0.0</td>\n",
       "      <td>0.0</td>\n",
       "      <td>0.0</td>\n",
       "    </tr>\n",
       "    <tr>\n",
       "      <th>1</th>\n",
       "      <td>0</td>\n",
       "      <td>0.661563</td>\n",
       "      <td>0.661563</td>\n",
       "      <td>1.011404</td>\n",
       "      <td>0.636514</td>\n",
       "      <td>1.098612</td>\n",
       "      <td>0.625000</td>\n",
       "      <td>0.375000</td>\n",
       "      <td>0.0000</td>\n",
       "      <td>0.0</td>\n",
       "      <td>...</td>\n",
       "      <td>0.0</td>\n",
       "      <td>0.0</td>\n",
       "      <td>0.0</td>\n",
       "      <td>0.0</td>\n",
       "      <td>0.0</td>\n",
       "      <td>0.0</td>\n",
       "      <td>0.0</td>\n",
       "      <td>0.0</td>\n",
       "      <td>0.0</td>\n",
       "      <td>0.0</td>\n",
       "    </tr>\n",
       "    <tr>\n",
       "      <th>2</th>\n",
       "      <td>0</td>\n",
       "      <td>0.679193</td>\n",
       "      <td>0.679193</td>\n",
       "      <td>1.193550</td>\n",
       "      <td>0.636514</td>\n",
       "      <td>1.098612</td>\n",
       "      <td>0.583333</td>\n",
       "      <td>0.416667</td>\n",
       "      <td>0.0000</td>\n",
       "      <td>0.0</td>\n",
       "      <td>...</td>\n",
       "      <td>0.0</td>\n",
       "      <td>0.0</td>\n",
       "      <td>0.0</td>\n",
       "      <td>0.0</td>\n",
       "      <td>0.0</td>\n",
       "      <td>0.0</td>\n",
       "      <td>0.0</td>\n",
       "      <td>0.0</td>\n",
       "      <td>0.0</td>\n",
       "      <td>0.0</td>\n",
       "    </tr>\n",
       "    <tr>\n",
       "      <th>3</th>\n",
       "      <td>0</td>\n",
       "      <td>0.673012</td>\n",
       "      <td>0.673012</td>\n",
       "      <td>0.974315</td>\n",
       "      <td>1.332179</td>\n",
       "      <td>1.609438</td>\n",
       "      <td>0.600000</td>\n",
       "      <td>0.400000</td>\n",
       "      <td>0.0000</td>\n",
       "      <td>0.0</td>\n",
       "      <td>...</td>\n",
       "      <td>0.0</td>\n",
       "      <td>0.0</td>\n",
       "      <td>0.0</td>\n",
       "      <td>0.0</td>\n",
       "      <td>0.0</td>\n",
       "      <td>0.0</td>\n",
       "      <td>0.0</td>\n",
       "      <td>0.0</td>\n",
       "      <td>0.0</td>\n",
       "      <td>0.0</td>\n",
       "    </tr>\n",
       "    <tr>\n",
       "      <th>4</th>\n",
       "      <td>0</td>\n",
       "      <td>0.678209</td>\n",
       "      <td>0.678209</td>\n",
       "      <td>1.625267</td>\n",
       "      <td>1.265001</td>\n",
       "      <td>1.704551</td>\n",
       "      <td>0.413793</td>\n",
       "      <td>0.586207</td>\n",
       "      <td>0.0000</td>\n",
       "      <td>0.0</td>\n",
       "      <td>...</td>\n",
       "      <td>0.0</td>\n",
       "      <td>0.0</td>\n",
       "      <td>0.0</td>\n",
       "      <td>0.0</td>\n",
       "      <td>0.0</td>\n",
       "      <td>0.0</td>\n",
       "      <td>0.0</td>\n",
       "      <td>0.0</td>\n",
       "      <td>0.0</td>\n",
       "      <td>0.0</td>\n",
       "    </tr>\n",
       "  </tbody>\n",
       "</table>\n",
       "<p>5 rows × 140 columns</p>\n",
       "</div>"
      ],
      "text/plain": [
       "   conversion_class  unigram_entropy  bigram_entropy  trigram_entropy  \\\n",
       "0                 0         0.601924        0.601924         1.450805   \n",
       "1                 0         0.661563        0.661563         1.011404   \n",
       "2                 0         0.679193        0.679193         1.193550   \n",
       "3                 0         0.673012        0.673012         0.974315   \n",
       "4                 0         0.678209        0.678209         1.625267   \n",
       "\n",
       "   pattern_hvg_4_nodes_entropy  pattern_hvg_5_node_entropy      (1,)  \\\n",
       "0                     1.054920                    1.332179  0.812500   \n",
       "1                     0.636514                    1.098612  0.625000   \n",
       "2                     0.636514                    1.098612  0.583333   \n",
       "3                     1.332179                    1.609438  0.600000   \n",
       "4                     1.265001                    1.704551  0.413793   \n",
       "\n",
       "       (2,)    (6,)  (3,)  ...   S5   R5   K5   C5   D5   H5   J5   M5   F5  \\\n",
       "0  0.125000  0.0625   0.0  ...  0.0  0.0  0.0  0.0  0.0  0.0  0.0  0.0  0.0   \n",
       "1  0.375000  0.0000   0.0  ...  0.0  0.0  0.0  0.0  0.0  0.0  0.0  0.0  0.0   \n",
       "2  0.416667  0.0000   0.0  ...  0.0  0.0  0.0  0.0  0.0  0.0  0.0  0.0  0.0   \n",
       "3  0.400000  0.0000   0.0  ...  0.0  0.0  0.0  0.0  0.0  0.0  0.0  0.0  0.0   \n",
       "4  0.586207  0.0000   0.0  ...  0.0  0.0  0.0  0.0  0.0  0.0  0.0  0.0  0.0   \n",
       "\n",
       "    I5  \n",
       "0  0.0  \n",
       "1  0.0  \n",
       "2  0.0  \n",
       "3  0.0  \n",
       "4  0.0  \n",
       "\n",
       "[5 rows x 140 columns]"
      ]
     },
     "execution_count": 2,
     "metadata": {},
     "output_type": "execute_result"
    }
   ],
   "source": [
    "shop_df = pd.read_csv('/Users/nitanshjain/Documents/Projects/Shopper_Intent_Prediction/data/shopper_data_slm_feat.csv')\n",
    "shop_df.drop(['session_id_hash', 'product_action', 'reduced_time', 'HVGms_edges', 'pattern_hvg_4_nodes', 'pattern_hvg_5_nodes', 'unigram', 'bigram', 'trigram', 'unigram_prob_freq', 'bigram_prob_freq', 'trigram_prob_freq', 'pattern_hvg_4_nodes_prob_freq', 'pattern_hvg_5_nodes_prob_freq'], axis=1, inplace=True)\n",
    "shop_df['conversion_class'] = np.where(shop_df['conversion_class'] == 'NC', 0, 1)\n",
    "print(shop_df.shape)\n",
    "shop_df.head()"
   ]
  },
  {
   "cell_type": "code",
   "execution_count": 6,
   "metadata": {},
   "outputs": [],
   "source": [
    "x, y = shop_df.drop('conversion_class', axis=1), shop_df['conversion_class']\n",
    "rus = RandomUnderSampler()\n",
    "subsamples = []\n",
    "for _ in range(10):\n",
    "    X_resampled, y_resampled = rus.fit_resample(x, y)\n",
    "    subsamples.append((X_resampled, y_resampled))\n",
    "    "
   ]
  },
  {
   "cell_type": "code",
   "execution_count": 23,
   "metadata": {},
   "outputs": [
    {
     "name": "stdout",
     "output_type": "stream",
     "text": [
      "(8313, 139) (2079, 139) (8313,) (2079,)\n"
     ]
    }
   ],
   "source": [
    "x_train, x_test, y_train, y_test = train_test_split(x, y, test_size=0.2, random_state=42)\n",
    "print(x_train.shape, x_test.shape, y_train.shape, y_test.shape)"
   ]
  },
  {
   "attachments": {},
   "cell_type": "markdown",
   "metadata": {},
   "source": [
    "# MI (Mutual Information)"
   ]
  },
  {
   "cell_type": "code",
   "execution_count": 27,
   "metadata": {},
   "outputs": [
    {
     "name": "stdout",
     "output_type": "stream",
     "text": [
      "14\n",
      "28\n",
      "42\n",
      "69\n"
     ]
    }
   ],
   "source": [
    "mi_feat_list_10_percentile = []\n",
    "mi_feat_list_20_percentile = []\n",
    "mi_feat_list_30_percentile = []\n",
    "mi_feat_list_50_percentile = []\n",
    "\n",
    "for samples in subsamples:\n",
    "    x_sample = samples[0]\n",
    "    y_sample = samples[1]\n",
    "    \n",
    "    sel_10_percentile_cols = SelectPercentile(mutual_info_classif, percentile=10)\n",
    "    sel_10_percentile_cols.fit(x_sample, y_sample)\n",
    "    mi_feat_list_10_percentile.append(x_sample.columns[sel_10_percentile_cols.get_support()])\n",
    "    \n",
    "    sel_20_percentile_cols = SelectPercentile(mutual_info_classif, percentile=20)\n",
    "    sel_20_percentile_cols.fit(x_sample, y_sample)\n",
    "    mi_feat_list_20_percentile.append(x_sample.columns[sel_20_percentile_cols.get_support()])\n",
    "    \n",
    "    sel_30_percentile_cols = SelectPercentile(mutual_info_classif, percentile=30)\n",
    "    sel_30_percentile_cols.fit(x_sample, y_sample)\n",
    "    mi_feat_list_30_percentile.append(x_sample.columns[sel_30_percentile_cols.get_support()])\n",
    "    \n",
    "    sel_50_percentile_cols = SelectPercentile(mutual_info_classif, percentile=50)\n",
    "    sel_50_percentile_cols.fit(x_sample, y_sample)\n",
    "    mi_feat_list_50_percentile.append(x_sample.columns[sel_50_percentile_cols.get_support()])\n",
    "\n",
    "print(len(mi_feat_list_10_percentile[0]))\n",
    "print(len(mi_feat_list_20_percentile[0]))\n",
    "print(len(mi_feat_list_30_percentile[0]))\n",
    "print(len(mi_feat_list_50_percentile[0]))"
   ]
  },
  {
   "attachments": {},
   "cell_type": "markdown",
   "metadata": {},
   "source": [
    "# mRMR"
   ]
  },
  {
   "cell_type": "code",
   "execution_count": 50,
   "metadata": {},
   "outputs": [
    {
     "name": "stdout",
     "output_type": "stream",
     "text": [
      "14\n",
      "28\n",
      "42\n",
      "60\n"
     ]
    }
   ],
   "source": [
    "mrmr_feat_list_10_percentile = []\n",
    "mrmr_feat_list_20_percentile = []\n",
    "mrmr_feat_list_30_percentile = []\n",
    "mrmr_feat_list_50_percentile = []\n",
    "\n",
    "\n",
    "for samples in subsamples:\n",
    "    x_sample = samples[0]\n",
    "    y_sample = samples[1]\n",
    "    \n",
    "    F = pd.Series(f_regression(x_sample, y_sample)[0], index = x_sample.columns)\n",
    "    corr = pd.DataFrame(.001, index = x_sample.columns, columns = x_sample.columns)\n",
    "\n",
    "\n",
    "    # initialize list of selected features and list of excluded features\n",
    "    selected = []\n",
    "    not_selected = x_sample.columns.to_list()\n",
    "    k = 14\n",
    "    # repeat k times\n",
    "    for i in range(k):\n",
    "    \n",
    "        if i > 0:\n",
    "            last_selected = selected[-1]\n",
    "            corr.loc[not_selected, last_selected] = x_sample[not_selected].corrwith(x_sample[last_selected]).abs().clip(.00001)\n",
    "            \n",
    "        score = F.loc[not_selected] / corr.loc[not_selected, selected].mean(axis = 1).fillna(.00001)\n",
    "        best = score.index[score.argmax()]\n",
    "        selected.append(best)\n",
    "        not_selected.remove(best)\n",
    "    mrmr_feat_list_10_percentile.append(selected)\n",
    "    \n",
    "    selected = []\n",
    "    not_selected = x_sample.columns.to_list()\n",
    "    k = 28\n",
    "    # repeat k times\n",
    "    for i in range(k):\n",
    "    \n",
    "        if i > 0:\n",
    "            last_selected = selected[-1]\n",
    "            corr.loc[not_selected, last_selected] = x_sample[not_selected].corrwith(x_sample[last_selected]).abs().clip(.00001)\n",
    "            \n",
    "        score = F.loc[not_selected] / corr.loc[not_selected, selected].mean(axis = 1).fillna(.00001)\n",
    "        best = score.index[score.argmax()]\n",
    "        selected.append(best)\n",
    "        not_selected.remove(best)\n",
    "    mrmr_feat_list_20_percentile.append(selected)\n",
    "     \n",
    "    selected = []\n",
    "    not_selected = x_sample.columns.to_list()   \n",
    "    k = 42\n",
    "    # repeat k times\n",
    "    for i in range(k):\n",
    "    \n",
    "        if i > 0:\n",
    "            last_selected = selected[-1]\n",
    "            corr.loc[not_selected, last_selected] = x_sample[not_selected].corrwith(x_sample[last_selected]).abs().clip(.00001)\n",
    "            \n",
    "        score = F.loc[not_selected] / corr.loc[not_selected, selected].mean(axis = 1).fillna(.00001)\n",
    "        best = score.index[score.argmax()]\n",
    "        selected.append(best)\n",
    "        not_selected.remove(best)\n",
    "    mrmr_feat_list_30_percentile.append(selected)\n",
    "      \n",
    "    selected = []\n",
    "    not_selected = x_sample.columns.to_list()  \n",
    "    k = 60\n",
    "    # repeat k times\n",
    "    for i in range(k):\n",
    "    \n",
    "        if i > 0:\n",
    "            last_selected = selected[-1]\n",
    "            corr.loc[not_selected, last_selected] = x_sample[not_selected].corrwith(x_sample[last_selected]).abs().clip(.00001)\n",
    "            \n",
    "        score = F.loc[not_selected] / corr.loc[not_selected, selected].mean(axis = 1).fillna(.00001)\n",
    "        best = score.index[score.argmax()]\n",
    "        selected.append(best)\n",
    "        not_selected.remove(best)\n",
    "    mrmr_feat_list_50_percentile.append(selected)\n",
    "        \n",
    "        \n",
    "print(len(mrmr_feat_list_10_percentile[0]))\n",
    "print(len(mrmr_feat_list_20_percentile[0]))\n",
    "print(len(mrmr_feat_list_30_percentile[0]))\n",
    "print(len(mrmr_feat_list_50_percentile[0]))"
   ]
  },
  {
   "attachments": {},
   "cell_type": "markdown",
   "metadata": {},
   "source": [
    "# MI & mRMR"
   ]
  },
  {
   "cell_type": "code",
   "execution_count": 62,
   "metadata": {},
   "outputs": [],
   "source": [
    "mi_mrmr_feat_list_10_percentile = []\n",
    "for feat in zip(mi_feat_list_10_percentile, mrmr_feat_list_10_percentile):\n",
    "    mi_mrmr_feat_list_10_percentile.append(list(set(feat[0]).intersection(feat[1])))\n",
    "\n",
    "mi_mrmr_feat_list_20_percentile = []\n",
    "for feat in zip(mi_feat_list_20_percentile, mrmr_feat_list_20_percentile):\n",
    "    mi_mrmr_feat_list_20_percentile.append(list(set(feat[0]).intersection(feat[1])))\n",
    "    \n",
    "mi_mrmr_feat_list_30_percentile = []\n",
    "for feat in zip(mi_feat_list_30_percentile, mrmr_feat_list_30_percentile):\n",
    "    mi_mrmr_feat_list_30_percentile.append(list(set(feat[0]).intersection(feat[1])))\n",
    "    \n",
    "mi_mrmr_feat_list_50_percentile = []\n",
    "for feat in zip(mi_feat_list_50_percentile, mrmr_feat_list_50_percentile):\n",
    "    mi_mrmr_feat_list_50_percentile.append(list(set(feat[0]).intersection(feat[1]))) \n"
   ]
  },
  {
   "attachments": {},
   "cell_type": "markdown",
   "metadata": {},
   "source": [
    "# Saving in CSV and Text Files"
   ]
  },
  {
   "cell_type": "code",
   "execution_count": 63,
   "metadata": {},
   "outputs": [],
   "source": [
    "i = 1\n",
    "for samples in subsamples:\n",
    "    sample_df = pd.concat([samples[0], samples[1]], axis = 1)\n",
    "    sample_df.to_csv('/Users/nitanshjain/Documents/Projects/Shopper_Intent_Prediction/shopper-intent-prediction/subsamples/subsample_' + str(i) + '.csv')\n",
    "    i+=1"
   ]
  },
  {
   "cell_type": "code",
   "execution_count": 78,
   "metadata": {},
   "outputs": [],
   "source": [
    "def write_list_of_lists_to_file(list_of_lists, file_path):\n",
    "    with open(file_path, 'w') as file:\n",
    "        for sublist in list_of_lists:\n",
    "            line = ' '.join(str(element) for element in sublist) + '\\n'\n",
    "            file.write(line)"
   ]
  },
  {
   "cell_type": "code",
   "execution_count": 80,
   "metadata": {},
   "outputs": [],
   "source": [
    "write_list_of_lists_to_file(mi_feat_list_10_percentile, '/Users/nitanshjain/Documents/Projects/Shopper_Intent_Prediction/shopper-intent-prediction/features/mi_feat_list_10_percentile.txt')\n",
    "write_list_of_lists_to_file(mi_feat_list_20_percentile, '/Users/nitanshjain/Documents/Projects/Shopper_Intent_Prediction/shopper-intent-prediction/features/mi_feat_list_20_percentile.txt')\n",
    "write_list_of_lists_to_file(mi_feat_list_30_percentile, '/Users/nitanshjain/Documents/Projects/Shopper_Intent_Prediction/shopper-intent-prediction/features/mi_feat_list_30_percentile.txt')\n",
    "write_list_of_lists_to_file(mi_feat_list_50_percentile, '/Users/nitanshjain/Documents/Projects/Shopper_Intent_Prediction/shopper-intent-prediction/features/mi_feat_list_50_percentile.txt')\n",
    "\n",
    "write_list_of_lists_to_file(mrmr_feat_list_10_percentile, '/Users/nitanshjain/Documents/Projects/Shopper_Intent_Prediction/shopper-intent-prediction/features/mrmr_feat_list_10_percentile.txt')\n",
    "write_list_of_lists_to_file(mrmr_feat_list_20_percentile, '/Users/nitanshjain/Documents/Projects/Shopper_Intent_Prediction/shopper-intent-prediction/features/mrmr_feat_list_20_percentile.txt')\n",
    "write_list_of_lists_to_file(mrmr_feat_list_30_percentile, '/Users/nitanshjain/Documents/Projects/Shopper_Intent_Prediction/shopper-intent-prediction/features/mrmr_feat_list_30_percentile.txt')\n",
    "write_list_of_lists_to_file(mrmr_feat_list_50_percentile, '/Users/nitanshjain/Documents/Projects/Shopper_Intent_Prediction/shopper-intent-prediction/features/mrmr_feat_list_50_percentile.txt')\n",
    "\n",
    "write_list_of_lists_to_file(mi_mrmr_feat_list_10_percentile, '/Users/nitanshjain/Documents/Projects/Shopper_Intent_Prediction/shopper-intent-prediction/features/mi_mrmr_feat_list_10_percentile.txt')\n",
    "write_list_of_lists_to_file(mi_mrmr_feat_list_20_percentile, '/Users/nitanshjain/Documents/Projects/Shopper_Intent_Prediction/shopper-intent-prediction/features/mi_mrmr_feat_list_20_percentile.txt')\n",
    "write_list_of_lists_to_file(mi_mrmr_feat_list_30_percentile, '/Users/nitanshjain/Documents/Projects/Shopper_Intent_Prediction/shopper-intent-prediction/features/mi_mrmr_feat_list_30_percentile.txt')\n",
    "write_list_of_lists_to_file(mi_mrmr_feat_list_50_percentile, '/Users/nitanshjain/Documents/Projects/Shopper_Intent_Prediction/shopper-intent-prediction/features/mi_mrmr_feat_list_50_percentile.txt')\n"
   ]
  },
  {
   "cell_type": "code",
   "execution_count": 75,
   "metadata": {},
   "outputs": [
    {
     "data": {
      "text/plain": [
       "10"
      ]
     },
     "execution_count": 75,
     "metadata": {},
     "output_type": "execute_result"
    }
   ],
   "source": [
    "len(mi_feat_list_10_percentile)"
   ]
  },
  {
   "cell_type": "code",
   "execution_count": 71,
   "metadata": {},
   "outputs": [
    {
     "data": {
      "text/plain": [
       "pandas.core.indexes.base.Index"
      ]
     },
     "execution_count": 71,
     "metadata": {},
     "output_type": "execute_result"
    }
   ],
   "source": []
  },
  {
   "cell_type": "code",
   "execution_count": 69,
   "metadata": {},
   "outputs": [
    {
     "data": {
      "text/plain": [
       "10"
      ]
     },
     "execution_count": 69,
     "metadata": {},
     "output_type": "execute_result"
    }
   ],
   "source": [
    "len(mi_feat_list_10_percentile)"
   ]
  },
  {
   "cell_type": "code",
   "execution_count": 29,
   "metadata": {},
   "outputs": [
    {
     "name": "stdout",
     "output_type": "stream",
     "text": [
      "['(3, 1, 1)', '(2, 4)', 'K5', 'M5', '(3, 1, 4)']\n"
     ]
    }
   ],
   "source": [
    "\n",
    "# https://towardsdatascience.com/mrmr-explained-exactly-how-you-wished-someone-explained-to-you-9cf4ed27458b"
   ]
  }
 ],
 "metadata": {
  "kernelspec": {
   "display_name": "Shopper_Intent_Prediction-jr_Cp9Sf",
   "language": "python",
   "name": "python3"
  },
  "language_info": {
   "codemirror_mode": {
    "name": "ipython",
    "version": 3
   },
   "file_extension": ".py",
   "mimetype": "text/x-python",
   "name": "python",
   "nbconvert_exporter": "python",
   "pygments_lexer": "ipython3",
   "version": "3.10.4"
  },
  "orig_nbformat": 4
 },
 "nbformat": 4,
 "nbformat_minor": 2
}
