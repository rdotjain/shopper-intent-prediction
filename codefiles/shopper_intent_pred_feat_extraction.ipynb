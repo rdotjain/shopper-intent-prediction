{
 "cells": [
  {
   "cell_type": "code",
   "execution_count": null,
   "metadata": {},
   "outputs": [],
   "source": [
    "!pip install ts2vg"
   ]
  },
  {
   "cell_type": "code",
   "execution_count": null,
   "metadata": {},
   "outputs": [],
   "source": [
    "import pandas as pd\n",
    "import numpy as np\n",
    "import seaborn as sns\n",
    "\n",
    "from ts2vg import *\n",
    "from nltk import ngrams"
   ]
  },
  {
   "cell_type": "code",
   "execution_count": null,
   "metadata": {},
   "outputs": [],
   "source": [
    "shop_df = pd.read_csv('/Users/nitanshjain/Documents/Projects/Shopper_Intent_Prediction/data/release_10_23_2020.csv')\n",
    "shop_df.head()"
   ]
  },
  {
   "cell_type": "code",
   "execution_count": null,
   "metadata": {},
   "outputs": [],
   "source": [
    "print(shop_df.event_type.value_counts())\n",
    "print(shop_df.product_action.value_counts())"
   ]
  },
  {
   "cell_type": "code",
   "execution_count": null,
   "metadata": {},
   "outputs": [],
   "source": [
    "print(shop_df['product_action'].unique())\n",
    "shop_df.drop(columns=['event_type', 'product_skus_hash', 'hashed_url'], axis=1, inplace=True)\n",
    "shop_df.head()"
   ]
  },
  {
   "cell_type": "code",
   "execution_count": null,
   "metadata": {},
   "outputs": [],
   "source": [
    "shop_df['product_action'].replace(np.nan,1, inplace=True)\n",
    "symbols = {\n",
    "    'detail': 2,\n",
    "    'add': 3,\n",
    "    'remove': 4,\n",
    "    'purchase': 5,\n",
    "    'click': 6\n",
    "}\n",
    "shop_df['product_action'].replace(symbols, inplace=True)"
   ]
  },
  {
   "cell_type": "code",
   "execution_count": null,
   "metadata": {},
   "outputs": [],
   "source": [
    "shop_df = shop_df.groupby(shop_df.session_id_hash).agg(list).reset_index()\n",
    "print(shop_df.shape)\n",
    "shop_df.head()"
   ]
  },
  {
   "cell_type": "code",
   "execution_count": null,
   "metadata": {},
   "outputs": [],
   "source": [
    "# # Truncating till 8\n",
    "shop_df['conversion_class'] = shop_df['product_action'].apply(lambda x: 'C' if 5 in x else 'NC')\n",
    "shop_df['product_action'] = shop_df['product_action'].apply(lambda x: x[0:x.index(5)] if 5 in x else x)\n",
    "shop_df['product_action'] = shop_df['product_action'].apply(lambda x: x if len(x) >= 8 else np.nan)\n",
    "shop_df.dropna(inplace=True)\n",
    "shop_df['product_action'] = shop_df['product_action'].apply(lambda x: x if len(x) <= 155 else np.nan)\n",
    "shop_df.dropna(inplace=True)\n",
    "print(shop_df.shape)\n",
    "print(shop_df.conversion_class.value_counts())\n",
    "shop_df.head()  "
   ]
  },
  {
   "cell_type": "code",
   "execution_count": null,
   "metadata": {},
   "outputs": [],
   "source": [
    "def reduced_time(time):\n",
    "    index = 0\n",
    "    for sec in time:\n",
    "        if index<len(time)-1:                           # do -2 when using all events\n",
    "            time[index] = abs(time[index+1] - time[index])\n",
    "        index+=1\n",
    "    time.pop()\n",
    "\n",
    "    # final_val = time.pop()\n",
    "    # final_val = abs(final_val - avg)\n",
    "    # time.append(final_val)\n",
    "    \n",
    "    total_time = sum(time)\n",
    "    index = 0\n",
    "    for sec in time:\n",
    "        time[index] = sec/total_time\n",
    "        index+=1\n",
    "    \n",
    "    return time\n",
    "\n",
    "shop_preprocessed_df = shop_df.copy()    \n",
    "shop_preprocessed_df['reduced_time'] = shop_preprocessed_df['server_timestamp_epoch_ms'].apply(lambda x: reduced_time(x))"
   ]
  },
  {
   "cell_type": "code",
   "execution_count": null,
   "metadata": {},
   "outputs": [],
   "source": [
    "shop_preprocessed_df.reset_index(inplace=True)\n",
    "shop_preprocessed_df.drop(['server_timestamp_epoch_ms', 'index'], axis=1, inplace=True)\n",
    "shop_preprocessed_df.head()"
   ]
  },
  {
   "cell_type": "code",
   "execution_count": null,
   "metadata": {},
   "outputs": [],
   "source": [
    "def generate_edges(time_list):\n",
    "    vg = HorizontalVG()\n",
    "    vg.build(time_list)\n",
    "    edges = vg.edges\n",
    "    return edges\n",
    "\n",
    "shop_preprocessed_df['HVGms_edges'] = shop_preprocessed_df['reduced_time'].apply(lambda x: generate_edges(x))\n",
    "shop_preprocessed_df.head()"
   ]
  },
  {
   "cell_type": "code",
   "execution_count": null,
   "metadata": {},
   "outputs": [],
   "source": [
    "def pattern_hvg_4(edges):  \n",
    "    i = 0\n",
    "    j = edges[len(edges)-1][1]\n",
    "    pattern = list()\n",
    "    while i<=int(j/2):\n",
    "        edges_tb_used = [edges for edges in edges if edges[0] >= i and edges[1] <= i+3]\n",
    "        edges_tb_used = sorted(edges_tb_used, key=lambda x: (x[0], x[1]))\n",
    "        # print(i)\n",
    "        if len(edges_tb_used) == 5:\n",
    "            if [(i, i+1), (i, i+3), (i+1, i+2), (i+1, i+3), (i+2, i+3)] == edges_tb_used:\n",
    "                pattern.append('F4')\n",
    "            if [(i, i+1), (i, i+2), (i, i+3), (i+1, i+2), (i+2, i+3)] == edges_tb_used:\n",
    "                pattern.append('E4')\n",
    "        \n",
    "        elif len(edges_tb_used) == 4:\n",
    "            if [(i, i+1), (i+1, i+2), (i+1, i+3), (i+2, i+3)] == edges_tb_used:\n",
    "                pattern.append('D4')\n",
    "            if [(i, i+1), (i, i+2), (i+1, i+2), (i+2, i+3)] == edges_tb_used:\n",
    "                pattern.append('C4')\n",
    "            if [(i, i+1), (i, i+3), (i+1, i+2), (i+2, i+3)] == edges_tb_used:\n",
    "                pattern.append('B4')\n",
    "            \n",
    "        elif len(edges_tb_used) == 3:\n",
    "            pattern.append('A4')\n",
    "        \n",
    "        i+=1\n",
    "                \n",
    "    return pattern"
   ]
  },
  {
   "cell_type": "code",
   "execution_count": null,
   "metadata": {},
   "outputs": [],
   "source": [
    "def pattern_hvg_5(edges):\n",
    "    i = 0\n",
    "    j = edges[len(edges)-1][1]\n",
    "    pattern = list()\n",
    "    # print(\"=====\")\n",
    "    # print(edges)\n",
    "    while i<=int(j/2):\n",
    "        edges_tb_used = [edges for edges in edges if edges[0] >= i and edges[1] <= i+4]\n",
    "        edges_tb_used = sorted(edges_tb_used, key=lambda x: (x[0], x[1]))\n",
    "\n",
    "        if len(edges_tb_used) == 7:\n",
    "            if [(i, i+1), (i, i+2), (i, i+4), (i+1, i+2), (i+2, i+3), (i+2, i+4), (i+3, i+4)] == edges_tb_used:\n",
    "                pattern.append('V5')\n",
    "            elif [(i, i+1), (i, i+3), (i, i+4), (i+1, i+2), (i+1, i+3), (i+2, i+3), (i+3, i+4)] == edges_tb_used:\n",
    "                pattern.append('U5')\n",
    "            elif [(i, i+1), (i, i+4), (i+1, i+2), (i+1, i+3), (i+1, i+4), (i+2, i+3), (i+3, i+4)] == edges_tb_used:\n",
    "                pattern.append('T5')\n",
    "            elif [(i, i+1), (i, i+2), (i, i+3), (i, i+4), (i+1, i+2), (i+2, i+3), (i+3, i+4)] == edges_tb_used:\n",
    "                pattern.append('S5')\n",
    "            elif [(i, i+1), (i, i+4), (i+1, i+2), (i+1, i+4), (i+2, i+3), (i+2, i+4), (i+3, i+4)] == edges_tb_used:\n",
    "                pattern.append('R5')\n",
    "                \n",
    "        elif len(edges_tb_used) == 6:\n",
    "            if [(i, i+1), (i+1, i+2), (i+1, i+3), (i+1, i+4), (i+2, i+3), (i+3, i+4)] == edges_tb_used:\n",
    "                pattern.append('Q5')\n",
    "            elif [(i, i+1), (i, i+3), (i+1, i+2), (i+1, i+3), (i+2, i+3), (i+3, i+4)] == edges_tb_used:\n",
    "                pattern.append('P5')\n",
    "            elif [(i, i+1), (i, i+2), (i, i+3), (i+1, i+2), (i+2, i+3), (i+3, i+4)] == edges_tb_used:\n",
    "                pattern.append('O5')\n",
    "            elif [(i, i+1), (i, i+2), (i+1, i+2), (i+2, i+3), (i+2, i+4), (i+3, i+4)] == edges_tb_used:\n",
    "                pattern.append('N5')\n",
    "            elif [(i, i+1), (i, i+4), (i+1, i+2), (i+1, i+3), (i+2, i+3), (i+3, i+4)] == edges_tb_used:\n",
    "                pattern.append('M5')\n",
    "            elif [(i, i+1), (i+1, i+2), (i+1, i+4), (i+2, i+3), (i+2, i+4), (i+3, i+4)] == edges_tb_used:\n",
    "                pattern.append('L5')\n",
    "            elif [(i, i+1), (i, i+2), (i, i+4), (i+1, i+2), (i+2, i+3), (i+3, i+4)] == edges_tb_used:\n",
    "                pattern.append('K5')\n",
    "            elif [(i, i+1), (i, i+4), (i+1, i+2), (i+2, i+3), (i+2, i+4), (i+3, i+4)] == edges_tb_used:\n",
    "                pattern.append('J5')\n",
    "            elif [(i, i+1), (i, i+3), (i, i+4), (i+1, i+2), (i+2, i+3), (i+3, i+4)] == edges_tb_used:\n",
    "                pattern.append('I5')\n",
    "            elif [(i, i+1), (i, i+4), (i+1, i+2), (i+1, i+4), (i+2, i+3), (i+3, i+4)] == edges_tb_used:\n",
    "                pattern.append('H5')    \n",
    "            \n",
    "        elif len(edges_tb_used) == 5:\n",
    "            if [(i, i+1), (i, i+2), (i+1, i+2), (i+2, i+3), (i+3, i+4)] == edges_tb_used:\n",
    "                pattern.append('G5')\n",
    "            elif [(i, i+1), (i, i+4), (i+1, i+2), (i+2, i+3), (i+3, i+4)] == edges_tb_used:\n",
    "                pattern.append('F5')\n",
    "            elif [(i, i+1), (i+1, i+2), (i+2, i+3), (i+2, i+4), (i+3, i+4)] == edges_tb_used:\n",
    "                pattern.append('E5')\n",
    "            elif [(i, i+1), (i, i+3), (i+1, i+2), (i+2, i+3), (i+3, i+4)] == edges_tb_used:\n",
    "                pattern.append('D5')\n",
    "            elif [(i, i+1), (i+1, i+2), (i+1, i+4), (i+2, i+3), (i+3, i+4)] == edges_tb_used:\n",
    "                pattern.append('C5')\n",
    "            elif [(i, i+1), (i+1, i+2), (i+1, i+3), (i+2, i+3), (i+3, i+4)] == edges_tb_used:\n",
    "                pattern.append('B5')\n",
    "            \n",
    "        elif len(edges_tb_used) == 4:\n",
    "            pattern.append('A5')\n",
    "        # print(pattern)    \n",
    "        i+=1\n",
    "    return pattern"
   ]
  },
  {
   "cell_type": "code",
   "execution_count": null,
   "metadata": {},
   "outputs": [],
   "source": [
    "shop_preprocessed_df['pattern_hvg_4_nodes'] = shop_preprocessed_df['HVGms_edges'].apply(pattern_hvg_4)\n",
    "shop_preprocessed_df['pattern_hvg_5_nodes'] = shop_preprocessed_df['HVGms_edges'].apply(pattern_hvg_5)\n",
    "shop_preprocessed_df.head()"
   ]
  },
  {
   "cell_type": "code",
   "execution_count": null,
   "metadata": {},
   "outputs": [],
   "source": [
    "shop_preprocessed_df['unigram'] = shop_preprocessed_df['product_action'].apply(lambda x: list(ngrams(x, 1)))\n",
    "shop_preprocessed_df['bigram'] = shop_preprocessed_df['product_action'].apply(lambda x: list(ngrams(x, 2)))\n",
    "shop_preprocessed_df['trigram'] = shop_preprocessed_df['product_action'].apply(lambda x: list(ngrams(x, 3)))\n",
    "shop_preprocessed_df.head()"
   ]
  },
  {
   "cell_type": "code",
   "execution_count": null,
   "metadata": {},
   "outputs": [],
   "source": [
    "print(shop_preprocessed_df.unigram)\n",
    "print(shop_preprocessed_df.bigram)\n",
    "print(shop_preprocessed_df.trigram)"
   ]
  },
  {
   "cell_type": "code",
   "execution_count": null,
   "metadata": {},
   "outputs": [],
   "source": [
    "shop_preprocessed_df.to_csv('/Users/nitanshjain/Documents/Projects/Shopper_Intent_Prediction/data/shopper_data_feature_extracted.csv', index=False)"
   ]
  }
 ],
 "metadata": {
  "kernelspec": {
   "display_name": "Shopper_Intent_Prediction-jr_Cp9Sf",
   "language": "python",
   "name": "python3"
  },
  "language_info": {
   "name": "python",
   "version": "3.10.4"
  },
  "orig_nbformat": 4
 },
 "nbformat": 4,
 "nbformat_minor": 2
}
