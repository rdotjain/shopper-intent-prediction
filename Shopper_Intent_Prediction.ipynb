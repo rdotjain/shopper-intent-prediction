{
  "nbformat": 4,
  "nbformat_minor": 0,
  "metadata": {
    "colab": {
      "provenance": [],
      "mount_file_id": "1fPoQqlNqBbOs4Bt0RK-fu4JhubUYy8ad",
      "authorship_tag": "ABX9TyOqy//HIib44tZ4NCvqO4zS",
      "include_colab_link": true
    },
    "kernelspec": {
      "name": "python3",
      "display_name": "Python 3"
    },
    "language_info": {
      "name": "python"
    },
    "accelerator": "GPU",
    "gpuClass": "standard"
  },
  "cells": [
    {
      "cell_type": "markdown",
      "metadata": {
        "id": "view-in-github",
        "colab_type": "text"
      },
      "source": [
        "<a href=\"https://colab.research.google.com/github/rdotjain/shopper-intent-prediction/blob/main/Shopper_Intent_Prediction.ipynb\" target=\"_parent\"><img src=\"https://colab.research.google.com/assets/colab-badge.svg\" alt=\"Open In Colab\"/></a>"
      ]
    },
    {
      "cell_type": "markdown",
      "source": [
        "## Shopper intent prediction from clickstream e-commerce data with minimal browsing information"
      ],
      "metadata": {
        "id": "uc5y_rIME2Z5"
      }
    },
    {
      "cell_type": "code",
      "execution_count": null,
      "metadata": {
        "id": "xjdDDbaWFTx_"
      },
      "outputs": [],
      "source": [
        "import pandas as pd\n",
        "import numpy as np"
      ]
    },
    {
      "cell_type": "markdown",
      "source": [
        "### Pre-Processing the data:\n",
        "1. Symbolisation\n",
        "2. Assigning labels\n",
        "3. Trimming lengths\n",
        "4. Random Sampling\n",
        "5. Padding the sequences"
      ],
      "metadata": {
        "id": "osDCeqaa7Roj"
      }
    },
    {
      "cell_type": "code",
      "source": [
        "df = pd.read_csv(\"/content/drive/MyDrive/SEM-5/Machine Learning/Project/release_10_23_2020.csv\")"
      ],
      "metadata": {
        "id": "E3ZomXPLIcS1"
      },
      "execution_count": null,
      "outputs": []
    },
    {
      "cell_type": "code",
      "source": [
        "df.head()"
      ],
      "metadata": {
        "colab": {
          "base_uri": "https://localhost:8080/",
          "height": 270
        },
        "id": "v2aZQ-FXJxh5",
        "outputId": "7835b280-43cd-40e9-ec44-d8cea14fb60f"
      },
      "execution_count": null,
      "outputs": [
        {
          "output_type": "execute_result",
          "data": {
            "text/plain": [
              "                            session_id_hash event_type product_action  \\\n",
              "0  00000005c19449b57d8d05dfc8b5474be0654032   pageview            NaN   \n",
              "1  00006a0ada94a5186163a25e9ed9c94481c820d9   pageview            NaN   \n",
              "2  00007d15aeb741b3cdd873cb3933351d699cc320   pageview            NaN   \n",
              "3  00007d15aeb741b3cdd873cb3933351d699cc320   pageview            NaN   \n",
              "4  00007d15aeb741b3cdd873cb3933351d699cc320   pageview         detail   \n",
              "\n",
              "                                   product_skus_hash  \\\n",
              "0                                                NaN   \n",
              "1                                                NaN   \n",
              "2                                                NaN   \n",
              "3                                                NaN   \n",
              "4  90add4dd072e160034e98ddea257e0b59441eae00d8955...   \n",
              "\n",
              "   server_timestamp_epoch_ms  \\\n",
              "0              1544469996111   \n",
              "1              1545737959865   \n",
              "2              1544908835402   \n",
              "3              1544908847263   \n",
              "4              1544909035879   \n",
              "\n",
              "                                          hashed_url  \n",
              "0  da99729886aff70a02733b6cd69ee7df35622d9302347e...  \n",
              "1  e2f7e0cee4272e804f0d323a3513dd01716a5a40ab9abf...  \n",
              "2  ea7b2493be61ff454f8cce412f9dc281e605daec8c43b5...  \n",
              "3  ea7b2493be61ff454f8cce412f9dc281e605daec8c43b5...  \n",
              "4  8fa1ecf31ececb27ebe9c529966f3d1f907542fe138d5d...  "
            ],
            "text/html": [
              "\n",
              "  <div id=\"df-a7fd02fe-1419-41a4-8c40-ed7496b4f863\">\n",
              "    <div class=\"colab-df-container\">\n",
              "      <div>\n",
              "<style scoped>\n",
              "    .dataframe tbody tr th:only-of-type {\n",
              "        vertical-align: middle;\n",
              "    }\n",
              "\n",
              "    .dataframe tbody tr th {\n",
              "        vertical-align: top;\n",
              "    }\n",
              "\n",
              "    .dataframe thead th {\n",
              "        text-align: right;\n",
              "    }\n",
              "</style>\n",
              "<table border=\"1\" class=\"dataframe\">\n",
              "  <thead>\n",
              "    <tr style=\"text-align: right;\">\n",
              "      <th></th>\n",
              "      <th>session_id_hash</th>\n",
              "      <th>event_type</th>\n",
              "      <th>product_action</th>\n",
              "      <th>product_skus_hash</th>\n",
              "      <th>server_timestamp_epoch_ms</th>\n",
              "      <th>hashed_url</th>\n",
              "    </tr>\n",
              "  </thead>\n",
              "  <tbody>\n",
              "    <tr>\n",
              "      <th>0</th>\n",
              "      <td>00000005c19449b57d8d05dfc8b5474be0654032</td>\n",
              "      <td>pageview</td>\n",
              "      <td>NaN</td>\n",
              "      <td>NaN</td>\n",
              "      <td>1544469996111</td>\n",
              "      <td>da99729886aff70a02733b6cd69ee7df35622d9302347e...</td>\n",
              "    </tr>\n",
              "    <tr>\n",
              "      <th>1</th>\n",
              "      <td>00006a0ada94a5186163a25e9ed9c94481c820d9</td>\n",
              "      <td>pageview</td>\n",
              "      <td>NaN</td>\n",
              "      <td>NaN</td>\n",
              "      <td>1545737959865</td>\n",
              "      <td>e2f7e0cee4272e804f0d323a3513dd01716a5a40ab9abf...</td>\n",
              "    </tr>\n",
              "    <tr>\n",
              "      <th>2</th>\n",
              "      <td>00007d15aeb741b3cdd873cb3933351d699cc320</td>\n",
              "      <td>pageview</td>\n",
              "      <td>NaN</td>\n",
              "      <td>NaN</td>\n",
              "      <td>1544908835402</td>\n",
              "      <td>ea7b2493be61ff454f8cce412f9dc281e605daec8c43b5...</td>\n",
              "    </tr>\n",
              "    <tr>\n",
              "      <th>3</th>\n",
              "      <td>00007d15aeb741b3cdd873cb3933351d699cc320</td>\n",
              "      <td>pageview</td>\n",
              "      <td>NaN</td>\n",
              "      <td>NaN</td>\n",
              "      <td>1544908847263</td>\n",
              "      <td>ea7b2493be61ff454f8cce412f9dc281e605daec8c43b5...</td>\n",
              "    </tr>\n",
              "    <tr>\n",
              "      <th>4</th>\n",
              "      <td>00007d15aeb741b3cdd873cb3933351d699cc320</td>\n",
              "      <td>pageview</td>\n",
              "      <td>detail</td>\n",
              "      <td>90add4dd072e160034e98ddea257e0b59441eae00d8955...</td>\n",
              "      <td>1544909035879</td>\n",
              "      <td>8fa1ecf31ececb27ebe9c529966f3d1f907542fe138d5d...</td>\n",
              "    </tr>\n",
              "  </tbody>\n",
              "</table>\n",
              "</div>\n",
              "      <button class=\"colab-df-convert\" onclick=\"convertToInteractive('df-a7fd02fe-1419-41a4-8c40-ed7496b4f863')\"\n",
              "              title=\"Convert this dataframe to an interactive table.\"\n",
              "              style=\"display:none;\">\n",
              "        \n",
              "  <svg xmlns=\"http://www.w3.org/2000/svg\" height=\"24px\"viewBox=\"0 0 24 24\"\n",
              "       width=\"24px\">\n",
              "    <path d=\"M0 0h24v24H0V0z\" fill=\"none\"/>\n",
              "    <path d=\"M18.56 5.44l.94 2.06.94-2.06 2.06-.94-2.06-.94-.94-2.06-.94 2.06-2.06.94zm-11 1L8.5 8.5l.94-2.06 2.06-.94-2.06-.94L8.5 2.5l-.94 2.06-2.06.94zm10 10l.94 2.06.94-2.06 2.06-.94-2.06-.94-.94-2.06-.94 2.06-2.06.94z\"/><path d=\"M17.41 7.96l-1.37-1.37c-.4-.4-.92-.59-1.43-.59-.52 0-1.04.2-1.43.59L10.3 9.45l-7.72 7.72c-.78.78-.78 2.05 0 2.83L4 21.41c.39.39.9.59 1.41.59.51 0 1.02-.2 1.41-.59l7.78-7.78 2.81-2.81c.8-.78.8-2.07 0-2.86zM5.41 20L4 18.59l7.72-7.72 1.47 1.35L5.41 20z\"/>\n",
              "  </svg>\n",
              "      </button>\n",
              "      \n",
              "  <style>\n",
              "    .colab-df-container {\n",
              "      display:flex;\n",
              "      flex-wrap:wrap;\n",
              "      gap: 12px;\n",
              "    }\n",
              "\n",
              "    .colab-df-convert {\n",
              "      background-color: #E8F0FE;\n",
              "      border: none;\n",
              "      border-radius: 50%;\n",
              "      cursor: pointer;\n",
              "      display: none;\n",
              "      fill: #1967D2;\n",
              "      height: 32px;\n",
              "      padding: 0 0 0 0;\n",
              "      width: 32px;\n",
              "    }\n",
              "\n",
              "    .colab-df-convert:hover {\n",
              "      background-color: #E2EBFA;\n",
              "      box-shadow: 0px 1px 2px rgba(60, 64, 67, 0.3), 0px 1px 3px 1px rgba(60, 64, 67, 0.15);\n",
              "      fill: #174EA6;\n",
              "    }\n",
              "\n",
              "    [theme=dark] .colab-df-convert {\n",
              "      background-color: #3B4455;\n",
              "      fill: #D2E3FC;\n",
              "    }\n",
              "\n",
              "    [theme=dark] .colab-df-convert:hover {\n",
              "      background-color: #434B5C;\n",
              "      box-shadow: 0px 1px 3px 1px rgba(0, 0, 0, 0.15);\n",
              "      filter: drop-shadow(0px 1px 2px rgba(0, 0, 0, 0.3));\n",
              "      fill: #FFFFFF;\n",
              "    }\n",
              "  </style>\n",
              "\n",
              "      <script>\n",
              "        const buttonEl =\n",
              "          document.querySelector('#df-a7fd02fe-1419-41a4-8c40-ed7496b4f863 button.colab-df-convert');\n",
              "        buttonEl.style.display =\n",
              "          google.colab.kernel.accessAllowed ? 'block' : 'none';\n",
              "\n",
              "        async function convertToInteractive(key) {\n",
              "          const element = document.querySelector('#df-a7fd02fe-1419-41a4-8c40-ed7496b4f863');\n",
              "          const dataTable =\n",
              "            await google.colab.kernel.invokeFunction('convertToInteractive',\n",
              "                                                     [key], {});\n",
              "          if (!dataTable) return;\n",
              "\n",
              "          const docLinkHtml = 'Like what you see? Visit the ' +\n",
              "            '<a target=\"_blank\" href=https://colab.research.google.com/notebooks/data_table.ipynb>data table notebook</a>'\n",
              "            + ' to learn more about interactive tables.';\n",
              "          element.innerHTML = '';\n",
              "          dataTable['output_type'] = 'display_data';\n",
              "          await google.colab.output.renderOutput(dataTable, element);\n",
              "          const docLink = document.createElement('div');\n",
              "          docLink.innerHTML = docLinkHtml;\n",
              "          element.appendChild(docLink);\n",
              "        }\n",
              "      </script>\n",
              "    </div>\n",
              "  </div>\n",
              "  "
            ]
          },
          "metadata": {},
          "execution_count": 3
        }
      ]
    },
    {
      "cell_type": "code",
      "source": [
        "df['product_action'].unique()"
      ],
      "metadata": {
        "colab": {
          "base_uri": "https://localhost:8080/"
        },
        "id": "ub7qzTXjFMcT",
        "outputId": "31893a1d-1c57-4982-91d5-25c75760de09"
      },
      "execution_count": null,
      "outputs": [
        {
          "output_type": "execute_result",
          "data": {
            "text/plain": [
              "array([nan, 'detail', 'click', 'add', 'purchase', 'remove'], dtype=object)"
            ]
          },
          "metadata": {},
          "execution_count": 36
        }
      ]
    },
    {
      "cell_type": "code",
      "source": [
        "df.drop(columns=['event_type', 'product_skus_hash', 'server_timestamp_epoch_ms', 'hashed_url'], axis=1, inplace=True)"
      ],
      "metadata": {
        "id": "PCcQNSnVMXtx"
      },
      "execution_count": null,
      "outputs": []
    },
    {
      "cell_type": "code",
      "source": [
        "df.head()"
      ],
      "metadata": {
        "colab": {
          "base_uri": "https://localhost:8080/",
          "height": 206
        },
        "id": "Y5eEI40vM9EN",
        "outputId": "5314efb7-429f-4066-e003-65de81d96361"
      },
      "execution_count": null,
      "outputs": [
        {
          "output_type": "execute_result",
          "data": {
            "text/plain": [
              "                            session_id_hash product_action\n",
              "0  00000005c19449b57d8d05dfc8b5474be0654032            NaN\n",
              "1  00006a0ada94a5186163a25e9ed9c94481c820d9            NaN\n",
              "2  00007d15aeb741b3cdd873cb3933351d699cc320            NaN\n",
              "3  00007d15aeb741b3cdd873cb3933351d699cc320            NaN\n",
              "4  00007d15aeb741b3cdd873cb3933351d699cc320         detail"
            ],
            "text/html": [
              "\n",
              "  <div id=\"df-8c011eb7-a31f-4721-8078-dfafdab24fb0\">\n",
              "    <div class=\"colab-df-container\">\n",
              "      <div>\n",
              "<style scoped>\n",
              "    .dataframe tbody tr th:only-of-type {\n",
              "        vertical-align: middle;\n",
              "    }\n",
              "\n",
              "    .dataframe tbody tr th {\n",
              "        vertical-align: top;\n",
              "    }\n",
              "\n",
              "    .dataframe thead th {\n",
              "        text-align: right;\n",
              "    }\n",
              "</style>\n",
              "<table border=\"1\" class=\"dataframe\">\n",
              "  <thead>\n",
              "    <tr style=\"text-align: right;\">\n",
              "      <th></th>\n",
              "      <th>session_id_hash</th>\n",
              "      <th>product_action</th>\n",
              "    </tr>\n",
              "  </thead>\n",
              "  <tbody>\n",
              "    <tr>\n",
              "      <th>0</th>\n",
              "      <td>00000005c19449b57d8d05dfc8b5474be0654032</td>\n",
              "      <td>NaN</td>\n",
              "    </tr>\n",
              "    <tr>\n",
              "      <th>1</th>\n",
              "      <td>00006a0ada94a5186163a25e9ed9c94481c820d9</td>\n",
              "      <td>NaN</td>\n",
              "    </tr>\n",
              "    <tr>\n",
              "      <th>2</th>\n",
              "      <td>00007d15aeb741b3cdd873cb3933351d699cc320</td>\n",
              "      <td>NaN</td>\n",
              "    </tr>\n",
              "    <tr>\n",
              "      <th>3</th>\n",
              "      <td>00007d15aeb741b3cdd873cb3933351d699cc320</td>\n",
              "      <td>NaN</td>\n",
              "    </tr>\n",
              "    <tr>\n",
              "      <th>4</th>\n",
              "      <td>00007d15aeb741b3cdd873cb3933351d699cc320</td>\n",
              "      <td>detail</td>\n",
              "    </tr>\n",
              "  </tbody>\n",
              "</table>\n",
              "</div>\n",
              "      <button class=\"colab-df-convert\" onclick=\"convertToInteractive('df-8c011eb7-a31f-4721-8078-dfafdab24fb0')\"\n",
              "              title=\"Convert this dataframe to an interactive table.\"\n",
              "              style=\"display:none;\">\n",
              "        \n",
              "  <svg xmlns=\"http://www.w3.org/2000/svg\" height=\"24px\"viewBox=\"0 0 24 24\"\n",
              "       width=\"24px\">\n",
              "    <path d=\"M0 0h24v24H0V0z\" fill=\"none\"/>\n",
              "    <path d=\"M18.56 5.44l.94 2.06.94-2.06 2.06-.94-2.06-.94-.94-2.06-.94 2.06-2.06.94zm-11 1L8.5 8.5l.94-2.06 2.06-.94-2.06-.94L8.5 2.5l-.94 2.06-2.06.94zm10 10l.94 2.06.94-2.06 2.06-.94-2.06-.94-.94-2.06-.94 2.06-2.06.94z\"/><path d=\"M17.41 7.96l-1.37-1.37c-.4-.4-.92-.59-1.43-.59-.52 0-1.04.2-1.43.59L10.3 9.45l-7.72 7.72c-.78.78-.78 2.05 0 2.83L4 21.41c.39.39.9.59 1.41.59.51 0 1.02-.2 1.41-.59l7.78-7.78 2.81-2.81c.8-.78.8-2.07 0-2.86zM5.41 20L4 18.59l7.72-7.72 1.47 1.35L5.41 20z\"/>\n",
              "  </svg>\n",
              "      </button>\n",
              "      \n",
              "  <style>\n",
              "    .colab-df-container {\n",
              "      display:flex;\n",
              "      flex-wrap:wrap;\n",
              "      gap: 12px;\n",
              "    }\n",
              "\n",
              "    .colab-df-convert {\n",
              "      background-color: #E8F0FE;\n",
              "      border: none;\n",
              "      border-radius: 50%;\n",
              "      cursor: pointer;\n",
              "      display: none;\n",
              "      fill: #1967D2;\n",
              "      height: 32px;\n",
              "      padding: 0 0 0 0;\n",
              "      width: 32px;\n",
              "    }\n",
              "\n",
              "    .colab-df-convert:hover {\n",
              "      background-color: #E2EBFA;\n",
              "      box-shadow: 0px 1px 2px rgba(60, 64, 67, 0.3), 0px 1px 3px 1px rgba(60, 64, 67, 0.15);\n",
              "      fill: #174EA6;\n",
              "    }\n",
              "\n",
              "    [theme=dark] .colab-df-convert {\n",
              "      background-color: #3B4455;\n",
              "      fill: #D2E3FC;\n",
              "    }\n",
              "\n",
              "    [theme=dark] .colab-df-convert:hover {\n",
              "      background-color: #434B5C;\n",
              "      box-shadow: 0px 1px 3px 1px rgba(0, 0, 0, 0.15);\n",
              "      filter: drop-shadow(0px 1px 2px rgba(0, 0, 0, 0.3));\n",
              "      fill: #FFFFFF;\n",
              "    }\n",
              "  </style>\n",
              "\n",
              "      <script>\n",
              "        const buttonEl =\n",
              "          document.querySelector('#df-8c011eb7-a31f-4721-8078-dfafdab24fb0 button.colab-df-convert');\n",
              "        buttonEl.style.display =\n",
              "          google.colab.kernel.accessAllowed ? 'block' : 'none';\n",
              "\n",
              "        async function convertToInteractive(key) {\n",
              "          const element = document.querySelector('#df-8c011eb7-a31f-4721-8078-dfafdab24fb0');\n",
              "          const dataTable =\n",
              "            await google.colab.kernel.invokeFunction('convertToInteractive',\n",
              "                                                     [key], {});\n",
              "          if (!dataTable) return;\n",
              "\n",
              "          const docLinkHtml = 'Like what you see? Visit the ' +\n",
              "            '<a target=\"_blank\" href=https://colab.research.google.com/notebooks/data_table.ipynb>data table notebook</a>'\n",
              "            + ' to learn more about interactive tables.';\n",
              "          element.innerHTML = '';\n",
              "          dataTable['output_type'] = 'display_data';\n",
              "          await google.colab.output.renderOutput(dataTable, element);\n",
              "          const docLink = document.createElement('div');\n",
              "          docLink.innerHTML = docLinkHtml;\n",
              "          element.appendChild(docLink);\n",
              "        }\n",
              "      </script>\n",
              "    </div>\n",
              "  </div>\n",
              "  "
            ]
          },
          "metadata": {},
          "execution_count": 5
        }
      ]
    },
    {
      "cell_type": "code",
      "source": [
        "df.shape"
      ],
      "metadata": {
        "colab": {
          "base_uri": "https://localhost:8080/"
        },
        "id": "WfnmbOkNCOru",
        "outputId": "5e7a2a6e-64ae-434d-df06-ffe8400bf42b"
      },
      "execution_count": null,
      "outputs": [
        {
          "output_type": "execute_result",
          "data": {
            "text/plain": [
              "(5433611, 6)"
            ]
          },
          "metadata": {},
          "execution_count": 35
        }
      ]
    },
    {
      "cell_type": "code",
      "source": [
        "df['product_action'].replace(np.nan,1, inplace=True)"
      ],
      "metadata": {
        "id": "pJPDbUURKnrP"
      },
      "execution_count": null,
      "outputs": []
    },
    {
      "cell_type": "code",
      "source": [
        "symbols = {\n",
        "    'detail': 2,\n",
        "    'add': 3,\n",
        "    'remove': 4,\n",
        "    'purchase': 5,\n",
        "    'click': 6\n",
        "}\n",
        "df['product_action'].replace(symbols, inplace=True)"
      ],
      "metadata": {
        "id": "uoGsKWcpK46W"
      },
      "execution_count": null,
      "outputs": []
    },
    {
      "cell_type": "code",
      "source": [
        "df.head()"
      ],
      "metadata": {
        "colab": {
          "base_uri": "https://localhost:8080/",
          "height": 206
        },
        "id": "5reLFGwQMu9y",
        "outputId": "1ed875fa-8055-48ae-abe7-48887a4475f8"
      },
      "execution_count": null,
      "outputs": [
        {
          "output_type": "execute_result",
          "data": {
            "text/plain": [
              "                            session_id_hash  product_action\n",
              "0  00000005c19449b57d8d05dfc8b5474be0654032               1\n",
              "1  00006a0ada94a5186163a25e9ed9c94481c820d9               1\n",
              "2  00007d15aeb741b3cdd873cb3933351d699cc320               1\n",
              "3  00007d15aeb741b3cdd873cb3933351d699cc320               1\n",
              "4  00007d15aeb741b3cdd873cb3933351d699cc320               2"
            ],
            "text/html": [
              "\n",
              "  <div id=\"df-130c82f5-599e-4547-b3c3-b52d910c8910\">\n",
              "    <div class=\"colab-df-container\">\n",
              "      <div>\n",
              "<style scoped>\n",
              "    .dataframe tbody tr th:only-of-type {\n",
              "        vertical-align: middle;\n",
              "    }\n",
              "\n",
              "    .dataframe tbody tr th {\n",
              "        vertical-align: top;\n",
              "    }\n",
              "\n",
              "    .dataframe thead th {\n",
              "        text-align: right;\n",
              "    }\n",
              "</style>\n",
              "<table border=\"1\" class=\"dataframe\">\n",
              "  <thead>\n",
              "    <tr style=\"text-align: right;\">\n",
              "      <th></th>\n",
              "      <th>session_id_hash</th>\n",
              "      <th>product_action</th>\n",
              "    </tr>\n",
              "  </thead>\n",
              "  <tbody>\n",
              "    <tr>\n",
              "      <th>0</th>\n",
              "      <td>00000005c19449b57d8d05dfc8b5474be0654032</td>\n",
              "      <td>1</td>\n",
              "    </tr>\n",
              "    <tr>\n",
              "      <th>1</th>\n",
              "      <td>00006a0ada94a5186163a25e9ed9c94481c820d9</td>\n",
              "      <td>1</td>\n",
              "    </tr>\n",
              "    <tr>\n",
              "      <th>2</th>\n",
              "      <td>00007d15aeb741b3cdd873cb3933351d699cc320</td>\n",
              "      <td>1</td>\n",
              "    </tr>\n",
              "    <tr>\n",
              "      <th>3</th>\n",
              "      <td>00007d15aeb741b3cdd873cb3933351d699cc320</td>\n",
              "      <td>1</td>\n",
              "    </tr>\n",
              "    <tr>\n",
              "      <th>4</th>\n",
              "      <td>00007d15aeb741b3cdd873cb3933351d699cc320</td>\n",
              "      <td>2</td>\n",
              "    </tr>\n",
              "  </tbody>\n",
              "</table>\n",
              "</div>\n",
              "      <button class=\"colab-df-convert\" onclick=\"convertToInteractive('df-130c82f5-599e-4547-b3c3-b52d910c8910')\"\n",
              "              title=\"Convert this dataframe to an interactive table.\"\n",
              "              style=\"display:none;\">\n",
              "        \n",
              "  <svg xmlns=\"http://www.w3.org/2000/svg\" height=\"24px\"viewBox=\"0 0 24 24\"\n",
              "       width=\"24px\">\n",
              "    <path d=\"M0 0h24v24H0V0z\" fill=\"none\"/>\n",
              "    <path d=\"M18.56 5.44l.94 2.06.94-2.06 2.06-.94-2.06-.94-.94-2.06-.94 2.06-2.06.94zm-11 1L8.5 8.5l.94-2.06 2.06-.94-2.06-.94L8.5 2.5l-.94 2.06-2.06.94zm10 10l.94 2.06.94-2.06 2.06-.94-2.06-.94-.94-2.06-.94 2.06-2.06.94z\"/><path d=\"M17.41 7.96l-1.37-1.37c-.4-.4-.92-.59-1.43-.59-.52 0-1.04.2-1.43.59L10.3 9.45l-7.72 7.72c-.78.78-.78 2.05 0 2.83L4 21.41c.39.39.9.59 1.41.59.51 0 1.02-.2 1.41-.59l7.78-7.78 2.81-2.81c.8-.78.8-2.07 0-2.86zM5.41 20L4 18.59l7.72-7.72 1.47 1.35L5.41 20z\"/>\n",
              "  </svg>\n",
              "      </button>\n",
              "      \n",
              "  <style>\n",
              "    .colab-df-container {\n",
              "      display:flex;\n",
              "      flex-wrap:wrap;\n",
              "      gap: 12px;\n",
              "    }\n",
              "\n",
              "    .colab-df-convert {\n",
              "      background-color: #E8F0FE;\n",
              "      border: none;\n",
              "      border-radius: 50%;\n",
              "      cursor: pointer;\n",
              "      display: none;\n",
              "      fill: #1967D2;\n",
              "      height: 32px;\n",
              "      padding: 0 0 0 0;\n",
              "      width: 32px;\n",
              "    }\n",
              "\n",
              "    .colab-df-convert:hover {\n",
              "      background-color: #E2EBFA;\n",
              "      box-shadow: 0px 1px 2px rgba(60, 64, 67, 0.3), 0px 1px 3px 1px rgba(60, 64, 67, 0.15);\n",
              "      fill: #174EA6;\n",
              "    }\n",
              "\n",
              "    [theme=dark] .colab-df-convert {\n",
              "      background-color: #3B4455;\n",
              "      fill: #D2E3FC;\n",
              "    }\n",
              "\n",
              "    [theme=dark] .colab-df-convert:hover {\n",
              "      background-color: #434B5C;\n",
              "      box-shadow: 0px 1px 3px 1px rgba(0, 0, 0, 0.15);\n",
              "      filter: drop-shadow(0px 1px 2px rgba(0, 0, 0, 0.3));\n",
              "      fill: #FFFFFF;\n",
              "    }\n",
              "  </style>\n",
              "\n",
              "      <script>\n",
              "        const buttonEl =\n",
              "          document.querySelector('#df-130c82f5-599e-4547-b3c3-b52d910c8910 button.colab-df-convert');\n",
              "        buttonEl.style.display =\n",
              "          google.colab.kernel.accessAllowed ? 'block' : 'none';\n",
              "\n",
              "        async function convertToInteractive(key) {\n",
              "          const element = document.querySelector('#df-130c82f5-599e-4547-b3c3-b52d910c8910');\n",
              "          const dataTable =\n",
              "            await google.colab.kernel.invokeFunction('convertToInteractive',\n",
              "                                                     [key], {});\n",
              "          if (!dataTable) return;\n",
              "\n",
              "          const docLinkHtml = 'Like what you see? Visit the ' +\n",
              "            '<a target=\"_blank\" href=https://colab.research.google.com/notebooks/data_table.ipynb>data table notebook</a>'\n",
              "            + ' to learn more about interactive tables.';\n",
              "          element.innerHTML = '';\n",
              "          dataTable['output_type'] = 'display_data';\n",
              "          await google.colab.output.renderOutput(dataTable, element);\n",
              "          const docLink = document.createElement('div');\n",
              "          docLink.innerHTML = docLinkHtml;\n",
              "          element.appendChild(docLink);\n",
              "        }\n",
              "      </script>\n",
              "    </div>\n",
              "  </div>\n",
              "  "
            ]
          },
          "metadata": {},
          "execution_count": 8
        }
      ]
    },
    {
      "cell_type": "code",
      "source": [
        "# generating trajectory\n",
        "# df = df['product_action'].groupby(df.session_id_hash).apply(list).reset_index()\n",
        "df = df.groupby(df.session_id_hash).agg(list).reset_index()"
      ],
      "metadata": {
        "id": "OnXwVy3wZf0c"
      },
      "execution_count": null,
      "outputs": []
    },
    {
      "cell_type": "code",
      "source": [
        "df.head(10)"
      ],
      "metadata": {
        "colab": {
          "base_uri": "https://localhost:8080/",
          "height": 363
        },
        "id": "BkQwt43vdnAf",
        "outputId": "6dc32d93-3464-4ad7-f752-5d9981402f0c"
      },
      "execution_count": null,
      "outputs": [
        {
          "output_type": "execute_result",
          "data": {
            "text/plain": [
              "                            session_id_hash  \\\n",
              "0  00000005c19449b57d8d05dfc8b5474be0654032   \n",
              "1  00006a0ada94a5186163a25e9ed9c94481c820d9   \n",
              "2  00007d15aeb741b3cdd873cb3933351d699cc320   \n",
              "3  0000c49d1359c87f112285d63a9fc0d4c50f73b4   \n",
              "4  0001135282dbaf0e734345212ea6f8da9f5b66ed   \n",
              "5  00014c4428e61aca7e64be1064d2b6cf49233cfb   \n",
              "6  0001e008596ab6c395f1faa7ac3ef0e156344a87   \n",
              "7  00024193b68493dc098deb8a7d074ae438c615af   \n",
              "8  00028b80bf689df0077a943c0fa882b15d3d4c7c   \n",
              "9  0002a004f97a67d0e3d925f8fc7fffdba677c469   \n",
              "\n",
              "                                     product_action  \n",
              "0                                               [1]  \n",
              "1                                               [1]  \n",
              "2                             [1, 1, 2, 1, 2, 1, 2]  \n",
              "3                                         [1, 1, 1]  \n",
              "4                                               [1]  \n",
              "5  [1, 1, 1, 1, 1, 1, 2, 6, 1, 2, 1, 1, 1, 1, 1, 1]  \n",
              "6                                      [1, 1, 1, 1]  \n",
              "7                                   [1, 1, 2, 6, 1]  \n",
              "8                                               [1]  \n",
              "9                                            [1, 1]  "
            ],
            "text/html": [
              "\n",
              "  <div id=\"df-78d068bd-5e9f-4b1e-8709-233e84734375\">\n",
              "    <div class=\"colab-df-container\">\n",
              "      <div>\n",
              "<style scoped>\n",
              "    .dataframe tbody tr th:only-of-type {\n",
              "        vertical-align: middle;\n",
              "    }\n",
              "\n",
              "    .dataframe tbody tr th {\n",
              "        vertical-align: top;\n",
              "    }\n",
              "\n",
              "    .dataframe thead th {\n",
              "        text-align: right;\n",
              "    }\n",
              "</style>\n",
              "<table border=\"1\" class=\"dataframe\">\n",
              "  <thead>\n",
              "    <tr style=\"text-align: right;\">\n",
              "      <th></th>\n",
              "      <th>session_id_hash</th>\n",
              "      <th>product_action</th>\n",
              "    </tr>\n",
              "  </thead>\n",
              "  <tbody>\n",
              "    <tr>\n",
              "      <th>0</th>\n",
              "      <td>00000005c19449b57d8d05dfc8b5474be0654032</td>\n",
              "      <td>[1]</td>\n",
              "    </tr>\n",
              "    <tr>\n",
              "      <th>1</th>\n",
              "      <td>00006a0ada94a5186163a25e9ed9c94481c820d9</td>\n",
              "      <td>[1]</td>\n",
              "    </tr>\n",
              "    <tr>\n",
              "      <th>2</th>\n",
              "      <td>00007d15aeb741b3cdd873cb3933351d699cc320</td>\n",
              "      <td>[1, 1, 2, 1, 2, 1, 2]</td>\n",
              "    </tr>\n",
              "    <tr>\n",
              "      <th>3</th>\n",
              "      <td>0000c49d1359c87f112285d63a9fc0d4c50f73b4</td>\n",
              "      <td>[1, 1, 1]</td>\n",
              "    </tr>\n",
              "    <tr>\n",
              "      <th>4</th>\n",
              "      <td>0001135282dbaf0e734345212ea6f8da9f5b66ed</td>\n",
              "      <td>[1]</td>\n",
              "    </tr>\n",
              "    <tr>\n",
              "      <th>5</th>\n",
              "      <td>00014c4428e61aca7e64be1064d2b6cf49233cfb</td>\n",
              "      <td>[1, 1, 1, 1, 1, 1, 2, 6, 1, 2, 1, 1, 1, 1, 1, 1]</td>\n",
              "    </tr>\n",
              "    <tr>\n",
              "      <th>6</th>\n",
              "      <td>0001e008596ab6c395f1faa7ac3ef0e156344a87</td>\n",
              "      <td>[1, 1, 1, 1]</td>\n",
              "    </tr>\n",
              "    <tr>\n",
              "      <th>7</th>\n",
              "      <td>00024193b68493dc098deb8a7d074ae438c615af</td>\n",
              "      <td>[1, 1, 2, 6, 1]</td>\n",
              "    </tr>\n",
              "    <tr>\n",
              "      <th>8</th>\n",
              "      <td>00028b80bf689df0077a943c0fa882b15d3d4c7c</td>\n",
              "      <td>[1]</td>\n",
              "    </tr>\n",
              "    <tr>\n",
              "      <th>9</th>\n",
              "      <td>0002a004f97a67d0e3d925f8fc7fffdba677c469</td>\n",
              "      <td>[1, 1]</td>\n",
              "    </tr>\n",
              "  </tbody>\n",
              "</table>\n",
              "</div>\n",
              "      <button class=\"colab-df-convert\" onclick=\"convertToInteractive('df-78d068bd-5e9f-4b1e-8709-233e84734375')\"\n",
              "              title=\"Convert this dataframe to an interactive table.\"\n",
              "              style=\"display:none;\">\n",
              "        \n",
              "  <svg xmlns=\"http://www.w3.org/2000/svg\" height=\"24px\"viewBox=\"0 0 24 24\"\n",
              "       width=\"24px\">\n",
              "    <path d=\"M0 0h24v24H0V0z\" fill=\"none\"/>\n",
              "    <path d=\"M18.56 5.44l.94 2.06.94-2.06 2.06-.94-2.06-.94-.94-2.06-.94 2.06-2.06.94zm-11 1L8.5 8.5l.94-2.06 2.06-.94-2.06-.94L8.5 2.5l-.94 2.06-2.06.94zm10 10l.94 2.06.94-2.06 2.06-.94-2.06-.94-.94-2.06-.94 2.06-2.06.94z\"/><path d=\"M17.41 7.96l-1.37-1.37c-.4-.4-.92-.59-1.43-.59-.52 0-1.04.2-1.43.59L10.3 9.45l-7.72 7.72c-.78.78-.78 2.05 0 2.83L4 21.41c.39.39.9.59 1.41.59.51 0 1.02-.2 1.41-.59l7.78-7.78 2.81-2.81c.8-.78.8-2.07 0-2.86zM5.41 20L4 18.59l7.72-7.72 1.47 1.35L5.41 20z\"/>\n",
              "  </svg>\n",
              "      </button>\n",
              "      \n",
              "  <style>\n",
              "    .colab-df-container {\n",
              "      display:flex;\n",
              "      flex-wrap:wrap;\n",
              "      gap: 12px;\n",
              "    }\n",
              "\n",
              "    .colab-df-convert {\n",
              "      background-color: #E8F0FE;\n",
              "      border: none;\n",
              "      border-radius: 50%;\n",
              "      cursor: pointer;\n",
              "      display: none;\n",
              "      fill: #1967D2;\n",
              "      height: 32px;\n",
              "      padding: 0 0 0 0;\n",
              "      width: 32px;\n",
              "    }\n",
              "\n",
              "    .colab-df-convert:hover {\n",
              "      background-color: #E2EBFA;\n",
              "      box-shadow: 0px 1px 2px rgba(60, 64, 67, 0.3), 0px 1px 3px 1px rgba(60, 64, 67, 0.15);\n",
              "      fill: #174EA6;\n",
              "    }\n",
              "\n",
              "    [theme=dark] .colab-df-convert {\n",
              "      background-color: #3B4455;\n",
              "      fill: #D2E3FC;\n",
              "    }\n",
              "\n",
              "    [theme=dark] .colab-df-convert:hover {\n",
              "      background-color: #434B5C;\n",
              "      box-shadow: 0px 1px 3px 1px rgba(0, 0, 0, 0.15);\n",
              "      filter: drop-shadow(0px 1px 2px rgba(0, 0, 0, 0.3));\n",
              "      fill: #FFFFFF;\n",
              "    }\n",
              "  </style>\n",
              "\n",
              "      <script>\n",
              "        const buttonEl =\n",
              "          document.querySelector('#df-78d068bd-5e9f-4b1e-8709-233e84734375 button.colab-df-convert');\n",
              "        buttonEl.style.display =\n",
              "          google.colab.kernel.accessAllowed ? 'block' : 'none';\n",
              "\n",
              "        async function convertToInteractive(key) {\n",
              "          const element = document.querySelector('#df-78d068bd-5e9f-4b1e-8709-233e84734375');\n",
              "          const dataTable =\n",
              "            await google.colab.kernel.invokeFunction('convertToInteractive',\n",
              "                                                     [key], {});\n",
              "          if (!dataTable) return;\n",
              "\n",
              "          const docLinkHtml = 'Like what you see? Visit the ' +\n",
              "            '<a target=\"_blank\" href=https://colab.research.google.com/notebooks/data_table.ipynb>data table notebook</a>'\n",
              "            + ' to learn more about interactive tables.';\n",
              "          element.innerHTML = '';\n",
              "          dataTable['output_type'] = 'display_data';\n",
              "          await google.colab.output.renderOutput(dataTable, element);\n",
              "          const docLink = document.createElement('div');\n",
              "          docLink.innerHTML = docLinkHtml;\n",
              "          element.appendChild(docLink);\n",
              "        }\n",
              "      </script>\n",
              "    </div>\n",
              "  </div>\n",
              "  "
            ]
          },
          "metadata": {},
          "execution_count": 10
        }
      ]
    },
    {
      "cell_type": "code",
      "source": [
        "# Adding labels\n",
        "df['label'] = df['product_action'].apply(lambda x: 1 if 5 in x else 0)"
      ],
      "metadata": {
        "id": "8R5u7m59eURk"
      },
      "execution_count": null,
      "outputs": []
    },
    {
      "cell_type": "code",
      "source": [
        "df[df['label'] == 1].count(), df[df['label'] == 0].count()"
      ],
      "metadata": {
        "colab": {
          "base_uri": "https://localhost:8080/"
        },
        "id": "kSASlOZCtIE6",
        "outputId": "0501e51d-b165-46ab-e259-58a5f5f2cbaa"
      },
      "execution_count": null,
      "outputs": [
        {
          "output_type": "execute_result",
          "data": {
            "text/plain": [
              "(session_id_hash    9232\n",
              " product_action     9232\n",
              " label              9232\n",
              " dtype: int64, session_id_hash    434428\n",
              " product_action     434428\n",
              " label              434428\n",
              " dtype: int64)"
            ]
          },
          "metadata": {},
          "execution_count": 12
        }
      ]
    },
    {
      "cell_type": "code",
      "source": [
        "# Truncating till 5\n",
        "df['product_action'] = df['product_action'].apply(lambda x: x[0:x.index(5)] if 5 in x else x)\n",
        "    "
      ],
      "metadata": {
        "id": "MZNsaYgR0g-P"
      },
      "execution_count": null,
      "outputs": []
    },
    {
      "cell_type": "code",
      "source": [
        "X = df['product_action'].values\n",
        "y = df['label']"
      ],
      "metadata": {
        "id": "Zxt8CHlhdM6H"
      },
      "execution_count": null,
      "outputs": []
    },
    {
      "cell_type": "code",
      "source": [
        "X.shape, y.shape"
      ],
      "metadata": {
        "colab": {
          "base_uri": "https://localhost:8080/"
        },
        "id": "zdOfd2l9f9z1",
        "outputId": "73767077-e6f8-4d6e-9e3d-8deb4407f77a"
      },
      "execution_count": null,
      "outputs": [
        {
          "output_type": "execute_result",
          "data": {
            "text/plain": [
              "((443660,), (443660,))"
            ]
          },
          "metadata": {},
          "execution_count": 14
        }
      ]
    },
    {
      "cell_type": "code",
      "source": [
        "X = X.reshape(-1,1)"
      ],
      "metadata": {
        "id": "7Js5i-cTpLoh"
      },
      "execution_count": null,
      "outputs": []
    },
    {
      "cell_type": "markdown",
      "source": [
        "#### Oversampling"
      ],
      "metadata": {
        "id": "fjxz6LruLiCk"
      }
    },
    {
      "cell_type": "code",
      "source": [
        "from imblearn.over_sampling import RandomOverSampler\n",
        "os =  RandomOverSampler(0.85)\n",
        "X_train_res, y_train_res = os.fit_resample(X,y)\n",
        "X_train_res.shape,y_train_res.shape"
      ],
      "metadata": {
        "colab": {
          "base_uri": "https://localhost:8080/"
        },
        "id": "CW3yPFDk5hR0",
        "outputId": "6f4a0846-b908-41ba-c9b5-7e28a904eb81"
      },
      "execution_count": null,
      "outputs": [
        {
          "output_type": "stream",
          "name": "stderr",
          "text": [
            "/usr/local/lib/python3.7/dist-packages/imblearn/utils/_validation.py:591: FutureWarning: Pass sampling_strategy=0.85 as keyword args. From version 0.9 passing these as positional arguments will result in an error\n",
            "  FutureWarning,\n"
          ]
        },
        {
          "output_type": "execute_result",
          "data": {
            "text/plain": [
              "((803691, 1), (803691,))"
            ]
          },
          "metadata": {},
          "execution_count": 38
        }
      ]
    },
    {
      "cell_type": "code",
      "source": [
        "from sklearn.model_selection import train_test_split\n",
        "X_train, X_test, y_train, y_test = train_test_split(X_train_res, y_train_res, test_size = 0.3, random_state = 42)"
      ],
      "metadata": {
        "id": "LFkKwokzdMmy"
      },
      "execution_count": null,
      "outputs": []
    },
    {
      "cell_type": "markdown",
      "source": [
        "#### Undersampling"
      ],
      "metadata": {
        "id": "dYGk8esfLqIR"
      }
    },
    {
      "cell_type": "code",
      "source": [
        "from imblearn.under_sampling import RandomUnderSampler\n",
        "us =  RandomUnderSampler(1)\n",
        "X_train_rus, y_train_rus =us.fit_resample(X,y)\n",
        "X_train_rus.shape,y_train_rus.shape"
      ],
      "metadata": {
        "colab": {
          "base_uri": "https://localhost:8080/"
        },
        "id": "RFebom0dGKa1",
        "outputId": "27bdbc68-036f-4517-8bf6-22dc5477f595"
      },
      "execution_count": null,
      "outputs": [
        {
          "output_type": "stream",
          "name": "stderr",
          "text": [
            "/usr/local/lib/python3.7/dist-packages/imblearn/utils/_validation.py:591: FutureWarning: Pass sampling_strategy=1 as keyword args. From version 0.9 passing these as positional arguments will result in an error\n",
            "  FutureWarning,\n"
          ]
        },
        {
          "output_type": "execute_result",
          "data": {
            "text/plain": [
              "((18464, 1), (18464,))"
            ]
          },
          "metadata": {},
          "execution_count": 16
        }
      ]
    },
    {
      "cell_type": "code",
      "source": [
        "from sklearn.model_selection import train_test_split\n",
        "X_train, X_test, y_train, y_test = train_test_split(X_train_rus, y_train_rus, test_size = 0.2, random_state = 42)"
      ],
      "metadata": {
        "id": "v2R-yHXaHRaU"
      },
      "execution_count": null,
      "outputs": []
    },
    {
      "cell_type": "code",
      "source": [
        "X_train.shape, X_test.shape, y_train.shape, y_test.shape"
      ],
      "metadata": {
        "colab": {
          "base_uri": "https://localhost:8080/"
        },
        "id": "O5Zfk_LrgX0K",
        "outputId": "ecfd3203-1de9-4e33-cfa2-17e265d1faeb"
      },
      "execution_count": null,
      "outputs": [
        {
          "output_type": "execute_result",
          "data": {
            "text/plain": [
              "((14771, 1), (3693, 1), (14771,), (3693,))"
            ]
          },
          "metadata": {},
          "execution_count": 18
        }
      ]
    },
    {
      "cell_type": "markdown",
      "source": [
        "#### Padding"
      ],
      "metadata": {
        "id": "W8qspmISLvNz"
      }
    },
    {
      "cell_type": "code",
      "source": [
        "X_train = X_train.flatten()\n",
        "X_test = X_test.flatten()"
      ],
      "metadata": {
        "id": "Cm8eaw4d7an0"
      },
      "execution_count": null,
      "outputs": []
    },
    {
      "cell_type": "code",
      "source": [
        "# Padding\n",
        "from keras_preprocessing.sequence import pad_sequences\n",
        "max_length = 50\n",
        "train_pad = pad_sequences(X_train, maxlen=max_length, padding='post', truncating='post')\n",
        "test_pad = pad_sequences(X_test, maxlen=max_length, padding='post', truncating='post')\n",
        "\n",
        "train_pad.shape, test_pad.shape, y_train.shape, y_test.shape"
      ],
      "metadata": {
        "colab": {
          "base_uri": "https://localhost:8080/"
        },
        "id": "6-cuZEltdMbA",
        "outputId": "91b62990-7247-496c-a280-f5c51a7c1549"
      },
      "execution_count": null,
      "outputs": [
        {
          "output_type": "execute_result",
          "data": {
            "text/plain": [
              "((14771, 50), (3693, 50), (14771,), (3693,))"
            ]
          },
          "metadata": {},
          "execution_count": 20
        }
      ]
    },
    {
      "cell_type": "markdown",
      "source": [
        "### Classification using Logistic Regression"
      ],
      "metadata": {
        "id": "yjDcw5HE8M1X"
      }
    },
    {
      "cell_type": "code",
      "source": [
        "from sklearn.linear_model import LogisticRegression\n",
        "lr = LogisticRegression()\n",
        "lr.fit(train_pad, y_train)"
      ],
      "metadata": {
        "colab": {
          "base_uri": "https://localhost:8080/"
        },
        "id": "3uvD59mhera4",
        "outputId": "afb3d548-93e1-4336-c8f1-d6ba6e5a458a"
      },
      "execution_count": null,
      "outputs": [
        {
          "output_type": "execute_result",
          "data": {
            "text/plain": [
              "LogisticRegression()"
            ]
          },
          "metadata": {},
          "execution_count": 21
        }
      ]
    },
    {
      "cell_type": "code",
      "source": [
        "y_pred = lr.predict(test_pad)"
      ],
      "metadata": {
        "id": "tPydumEgeyok"
      },
      "execution_count": null,
      "outputs": []
    },
    {
      "cell_type": "markdown",
      "source": [
        "### Performance Evaluation"
      ],
      "metadata": {
        "id": "z9_BORoz8SrF"
      }
    },
    {
      "cell_type": "code",
      "source": [
        "from sklearn.metrics import accuracy_score\n",
        "score = accuracy_score(y_test, y_pred)\n",
        "score"
      ],
      "metadata": {
        "colab": {
          "base_uri": "https://localhost:8080/"
        },
        "id": "CW5ddF_DfJqB",
        "outputId": "2eded46c-e097-435a-c9eb-08cb91ee8b5a"
      },
      "execution_count": null,
      "outputs": [
        {
          "output_type": "execute_result",
          "data": {
            "text/plain": [
              "0.7803953425399405"
            ]
          },
          "metadata": {},
          "execution_count": 60
        }
      ]
    },
    {
      "cell_type": "code",
      "source": [
        "from sklearn.metrics import confusion_matrix\n",
        "print(confusion_matrix(y_test, y_pred))"
      ],
      "metadata": {
        "colab": {
          "base_uri": "https://localhost:8080/"
        },
        "id": "M3CAq_VHleJB",
        "outputId": "9be5e95a-1ce6-4ed8-a792-b2a8e3df7bf1"
      },
      "execution_count": null,
      "outputs": [
        {
          "output_type": "stream",
          "name": "stdout",
          "text": [
            "[[1401  461]\n",
            " [ 350 1481]]\n"
          ]
        }
      ]
    },
    {
      "cell_type": "code",
      "source": [
        "from sklearn.metrics import classification_report\n",
        "print(classification_report(y_test, y_pred))"
      ],
      "metadata": {
        "colab": {
          "base_uri": "https://localhost:8080/"
        },
        "id": "5J0fwQgGl63A",
        "outputId": "ec730019-efe2-459f-cb70-61c02c5e2bc0"
      },
      "execution_count": null,
      "outputs": [
        {
          "output_type": "stream",
          "name": "stdout",
          "text": [
            "              precision    recall  f1-score   support\n",
            "\n",
            "           0       0.80      0.75      0.78      1862\n",
            "           1       0.76      0.81      0.79      1831\n",
            "\n",
            "    accuracy                           0.78      3693\n",
            "   macro avg       0.78      0.78      0.78      3693\n",
            "weighted avg       0.78      0.78      0.78      3693\n",
            "\n"
          ]
        }
      ]
    },
    {
      "cell_type": "markdown",
      "source": [
        "### Handcrafted classification using Logistic Regression"
      ],
      "metadata": {
        "id": "3sMcmDc_8aKO"
      }
    },
    {
      "cell_type": "code",
      "source": [
        "n=1000 #number of iterations\n",
        "alpha=0.01\n",
        "m,k=train_pad.shape\n",
        "beta=np.zeros(k)\n",
        "for i in range(n):\n",
        "  cost_gradient=np.zeros(k)\n",
        "  z=train_pad.dot(beta)\n",
        "  predicted=1/(1+np.exp(-z))\n",
        "  difference=predicted-y_train\n",
        "  for j in range(k):\n",
        "    cost_gradient[j]=np.sum(difference.dot(train_pad[:,j]))\n",
        "  for j in range(k):\n",
        "    beta[j]=beta[j]-(alpha/m)*cost_gradient[j]\n",
        "print(beta)"
      ],
      "metadata": {
        "colab": {
          "base_uri": "https://localhost:8080/"
        },
        "id": "YsTbZ1498iyD",
        "outputId": "c49816a2-e290-471a-a9fa-d5e205df7734"
      },
      "execution_count": null,
      "outputs": [
        {
          "output_type": "stream",
          "name": "stdout",
          "text": [
            "[-0.73951232 -0.09903507 -0.00572378  0.18309074  0.20441006  0.11516949\n",
            "  0.06973324  0.08148214  0.06052127  0.05676132  0.02779108  0.02209839\n",
            "  0.03068187  0.04071844  0.0036508   0.02909629  0.02722849  0.05118006\n",
            "  0.03243948  0.01882679  0.03741282  0.02377449  0.03517182  0.01427672\n",
            "  0.03420589  0.00425386  0.01530174  0.01653195  0.02430181  0.02183944\n",
            "  0.00405226  0.02994029  0.01459375  0.00987971  0.02899325  0.02397102\n",
            "  0.0267231   0.01770691  0.01311867  0.0232082   0.01763685  0.03087377\n",
            "  0.02920562  0.00819122  0.00946635  0.04254286  0.03726379  0.02237837\n",
            "  0.03385947  0.04352075]\n"
          ]
        }
      ]
    },
    {
      "cell_type": "code",
      "source": [
        "Y_predict=1/(1+np.exp(-(test_pad.dot(beta))))\n",
        "y_label=np.zeros(len(Y_predict))\n",
        "for i in range(len(Y_predict)):\n",
        "  if(Y_predict[i]>=0.5):\n",
        "    y_label[i]=1"
      ],
      "metadata": {
        "id": "XhT_acr58nnM"
      },
      "execution_count": null,
      "outputs": []
    },
    {
      "cell_type": "markdown",
      "source": [
        "### Performance Evaluation"
      ],
      "metadata": {
        "id": "qT-D_op9_QI0"
      }
    },
    {
      "cell_type": "code",
      "source": [
        "y_test = np.array(y_test).reshape(-1,1)\n",
        "tp = 0\n",
        "tn = 0\n",
        "fp = 0\n",
        "fn = 0\n",
        "\n",
        "for j in range(len(y_label)):\n",
        "  if(y_test[j] ==1 and y_label[j]==1):\n",
        "    tp = tp+1\n",
        "  elif(y_test[j]==1 and y_label[j]==0):\n",
        "    fn = fn+1\n",
        "  elif(y_test[j]==0 and y_label[j]==0):\n",
        "    tn = tn+1\n",
        "  elif(y_test[j]==0 and y_label[j]==1):\n",
        "    fp = fp+1\n",
        "\n",
        "accuracy = (tp+tn)/(tp+tn+fp+fn)\n",
        "print(accuracy)\n",
        "print(tp)"
      ],
      "metadata": {
        "colab": {
          "base_uri": "https://localhost:8080/"
        },
        "id": "ksgcJEdB8p91",
        "outputId": "d0e74d6f-5de5-48fb-a77d-446b1a4717f3"
      },
      "execution_count": null,
      "outputs": [
        {
          "output_type": "stream",
          "name": "stdout",
          "text": [
            "0.7497969130787977\n",
            "1500\n"
          ]
        }
      ]
    },
    {
      "cell_type": "code",
      "source": [
        "precision_pos=tp/(tp+fp)\n",
        "recall_pos=tp/(tp+fn)\n",
        "f1_score_pos=2*precision_pos*recall_pos/(precision_pos+recall_pos)\n",
        "print(precision_pos,recall_pos,f1_score_pos)\n",
        "#For negative class\n",
        "precision_neg=tn/(tn+fn)\n",
        "recall_neg=tn/(tn+fp)\n",
        "f1_score_neg=2*precision_neg*recall_neg/(precision_neg+recall_neg)\n",
        "print(precision_neg,recall_neg,f1_score_neg)"
      ],
      "metadata": {
        "colab": {
          "base_uri": "https://localhost:8080/"
        },
        "id": "oTx1iIir8s13",
        "outputId": "f1954679-f09e-4b38-de96-23b74eb27f33"
      },
      "execution_count": null,
      "outputs": [
        {
          "output_type": "stream",
          "name": "stdout",
          "text": [
            "0.716674629718108 0.8192244675040962 0.764525993883792\n",
            "0.793125 0.6815252416756176 0.7331022530329289\n"
          ]
        }
      ]
    },
    {
      "cell_type": "code",
      "source": [
        "import sklearn.metrics as sm\n",
        "import seaborn as sb\n",
        "import matplotlib.pyplot as plt\n",
        "array = sm.confusion_matrix(y_test,y_label)\n",
        "df_cm = pd.DataFrame(array)\n",
        "# plt.figure(figsize=(10,7))\n",
        "sb.set(font_scale=1.4) # for label size\n",
        "sb.heatmap(df_cm, annot=True, annot_kws={\"size\": 12},fmt='d') # font size\n",
        "plt.xlabel(\"Predicted\")\n",
        "plt.ylabel(\"Actual\")\n",
        "plt.show()"
      ],
      "metadata": {
        "colab": {
          "base_uri": "https://localhost:8080/",
          "height": 295
        },
        "id": "Ggv4aDtz8vHq",
        "outputId": "ff5556ab-0477-46c0-e789-f7ffef2f0c35"
      },
      "execution_count": null,
      "outputs": [
        {
          "output_type": "display_data",
          "data": {
            "text/plain": [
              "<Figure size 432x288 with 2 Axes>"
            ],
            "image/png": "[encoded data removed]"
          },
          "metadata": {}
        }
      ]
    },
    {
      "cell_type": "code",
      "source": [
        "from sklearn.metrics import classification_report\n",
        "print(classification_report(y_test, y_label))"
      ],
      "metadata": {
        "colab": {
          "base_uri": "https://localhost:8080/"
        },
        "id": "Il2agkSn9IiP",
        "outputId": "6c348f59-aaa8-4291-8f28-a7bc905255e0"
      },
      "execution_count": null,
      "outputs": [
        {
          "output_type": "stream",
          "name": "stdout",
          "text": [
            "              precision    recall  f1-score   support\n",
            "\n",
            "           0       0.79      0.68      0.73      1862\n",
            "           1       0.72      0.82      0.76      1831\n",
            "\n",
            "    accuracy                           0.75      3693\n",
            "   macro avg       0.75      0.75      0.75      3693\n",
            "weighted avg       0.76      0.75      0.75      3693\n",
            "\n"
          ]
        }
      ]
    }
  ]
}